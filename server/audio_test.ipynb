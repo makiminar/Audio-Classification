{
 "cells": [
  {
   "cell_type": "code",
   "execution_count": 5,
   "id": "76257e2b-9d7e-4a37-a68f-906c25d04baa",
   "metadata": {},
   "outputs": [
    {
     "name": "stdout",
     "output_type": "stream",
     "text": [
      "171909.36511084394\n"
     ]
    },
    {
     "data": {
      "text/plain": "{'classical': 100.0}"
     },
     "execution_count": 5,
     "metadata": {},
     "output_type": "execute_result"
    }
   ],
   "source": [
    "from audio_classification import *\n",
    "\n",
    "genres_names = [\"classical\"]\n",
    "audio_classifier  = AudioClassifier(genres_names=genres_names, train_size=20)\n",
    "audio_classifier.classify('./data/test/classical/classical.00090.wav')"
   ]
  },
  {
   "cell_type": "code",
   "execution_count": 2,
   "outputs": [
    {
     "data": {
      "text/plain": "3.0"
     },
     "execution_count": 2,
     "metadata": {},
     "output_type": "execute_result"
    }
   ],
   "source": [
    "27**(1/3)"
   ],
   "metadata": {
    "collapsed": false
   }
  },
  {
   "cell_type": "code",
   "execution_count": 1,
   "outputs": [
    {
     "name": "stderr",
     "output_type": "stream",
     "text": [
      "D:\\aa\\skola\\NI-VMM\\ni-vmm-audio-classification\\server\\venv\\lib\\site-packages\\librosa\\util\\decorators.py:88: UserWarning: PySoundFile failed. Trying audioread instead.\n",
      "  return f(*args, **kwargs)\n"
     ]
    },
    {
     "name": "stdout",
     "output_type": "stream",
     "text": [
      "Error during load of a song: ./data/train/ jazz/jazz.00054.wav\n",
      "Genre: classical completed, Accuracy for genre: 30.0%\n",
      "Genre: country completed, Accuracy for genre: 20.0%\n",
      "Genre: jazz completed, Accuracy for genre: 0.0%\n",
      "Genre: metal completed, Accuracy for genre: 0.0%\n",
      "Genre: rock completed, Accuracy for genre: 0.0%\n",
      "Genre: disco completed, Accuracy for genre: 0.0%\n",
      "--------------------------------------\n",
      "Metric: l1, N_mfcc: 3, Train_size: 40, Test_size: 10, Window_size: 5\n",
      "Final Accuracy: 8.333333333333332%\n",
      "--------------------------------------\n",
      "Genre: classical completed, Accuracy for genre: 50.0%\n",
      "Genre: country completed, Accuracy for genre: 40.0%\n",
      "Genre: jazz completed, Accuracy for genre: 60.0%\n",
      "Genre: metal completed, Accuracy for genre: 100.0%\n",
      "Genre: rock completed, Accuracy for genre: 0.0%\n",
      "Genre: disco completed, Accuracy for genre: 50.0%\n",
      "--------------------------------------\n",
      "Metric: l2, N_mfcc: 3, Train_size: 40, Test_size: 10, Window_size: 5\n",
      "Final Accuracy: 50.0%\n",
      "--------------------------------------\n"
     ]
    },
    {
     "data": {
      "text/plain": "0.5"
     },
     "execution_count": 1,
     "metadata": {},
     "output_type": "execute_result"
    }
   ],
   "source": [
    "from audio_classification import *\n",
    "\n",
    "# genres_names = [\"classical\", \"country\", \"hiphop\", \"jazz\", \"metal\", \"pop\"]\n",
    "genres_names = [\"classical\", \"country\", \"jazz\", \"metal\", \"rock\", \"disco\"]\n",
    "audio_classifier = AudioClassifier(genres_names=genres_names, train_size=40)\n",
    "audio_classifier.test(test_size=10, metric=\"l1\")\n",
    "audio_classifier.test(test_size=10)"
   ],
   "metadata": {
    "collapsed": false
   }
  },
  {
   "cell_type": "code",
   "execution_count": 2,
   "outputs": [
    {
     "name": "stdout",
     "output_type": "stream",
     "text": [
      "Genre: classical completed, Accuracy for genre: 60.0%\n",
      "Genre: country completed, Accuracy for genre: 40.0%\n",
      "Genre: jazz completed, Accuracy for genre: 50.0%\n",
      "Genre: metal completed, Accuracy for genre: 100.0%\n",
      "Genre: rock completed, Accuracy for genre: 30.0%\n",
      "Genre: disco completed, Accuracy for genre: 50.0%\n",
      "--------------------------------------\n",
      "Metric: l3, N_mfcc: 3, Train_size: 40, Test_size: 10, Window_size: 5\n",
      "Final Accuracy: 55.00000000000001%\n",
      "--------------------------------------\n",
      "Genre: classical completed, Accuracy for genre: 60.0%\n",
      "Genre: country completed, Accuracy for genre: 40.0%\n"
     ]
    },
    {
     "ename": "MemoryError",
     "evalue": "Unable to allocate 12.8 MiB for an array with shape (1294, 1294) and data type float64",
     "output_type": "error",
     "traceback": [
      "\u001B[1;31m---------------------------------------------------------------------------\u001B[0m",
      "\u001B[1;31mMemoryError\u001B[0m                               Traceback (most recent call last)",
      "Cell \u001B[1;32mIn [2], line 5\u001B[0m\n\u001B[0;32m      3\u001B[0m audio_classifier \u001B[38;5;241m=\u001B[39m AudioClassifier(genres_names\u001B[38;5;241m=\u001B[39mgenres_names, train_size\u001B[38;5;241m=\u001B[39m\u001B[38;5;241m40\u001B[39m)\n\u001B[0;32m      4\u001B[0m audio_classifier\u001B[38;5;241m.\u001B[39mtest(test_size\u001B[38;5;241m=\u001B[39m\u001B[38;5;241m10\u001B[39m, metric\u001B[38;5;241m=\u001B[39m\u001B[38;5;124m\"\u001B[39m\u001B[38;5;124ml3\u001B[39m\u001B[38;5;124m\"\u001B[39m)\n\u001B[1;32m----> 5\u001B[0m \u001B[43maudio_classifier\u001B[49m\u001B[38;5;241;43m.\u001B[39;49m\u001B[43mtest\u001B[49m\u001B[43m(\u001B[49m\u001B[43mtest_size\u001B[49m\u001B[38;5;241;43m=\u001B[39;49m\u001B[38;5;241;43m10\u001B[39;49m\u001B[43m,\u001B[49m\u001B[43m \u001B[49m\u001B[43mmetric\u001B[49m\u001B[38;5;241;43m=\u001B[39;49m\u001B[38;5;124;43m\"\u001B[39;49m\u001B[38;5;124;43ml_max\u001B[39;49m\u001B[38;5;124;43m\"\u001B[39;49m\u001B[43m)\u001B[49m\n",
      "File \u001B[1;32mD:\\aa\\skola\\NI-VMM\\ni-vmm-audio-classification\\server\\audio_classification.py:134\u001B[0m, in \u001B[0;36mAudioClassifier.test\u001B[1;34m(self, test_size, metric)\u001B[0m\n\u001B[0;32m    132\u001B[0m \u001B[38;5;28;01mfor\u001B[39;00m song \u001B[38;5;129;01min\u001B[39;00m filenames:\n\u001B[0;32m    133\u001B[0m     song_path \u001B[38;5;241m=\u001B[39m directory_path \u001B[38;5;241m+\u001B[39m \u001B[38;5;124m\"\u001B[39m\u001B[38;5;124m/\u001B[39m\u001B[38;5;124m\"\u001B[39m \u001B[38;5;241m+\u001B[39m song\n\u001B[1;32m--> 134\u001B[0m     result \u001B[38;5;241m=\u001B[39m \u001B[38;5;28;43mself\u001B[39;49m\u001B[38;5;241;43m.\u001B[39;49m\u001B[43mclassify\u001B[49m\u001B[43m(\u001B[49m\u001B[43msong_path\u001B[49m\u001B[43m,\u001B[49m\u001B[43m \u001B[49m\u001B[43mtest\u001B[49m\u001B[38;5;241;43m=\u001B[39;49m\u001B[38;5;28;43;01mTrue\u001B[39;49;00m\u001B[43m)\u001B[49m\n\u001B[0;32m    135\u001B[0m     tmp_all \u001B[38;5;241m+\u001B[39m\u001B[38;5;241m=\u001B[39m \u001B[38;5;241m1\u001B[39m\n\u001B[0;32m    136\u001B[0m     \u001B[38;5;28;01mif\u001B[39;00m result \u001B[38;5;241m==\u001B[39m genre:\n",
      "File \u001B[1;32mD:\\aa\\skola\\NI-VMM\\ni-vmm-audio-classification\\server\\audio_classification.py:112\u001B[0m, in \u001B[0;36mAudioClassifier.classify\u001B[1;34m(self, audio, test)\u001B[0m\n\u001B[0;32m    109\u001B[0m distances \u001B[38;5;241m=\u001B[39m []\n\u001B[0;32m    111\u001B[0m \u001B[38;5;28;01mfor\u001B[39;00m x \u001B[38;5;129;01min\u001B[39;00m \u001B[38;5;28mself\u001B[39m\u001B[38;5;241m.\u001B[39mgenres:\n\u001B[1;32m--> 112\u001B[0m     w \u001B[38;5;241m=\u001B[39m \u001B[38;5;28;43mself\u001B[39;49m\u001B[38;5;241;43m.\u001B[39;49m\u001B[43mcompute_dist\u001B[49m\u001B[43m(\u001B[49m\u001B[43mx\u001B[49m\u001B[43m,\u001B[49m\u001B[43m \u001B[49m\u001B[43mau_mfcc\u001B[49m\u001B[43m)\u001B[49m\n\u001B[0;32m    113\u001B[0m     \u001B[38;5;28;01mif\u001B[39;00m \u001B[38;5;129;01mnot\u001B[39;00m test:\n\u001B[0;32m    114\u001B[0m         \u001B[38;5;28mprint\u001B[39m(w)\n",
      "File \u001B[1;32mD:\\aa\\skola\\NI-VMM\\ni-vmm-audio-classification\\server\\audio_classification.py:102\u001B[0m, in \u001B[0;36mAudioClassifier.compute_dist\u001B[1;34m(self, genre_files, audio)\u001B[0m\n\u001B[0;32m    100\u001B[0m dist \u001B[38;5;241m=\u001B[39m \u001B[38;5;241m0\u001B[39m\n\u001B[0;32m    101\u001B[0m \u001B[38;5;28;01mfor\u001B[39;00m x \u001B[38;5;129;01min\u001B[39;00m genre_files:\n\u001B[1;32m--> 102\u001B[0m     dist \u001B[38;5;241m+\u001B[39m\u001B[38;5;241m=\u001B[39m (\u001B[38;5;28;43mself\u001B[39;49m\u001B[38;5;241;43m.\u001B[39;49m\u001B[43mdtw_distance\u001B[49m\u001B[43m(\u001B[49m\u001B[43mx\u001B[49m\u001B[43m,\u001B[49m\u001B[43m \u001B[49m\u001B[43maudio\u001B[49m\u001B[43m)\u001B[49m)\n\u001B[0;32m    103\u001B[0m     \u001B[38;5;66;03m# D, wp = librosa.sequence.dtw(x, audio)\u001B[39;00m\n\u001B[0;32m    104\u001B[0m     \u001B[38;5;66;03m# dist += D[-1, -1]\u001B[39;00m\n\u001B[0;32m    105\u001B[0m \u001B[38;5;28;01mreturn\u001B[39;00m dist \u001B[38;5;241m/\u001B[39m \u001B[38;5;28mlen\u001B[39m(genre_files)\n",
      "File \u001B[1;32mD:\\aa\\skola\\NI-VMM\\ni-vmm-audio-classification\\server\\audio_classification.py:71\u001B[0m, in \u001B[0;36mAudioClassifier.dtw_distance\u001B[1;34m(self, arg1, arg2)\u001B[0m\n\u001B[0;32m     68\u001B[0m w \u001B[38;5;241m=\u001B[39m np\u001B[38;5;241m.\u001B[39mmax([\u001B[38;5;28mself\u001B[39m\u001B[38;5;241m.\u001B[39mwindow_size, \u001B[38;5;28mabs\u001B[39m(n \u001B[38;5;241m-\u001B[39m m)])\n\u001B[0;32m     70\u001B[0m \u001B[38;5;66;03m# initialize DTW array\u001B[39;00m\n\u001B[1;32m---> 71\u001B[0m DTW \u001B[38;5;241m=\u001B[39m \u001B[43mnp\u001B[49m\u001B[38;5;241;43m.\u001B[39;49m\u001B[43mzeros\u001B[49m\u001B[43m(\u001B[49m\u001B[43m(\u001B[49m\u001B[43mn\u001B[49m\u001B[43m \u001B[49m\u001B[38;5;241;43m+\u001B[39;49m\u001B[43m \u001B[49m\u001B[38;5;241;43m1\u001B[39;49m\u001B[43m,\u001B[49m\u001B[43m \u001B[49m\u001B[43mm\u001B[49m\u001B[43m \u001B[49m\u001B[38;5;241;43m+\u001B[39;49m\u001B[43m \u001B[49m\u001B[38;5;241;43m1\u001B[39;49m\u001B[43m)\u001B[49m\u001B[43m)\u001B[49m\n\u001B[0;32m     72\u001B[0m DTW[:, :] \u001B[38;5;241m=\u001B[39m np\u001B[38;5;241m.\u001B[39minf\n\u001B[0;32m     73\u001B[0m DTW[\u001B[38;5;241m0\u001B[39m, \u001B[38;5;241m0\u001B[39m] \u001B[38;5;241m=\u001B[39m \u001B[38;5;241m0\u001B[39m\n",
      "\u001B[1;31mMemoryError\u001B[0m: Unable to allocate 12.8 MiB for an array with shape (1294, 1294) and data type float64"
     ]
    }
   ],
   "source": [
    "from audio_classification import *\n",
    "genres_names = [\"classical\", \"country\", \"jazz\", \"metal\", \"rock\", \"disco\"]\n",
    "audio_classifier = AudioClassifier(genres_names=genres_names, train_size=40)\n",
    "audio_classifier.test(test_size=10, metric=\"l3\")\n",
    "audio_classifier.test(test_size=10, metric=\"l_max\")"
   ],
   "metadata": {
    "collapsed": false
   }
  },
  {
   "cell_type": "code",
   "execution_count": 11,
   "outputs": [
    {
     "name": "stdout",
     "output_type": "stream",
     "text": [
      "Genre: classical completed, Accuracy for genre: 0.0%\n",
      "Genre: country completed, Accuracy for genre: 0.0%\n",
      "Genre: jazz completed, Accuracy for genre: 100.0%\n",
      "Genre: metal completed, Accuracy for genre: 100.0%\n",
      "Genre: hiphop completed, Accuracy for genre: 100.0%\n",
      "--------------------------------------\n",
      "Metric: l1, N_mfcc: 3, Train_size: 90, Test_size: 1, Window_size: 5\n",
      "Final Accuracy: 60.0%\n",
      "--------------------------------------\n",
      "Genre: classical completed, Accuracy for genre: 100.0%\n",
      "Genre: country completed, Accuracy for genre: 0.0%\n",
      "Genre: jazz completed, Accuracy for genre: 100.0%\n",
      "Genre: metal completed, Accuracy for genre: 0.0%\n",
      "Genre: hiphop completed, Accuracy for genre: 100.0%\n",
      "--------------------------------------\n",
      "Metric: l2, N_mfcc: 3, Train_size: 90, Test_size: 1, Window_size: 5\n",
      "Final Accuracy: 60.0%\n",
      "--------------------------------------\n",
      "Genre: classical completed, Accuracy for genre: 100.0%\n",
      "Genre: country completed, Accuracy for genre: 100.0%\n",
      "Genre: jazz completed, Accuracy for genre: 100.0%\n",
      "Genre: metal completed, Accuracy for genre: 0.0%\n",
      "Genre: hiphop completed, Accuracy for genre: 100.0%\n",
      "--------------------------------------\n",
      "Metric: l3, N_mfcc: 3, Train_size: 90, Test_size: 1, Window_size: 5\n",
      "Final Accuracy: 80.0%\n",
      "--------------------------------------\n",
      "Genre: classical completed, Accuracy for genre: 100.0%\n",
      "Genre: country completed, Accuracy for genre: 100.0%\n",
      "Genre: jazz completed, Accuracy for genre: 100.0%\n",
      "Genre: metal completed, Accuracy for genre: 100.0%\n",
      "Genre: hiphop completed, Accuracy for genre: 0.0%\n",
      "--------------------------------------\n",
      "Metric: l_max, N_mfcc: 3, Train_size: 90, Test_size: 1, Window_size: 5\n",
      "Final Accuracy: 80.0%\n",
      "--------------------------------------\n"
     ]
    },
    {
     "data": {
      "text/plain": "0.8"
     },
     "execution_count": 11,
     "metadata": {},
     "output_type": "execute_result"
    }
   ],
   "source": [
    "from audio_classification_aggregated_mfccs import *\n",
    "\n",
    "# genres_names = [\"classical\", \"country\", \"jazz\", \"metal\", \"reggae\", \"disco\"]\n",
    "# genres_names = [\"classical\", \"country\", \"jazz\", \"metal\", \"reggae\"]\n",
    "# genres_names = [\"classical\", \"country\", \"jazz\", \"metal\", \"disco\"] 58, pak 56 na všem 90 train_size\n",
    "# genres_names = [\"classical\", \"country\", \"jazz\", \"metal\", \"pop\"] tohle je hodně dobrý 70%+ všem, 90 train_size, train_size=40 dává ještě lepší výsledky pro l1\n",
    "# genres_names = [\"classical\", \"country\", \"jazz\", \"metal\", \"hiphop\"] taky poměrně dobrý okolo 65-70\n",
    "genres_names = [\"classical\", \"country\", \"jazz\", \"metal\", \"hiphop\"]\n",
    "# genres_names = [\"classical\", \"country\", \"hiphop\", \"jazz\", \"metal\", \"pop\", \"rock\"]\n",
    "audio_classifier_aggregated_mfccs = AudioClassifierAggregatedMfccs(genres_names=genres_names, train_size=90)\n",
    "audio_classifier_aggregated_mfccs.test(test_size=10, metric=\"l1\")\n",
    "audio_classifier_aggregated_mfccs.test(test_size=10)\n",
    "audio_classifier_aggregated_mfccs.test(test_size=10, metric=\"l3\")\n",
    "audio_classifier_aggregated_mfccs.test(test_size=10, metric=\"l_max\")"
   ],
   "metadata": {
    "collapsed": false
   }
  },
  {
   "cell_type": "code",
   "execution_count": null,
   "outputs": [],
   "source": [
    "import librosa\n",
    "y1, sr1 = librosa.load('./data/classical/classical.00041.wav')\n",
    "y2, sr2 = librosa.load('./data/classical/classical.00042.wav')"
   ],
   "metadata": {
    "collapsed": false
   }
  },
  {
   "cell_type": "code",
   "execution_count": null,
   "outputs": [],
   "source": [],
   "metadata": {
    "collapsed": false
   }
  },
  {
   "cell_type": "code",
   "execution_count": null,
   "outputs": [],
   "source": [
    "tmp, tmp_2 = librosa.load('./data/classical/classical.00042.wav')\n",
    "tmo_mfcc = librosa.feature.mfcc(y=tmp, sr=tmp_2)"
   ],
   "metadata": {
    "collapsed": false
   }
  },
  {
   "cell_type": "code",
   "execution_count": null,
   "outputs": [],
   "source": [
    "mfcc1 = librosa.feature.mfcc(y=y1, sr=sr1)\n",
    "mfcc2 = librosa.feature.mfcc(y=y2, sr=sr2)"
   ],
   "metadata": {
    "collapsed": false
   }
  },
  {
   "cell_type": "code",
   "execution_count": null,
   "outputs": [],
   "source": [
    "print(mfcc1.shape)\n",
    "print(mfcc2.shape)"
   ],
   "metadata": {
    "collapsed": false
   }
  },
  {
   "cell_type": "code",
   "execution_count": null,
   "outputs": [],
   "source": [
    "\n",
    "from audio_classification import dtw_distance\n",
    "\n",
    "dtw_distance(mfcc1, mfcc2, 20)"
   ],
   "metadata": {
    "collapsed": false
   }
  },
  {
   "cell_type": "code",
   "execution_count": null,
   "outputs": [],
   "source": [
    "from audio_classification import *\n",
    "\n",
    "classify('./data/classical/classical.00042.wav')"
   ],
   "metadata": {
    "collapsed": false
   }
  },
  {
   "cell_type": "code",
   "execution_count": null,
   "outputs": [],
   "source": [
    "D, wp = librosa.sequence.dtw(mfcc1, mfcc2)\n",
    "D[-1, -1]"
   ],
   "metadata": {
    "collapsed": false
   }
  },
  {
   "cell_type": "code",
   "execution_count": null,
   "outputs": [],
   "source": [
    "import fastdtw\n",
    "\n",
    "fastdtw.fastdtw(mfcc1[0].T, mfcc2[0].T)"
   ],
   "metadata": {
    "collapsed": false
   }
  },
  {
   "cell_type": "code",
   "execution_count": null,
   "outputs": [],
   "source": [
    "from scipy.spatial.distance import euclidean\n",
    "from fastdtw import fastdtw\n",
    "\n",
    "fastdtw(mfcc1.T, mfcc2.T, dist=euclidean)[0]"
   ],
   "metadata": {
    "collapsed": false
   }
  },
  {
   "cell_type": "code",
   "execution_count": null,
   "outputs": [],
   "source": [
    "D, wp = librosa.sequence.dtw(mfcc1, mfcc2)\n",
    "best_cost = D[-1,-1]\n",
    "print(best_cost)"
   ],
   "metadata": {
    "collapsed": false
   }
  },
  {
   "cell_type": "code",
   "execution_count": null,
   "outputs": [],
   "source": [
    "mfcc1.shape, mfcc2.shape"
   ],
   "metadata": {
    "collapsed": false
   }
  },
  {
   "cell_type": "code",
   "execution_count": null,
   "outputs": [],
   "source": [
    "D"
   ],
   "metadata": {
    "collapsed": false
   }
  },
  {
   "cell_type": "code",
   "execution_count": null,
   "outputs": [],
   "source": [
    "wp"
   ],
   "metadata": {
    "collapsed": false
   }
  },
  {
   "cell_type": "code",
   "execution_count": null,
   "outputs": [],
   "source": [
    "wp[-1, 0], wp[-1, 1]"
   ],
   "metadata": {
    "collapsed": false
   }
  },
  {
   "cell_type": "code",
   "execution_count": null,
   "outputs": [],
   "source": [
    "import librosa\n",
    "from audio_classification import *\n",
    "classify('./data/classical/classical.00011.wav')\n"
   ],
   "metadata": {
    "collapsed": false
   }
  },
  {
   "cell_type": "code",
   "execution_count": null,
   "outputs": [],
   "source": [],
   "metadata": {
    "collapsed": false
   }
  }
 ],
 "metadata": {
  "kernelspec": {
   "display_name": "Python 3 (ipykernel)",
   "language": "python",
   "name": "python3"
  },
  "language_info": {
   "codemirror_mode": {
    "name": "ipython",
    "version": 3
   },
   "file_extension": ".py",
   "mimetype": "text/x-python",
   "name": "python",
   "nbconvert_exporter": "python",
   "pygments_lexer": "ipython3",
   "version": "3.8.10"
  }
 },
 "nbformat": 4,
 "nbformat_minor": 5
}
