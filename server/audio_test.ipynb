{
 "cells": [
  {
   "cell_type": "code",
   "execution_count": 5,
   "id": "76257e2b-9d7e-4a37-a68f-906c25d04baa",
   "metadata": {},
   "outputs": [
    {
     "name": "stdout",
     "output_type": "stream",
     "text": [
      "171909.36511084394\n"
     ]
    },
    {
     "data": {
      "text/plain": "{'classical': 100.0}"
     },
     "execution_count": 5,
     "metadata": {},
     "output_type": "execute_result"
    }
   ],
   "source": [
    "        from audio_classification import *\n",
    "\n",
    "genres_names = [\"classical\"]\n",
    "audio_classifier  = AudioClassifier(genres_names=genres_names, train_size=20)\n",
    "audio_classifier.classify('./data/test/classical/classical.00090.wav')"
   ]
  },
  {
   "cell_type": "code",
   "execution_count": 1,
   "outputs": [
    {
     "name": "stdout",
     "output_type": "stream",
     "text": [
      "93967.92633526555\n",
      "244114.29756366895\n",
      "165085.7997531179\n",
      "339318.0358428879\n",
      "294181.9122051338\n",
      "{'classical': 39.20809671758545, 'jazz': 22.317507318096588, 'country': 15.092534853035842, 'hiphop': 12.52389556001989, 'metal': 10.857965551262224}\n"
     ]
    }
   ],
   "source": [
    "from audio_classification_aggregated_mfccs import *\n",
    "genres_names = [\"classical\", \"country\", \"jazz\", \"metal\", \"hiphop\"]\n",
    "audio_classifier_aggregated_mfccs = AudioClassifierAggregatedMfccs(genres_names=genres_names, train_size=90)\n",
    "print(audio_classifier_aggregated_mfccs.classify('./data/test/classical/classical.00090.wav'))"
   ],
   "metadata": {
    "collapsed": false
   }
  },
  {
   "cell_type": "code",
   "execution_count": 7,
   "outputs": [],
   "source": [
    "from audio_classification import *"
   ],
   "metadata": {
    "collapsed": false
   }
  },
  {
   "cell_type": "code",
   "execution_count": 2,
   "outputs": [
    {
     "data": {
      "text/plain": "3.0"
     },
     "execution_count": 2,
     "metadata": {},
     "output_type": "execute_result"
    }
   ],
   "source": [
    "27**(1/3)"
   ],
   "metadata": {
    "collapsed": false
   }
  },
  {
   "cell_type": "code",
   "execution_count": 1,
   "outputs": [
    {
     "name": "stdout",
     "output_type": "stream",
     "text": [
      "Genre: classical completed, Accuracy for genre: 80.0%\n",
      "Genre: country completed, Accuracy for genre: 40.0%\n",
      "Genre: jazz completed, Accuracy for genre: 60.0%\n",
      "Genre: metal completed, Accuracy for genre: 100.0%\n",
      "Genre: pop completed, Accuracy for genre: 50.0%\n",
      "--------------------------------------\n",
      "Metric: l1, N_mfcc: 3, Train_size: 40, Test_size: 10, Window_size: 5\n",
      "Final Accuracy: 66.0%\n",
      "--------------------------------------\n",
      "Genre: classical completed, Accuracy for genre: 70.0%\n",
      "Genre: country completed, Accuracy for genre: 30.0%\n",
      "Genre: jazz completed, Accuracy for genre: 70.0%\n",
      "Genre: metal completed, Accuracy for genre: 100.0%\n",
      "Genre: pop completed, Accuracy for genre: 50.0%\n",
      "--------------------------------------\n",
      "Metric: l2, N_mfcc: 3, Train_size: 40, Test_size: 10, Window_size: 5\n",
      "Final Accuracy: 64.0%\n",
      "--------------------------------------\n",
      "Genre: classical completed, Accuracy for genre: 60.0%\n",
      "Genre: country completed, Accuracy for genre: 40.0%\n",
      "Genre: jazz completed, Accuracy for genre: 70.0%\n",
      "Genre: metal completed, Accuracy for genre: 100.0%\n",
      "Genre: pop completed, Accuracy for genre: 30.0%\n",
      "--------------------------------------\n",
      "Metric: l3, N_mfcc: 3, Train_size: 40, Test_size: 10, Window_size: 5\n",
      "Final Accuracy: 60.0%\n",
      "--------------------------------------\n",
      "Genre: classical completed, Accuracy for genre: 60.0%\n",
      "Genre: country completed, Accuracy for genre: 40.0%\n",
      "Genre: jazz completed, Accuracy for genre: 70.0%\n",
      "Genre: metal completed, Accuracy for genre: 100.0%\n",
      "Genre: pop completed, Accuracy for genre: 20.0%\n",
      "--------------------------------------\n",
      "Metric: l_max, N_mfcc: 3, Train_size: 40, Test_size: 10, Window_size: 5\n",
      "Final Accuracy: 57.99999999999999%\n",
      "--------------------------------------\n"
     ]
    },
    {
     "data": {
      "text/plain": "0.58"
     },
     "execution_count": 1,
     "metadata": {},
     "output_type": "execute_result"
    }
   ],
   "source": [
    "# 1.) Bez centroidů - jen průměr\n",
    "# 5 žánrů\n",
    "# 4 metriky\n",
    "# různá test_size\n",
    "from audio_classification import *\n",
    "\n",
    "genres_names = [\"classical\", \"country\", \"jazz\", \"metal\", \"pop\"]\n",
    "audio_classifier = AudioClassifier(genres_names=genres_names, train_size=40)\n",
    "audio_classifier.test(test_size=10, metric=\"l1\")\n",
    "audio_classifier.test(test_size=10, metric=\"l2\")\n",
    "audio_classifier.test(test_size=10, metric=\"l3\")\n",
    "audio_classifier.test(test_size=10, metric=\"l_max\")"
   ],
   "metadata": {
    "collapsed": false
   }
  },
  {
   "cell_type": "code",
   "execution_count": 3,
   "outputs": [],
   "source": [
    "genres_names = [\"classical\", \"country\", \"jazz\", \"metal\", \"pop\"]\n",
    "audio_classifier = AudioClassifier(genres_names=genres_names, train_size=50)"
   ],
   "metadata": {
    "collapsed": false,
    "pycharm": {
     "name": "#%%\n"
    }
   }
  },
  {
   "cell_type": "code",
   "execution_count": 4,
   "outputs": [
    {
     "name": "stdout",
     "output_type": "stream",
     "text": [
      "Genre: classical completed, Accuracy for genre: 80.0%\n",
      "Genre: country completed, Accuracy for genre: 50.0%\n",
      "Genre: jazz completed, Accuracy for genre: 50.0%\n",
      "Genre: metal completed, Accuracy for genre: 100.0%\n",
      "Genre: pop completed, Accuracy for genre: 70.0%\n",
      "--------------------------------------\n",
      "Metric: l1, N_mfcc: 3, Train_size: 50, Test_size: 10, Window_size: 5\n",
      "Final Accuracy: 70.0%\n",
      "--------------------------------------\n"
     ]
    },
    {
     "data": {
      "text/plain": "0.7"
     },
     "execution_count": 4,
     "metadata": {},
     "output_type": "execute_result"
    }
   ],
   "source": [
    "audio_classifier.test(test_size=10, metric=\"l1\")"
   ],
   "metadata": {
    "collapsed": false,
    "pycharm": {
     "name": "#%%\n"
    }
   }
  },
  {
   "cell_type": "code",
   "execution_count": 5,
   "outputs": [
    {
     "name": "stdout",
     "output_type": "stream",
     "text": [
      "Genre: classical completed, Accuracy for genre: 60.0%\n",
      "Genre: country completed, Accuracy for genre: 50.0%\n",
      "Genre: jazz completed, Accuracy for genre: 50.0%\n",
      "Genre: metal completed, Accuracy for genre: 100.0%\n",
      "Genre: pop completed, Accuracy for genre: 60.0%\n",
      "--------------------------------------\n",
      "Metric: l2, N_mfcc: 3, Train_size: 50, Test_size: 10, Window_size: 5\n",
      "Final Accuracy: 64.0%\n",
      "--------------------------------------\n"
     ]
    },
    {
     "data": {
      "text/plain": "0.64"
     },
     "execution_count": 5,
     "metadata": {},
     "output_type": "execute_result"
    }
   ],
   "source": [
    "audio_classifier.test(test_size=10, metric=\"l2\")"
   ],
   "metadata": {
    "collapsed": false,
    "pycharm": {
     "name": "#%%\n"
    }
   }
  },
  {
   "cell_type": "code",
   "execution_count": 6,
   "outputs": [
    {
     "name": "stdout",
     "output_type": "stream",
     "text": [
      "Genre: classical completed, Accuracy for genre: 60.0%\n",
      "Genre: country completed, Accuracy for genre: 50.0%\n",
      "Genre: jazz completed, Accuracy for genre: 60.0%\n",
      "Genre: metal completed, Accuracy for genre: 100.0%\n",
      "Genre: pop completed, Accuracy for genre: 50.0%\n",
      "--------------------------------------\n",
      "Metric: l3, N_mfcc: 3, Train_size: 50, Test_size: 10, Window_size: 5\n",
      "Final Accuracy: 64.0%\n",
      "--------------------------------------\n"
     ]
    },
    {
     "data": {
      "text/plain": "0.64"
     },
     "execution_count": 6,
     "metadata": {},
     "output_type": "execute_result"
    }
   ],
   "source": [
    "audio_classifier.test(test_size=10, metric=\"l3\")"
   ],
   "metadata": {
    "collapsed": false,
    "pycharm": {
     "name": "#%%\n"
    }
   }
  },
  {
   "cell_type": "code",
   "execution_count": 7,
   "outputs": [
    {
     "name": "stdout",
     "output_type": "stream",
     "text": [
      "Genre: classical completed, Accuracy for genre: 60.0%\n",
      "Genre: country completed, Accuracy for genre: 50.0%\n",
      "Genre: jazz completed, Accuracy for genre: 60.0%\n",
      "Genre: metal completed, Accuracy for genre: 100.0%\n",
      "Genre: pop completed, Accuracy for genre: 50.0%\n",
      "--------------------------------------\n",
      "Metric: l_max, N_mfcc: 3, Train_size: 50, Test_size: 10, Window_size: 5\n",
      "Final Accuracy: 64.0%\n",
      "--------------------------------------\n"
     ]
    },
    {
     "data": {
      "text/plain": "0.64"
     },
     "execution_count": 7,
     "metadata": {},
     "output_type": "execute_result"
    }
   ],
   "source": [
    "audio_classifier.test(test_size=10, metric=\"l_max\")"
   ],
   "metadata": {
    "collapsed": false,
    "pycharm": {
     "name": "#%%\n"
    }
   }
  },
  {
   "cell_type": "code",
   "execution_count": 2,
   "outputs": [],
   "source": [
    "genres_names = [\"classical\", \"country\", \"jazz\", \"metal\", \"pop\"]\n",
    "audio_classifier = AudioClassifier(genres_names=genres_names, train_size=60)"
   ],
   "metadata": {
    "collapsed": false,
    "pycharm": {
     "name": "#%%\n"
    }
   }
  },
  {
   "cell_type": "code",
   "execution_count": 10,
   "outputs": [
    {
     "name": "stdout",
     "output_type": "stream",
     "text": [
      "Genre: classical completed, Accuracy for genre: 60.0%\n",
      "Genre: country completed, Accuracy for genre: 50.0%\n",
      "Genre: jazz completed, Accuracy for genre: 50.0%\n",
      "Genre: metal completed, Accuracy for genre: 100.0%\n",
      "Genre: pop completed, Accuracy for genre: 70.0%\n",
      "--------------------------------------\n",
      "Metric: l1, N_mfcc: 3, Train_size: 60, Test_size: 10, Window_size: 5\n",
      "Final Accuracy: 66.0%\n",
      "--------------------------------------\n"
     ]
    },
    {
     "data": {
      "text/plain": "0.66"
     },
     "execution_count": 10,
     "metadata": {},
     "output_type": "execute_result"
    }
   ],
   "source": [
    "audio_classifier.test(test_size=10, metric=\"l1\")"
   ],
   "metadata": {
    "collapsed": false,
    "pycharm": {
     "name": "#%%\n"
    }
   }
  },
  {
   "cell_type": "code",
   "execution_count": 3,
   "outputs": [
    {
     "name": "stdout",
     "output_type": "stream",
     "text": [
      "Genre: classical completed, Accuracy for genre: 60.0%\n",
      "Genre: country completed, Accuracy for genre: 50.0%\n",
      "Genre: jazz completed, Accuracy for genre: 60.0%\n",
      "Genre: metal completed, Accuracy for genre: 100.0%\n",
      "Genre: pop completed, Accuracy for genre: 60.0%\n",
      "--------------------------------------\n",
      "Metric: l2, N_mfcc: 3, Train_size: 60, Test_size: 10, Window_size: 5\n",
      "Final Accuracy: 66.0%\n",
      "--------------------------------------\n"
     ]
    },
    {
     "data": {
      "text/plain": "0.66"
     },
     "execution_count": 3,
     "metadata": {},
     "output_type": "execute_result"
    }
   ],
   "source": [
    "audio_classifier.test(test_size=10, metric=\"l2\")"
   ],
   "metadata": {
    "collapsed": false,
    "pycharm": {
     "name": "#%%\n"
    }
   }
  },
  {
   "cell_type": "code",
   "execution_count": 4,
   "outputs": [
    {
     "name": "stdout",
     "output_type": "stream",
     "text": [
      "Genre: classical completed, Accuracy for genre: 60.0%\n",
      "Genre: country completed, Accuracy for genre: 50.0%\n",
      "Genre: jazz completed, Accuracy for genre: 60.0%\n",
      "Genre: metal completed, Accuracy for genre: 100.0%\n",
      "Genre: pop completed, Accuracy for genre: 60.0%\n",
      "--------------------------------------\n",
      "Metric: l3, N_mfcc: 3, Train_size: 60, Test_size: 10, Window_size: 5\n",
      "Final Accuracy: 66.0%\n",
      "--------------------------------------\n"
     ]
    },
    {
     "data": {
      "text/plain": "0.66"
     },
     "execution_count": 4,
     "metadata": {},
     "output_type": "execute_result"
    }
   ],
   "source": [
    "audio_classifier.test(test_size=10, metric=\"l3\")"
   ],
   "metadata": {
    "collapsed": false,
    "pycharm": {
     "name": "#%%\n"
    }
   }
  },
  {
   "cell_type": "code",
   "execution_count": 5,
   "outputs": [
    {
     "name": "stdout",
     "output_type": "stream",
     "text": [
      "Genre: classical completed, Accuracy for genre: 60.0%\n",
      "Genre: country completed, Accuracy for genre: 50.0%\n",
      "Genre: jazz completed, Accuracy for genre: 60.0%\n",
      "Genre: metal completed, Accuracy for genre: 100.0%\n",
      "Genre: pop completed, Accuracy for genre: 50.0%\n",
      "--------------------------------------\n",
      "Metric: l_max, N_mfcc: 3, Train_size: 60, Test_size: 10, Window_size: 5\n",
      "Final Accuracy: 64.0%\n",
      "--------------------------------------\n"
     ]
    },
    {
     "data": {
      "text/plain": "0.64"
     },
     "execution_count": 5,
     "metadata": {},
     "output_type": "execute_result"
    }
   ],
   "source": [
    "audio_classifier.test(test_size=10, metric=\"l_max\")"
   ],
   "metadata": {
    "collapsed": false,
    "pycharm": {
     "name": "#%%\n"
    }
   }
  },
  {
   "cell_type": "code",
   "execution_count": 6,
   "outputs": [],
   "source": [
    "genres_names = [\"classical\", \"country\", \"jazz\", \"metal\", \"pop\"]\n",
    "audio_classifier = AudioClassifier(genres_names=genres_names, train_size=70)"
   ],
   "metadata": {
    "collapsed": false,
    "pycharm": {
     "name": "#%%\n"
    }
   }
  },
  {
   "cell_type": "code",
   "execution_count": 7,
   "outputs": [
    {
     "name": "stdout",
     "output_type": "stream",
     "text": [
      "Genre: classical completed, Accuracy for genre: 60.0%\n",
      "Genre: country completed, Accuracy for genre: 50.0%\n",
      "Genre: jazz completed, Accuracy for genre: 50.0%\n",
      "Genre: metal completed, Accuracy for genre: 100.0%\n",
      "Genre: pop completed, Accuracy for genre: 80.0%\n",
      "--------------------------------------\n",
      "Metric: l1, N_mfcc: 3, Train_size: 70, Test_size: 10, Window_size: 5\n",
      "Final Accuracy: 68.0%\n",
      "--------------------------------------\n"
     ]
    },
    {
     "data": {
      "text/plain": "0.68"
     },
     "execution_count": 7,
     "metadata": {},
     "output_type": "execute_result"
    }
   ],
   "source": [
    "audio_classifier.test(test_size=10, metric=\"l1\")"
   ],
   "metadata": {
    "collapsed": false,
    "pycharm": {
     "name": "#%%\n"
    }
   }
  },
  {
   "cell_type": "code",
   "execution_count": 8,
   "outputs": [
    {
     "name": "stdout",
     "output_type": "stream",
     "text": [
      "Genre: classical completed, Accuracy for genre: 60.0%\n",
      "Genre: country completed, Accuracy for genre: 50.0%\n",
      "Genre: jazz completed, Accuracy for genre: 60.0%\n",
      "Genre: metal completed, Accuracy for genre: 100.0%\n",
      "Genre: pop completed, Accuracy for genre: 60.0%\n",
      "--------------------------------------\n",
      "Metric: l2, N_mfcc: 3, Train_size: 70, Test_size: 10, Window_size: 5\n",
      "Final Accuracy: 66.0%\n",
      "--------------------------------------\n"
     ]
    },
    {
     "data": {
      "text/plain": "0.66"
     },
     "execution_count": 8,
     "metadata": {},
     "output_type": "execute_result"
    }
   ],
   "source": [
    "audio_classifier.test(test_size=10, metric=\"l2\")"
   ],
   "metadata": {
    "collapsed": false,
    "pycharm": {
     "name": "#%%\n"
    }
   }
  },
  {
   "cell_type": "code",
   "execution_count": 9,
   "outputs": [
    {
     "name": "stdout",
     "output_type": "stream",
     "text": [
      "Genre: classical completed, Accuracy for genre: 50.0%\n",
      "Genre: country completed, Accuracy for genre: 50.0%\n",
      "Genre: jazz completed, Accuracy for genre: 60.0%\n",
      "Genre: metal completed, Accuracy for genre: 100.0%\n",
      "Genre: pop completed, Accuracy for genre: 60.0%\n",
      "--------------------------------------\n",
      "Metric: l3, N_mfcc: 3, Train_size: 70, Test_size: 10, Window_size: 5\n",
      "Final Accuracy: 64.0%\n",
      "--------------------------------------\n"
     ]
    },
    {
     "data": {
      "text/plain": "0.64"
     },
     "execution_count": 9,
     "metadata": {},
     "output_type": "execute_result"
    }
   ],
   "source": [
    "audio_classifier.test(test_size=10, metric=\"l3\")"
   ],
   "metadata": {
    "collapsed": false,
    "pycharm": {
     "name": "#%%\n"
    }
   }
  },
  {
   "cell_type": "code",
   "execution_count": 10,
   "outputs": [
    {
     "name": "stdout",
     "output_type": "stream",
     "text": [
      "Genre: classical completed, Accuracy for genre: 50.0%\n",
      "Genre: country completed, Accuracy for genre: 50.0%\n",
      "Genre: jazz completed, Accuracy for genre: 60.0%\n",
      "Genre: metal completed, Accuracy for genre: 100.0%\n",
      "Genre: pop completed, Accuracy for genre: 50.0%\n",
      "--------------------------------------\n",
      "Metric: l_max, N_mfcc: 3, Train_size: 70, Test_size: 10, Window_size: 5\n",
      "Final Accuracy: 62.0%\n",
      "--------------------------------------\n"
     ]
    },
    {
     "data": {
      "text/plain": "0.62"
     },
     "execution_count": 10,
     "metadata": {},
     "output_type": "execute_result"
    }
   ],
   "source": [
    "audio_classifier.test(test_size=10, metric=\"l_max\")"
   ],
   "metadata": {
    "collapsed": false,
    "pycharm": {
     "name": "#%%\n"
    }
   }
  },
  {
   "cell_type": "code",
   "execution_count": 3,
   "outputs": [],
   "source": [
    "genres_names = [\"classical\", \"country\", \"jazz\", \"metal\", \"pop\"]\n",
    "audio_classifier = AudioClassifier(genres_names=genres_names, train_size=80)"
   ],
   "metadata": {
    "collapsed": false,
    "pycharm": {
     "name": "#%%\n"
    }
   }
  },
  {
   "cell_type": "code",
   "execution_count": 12,
   "outputs": [
    {
     "name": "stdout",
     "output_type": "stream",
     "text": [
      "Genre: classical completed, Accuracy for genre: 60.0%\n",
      "Genre: country completed, Accuracy for genre: 40.0%\n",
      "Genre: jazz completed, Accuracy for genre: 70.0%\n",
      "Genre: metal completed, Accuracy for genre: 100.0%\n",
      "Genre: pop completed, Accuracy for genre: 70.0%\n",
      "--------------------------------------\n",
      "Metric: l1, N_mfcc: 3, Train_size: 80, Test_size: 10, Window_size: 5\n",
      "Final Accuracy: 68.0%\n",
      "--------------------------------------\n"
     ]
    },
    {
     "data": {
      "text/plain": "0.68"
     },
     "execution_count": 12,
     "metadata": {},
     "output_type": "execute_result"
    }
   ],
   "source": [
    "audio_classifier.test(test_size=10, metric=\"l1\")"
   ],
   "metadata": {
    "collapsed": false,
    "pycharm": {
     "name": "#%%\n"
    }
   }
  },
  {
   "cell_type": "code",
   "execution_count": 13,
   "outputs": [
    {
     "name": "stdout",
     "output_type": "stream",
     "text": [
      "Genre: classical completed, Accuracy for genre: 50.0%\n",
      "Genre: country completed, Accuracy for genre: 50.0%\n",
      "Genre: jazz completed, Accuracy for genre: 70.0%\n",
      "Genre: metal completed, Accuracy for genre: 100.0%\n",
      "Genre: pop completed, Accuracy for genre: 60.0%\n",
      "--------------------------------------\n",
      "Metric: l2, N_mfcc: 3, Train_size: 80, Test_size: 10, Window_size: 5\n",
      "Final Accuracy: 66.0%\n",
      "--------------------------------------\n"
     ]
    },
    {
     "data": {
      "text/plain": "0.66"
     },
     "execution_count": 13,
     "metadata": {},
     "output_type": "execute_result"
    }
   ],
   "source": [
    "audio_classifier.test(test_size=10, metric=\"l2\")"
   ],
   "metadata": {
    "collapsed": false,
    "pycharm": {
     "name": "#%%\n"
    }
   }
  },
  {
   "cell_type": "code",
   "execution_count": 4,
   "outputs": [
    {
     "name": "stdout",
     "output_type": "stream",
     "text": [
      "Genre: classical completed, Accuracy for genre: 60.0%\n",
      "Genre: country completed, Accuracy for genre: 50.0%\n",
      "Genre: jazz completed, Accuracy for genre: 70.0%\n",
      "Genre: metal completed, Accuracy for genre: 100.0%\n",
      "Genre: pop completed, Accuracy for genre: 60.0%\n",
      "--------------------------------------\n",
      "Metric: l3, N_mfcc: 3, Train_size: 80, Test_size: 10, Window_size: 5\n",
      "Final Accuracy: 68.0%\n",
      "--------------------------------------\n"
     ]
    },
    {
     "data": {
      "text/plain": "0.68"
     },
     "execution_count": 4,
     "metadata": {},
     "output_type": "execute_result"
    }
   ],
   "source": [
    "audio_classifier.test(test_size=10, metric=\"l3\")"
   ],
   "metadata": {
    "collapsed": false,
    "pycharm": {
     "name": "#%%\n"
    }
   }
  },
  {
   "cell_type": "code",
   "execution_count": 5,
   "outputs": [
    {
     "name": "stdout",
     "output_type": "stream",
     "text": [
      "Genre: classical completed, Accuracy for genre: 50.0%\n",
      "Genre: country completed, Accuracy for genre: 40.0%\n",
      "Genre: jazz completed, Accuracy for genre: 70.0%\n",
      "Genre: metal completed, Accuracy for genre: 100.0%\n",
      "Genre: pop completed, Accuracy for genre: 50.0%\n",
      "--------------------------------------\n",
      "Metric: l_max, N_mfcc: 3, Train_size: 80, Test_size: 10, Window_size: 5\n",
      "Final Accuracy: 62.0%\n",
      "--------------------------------------\n"
     ]
    },
    {
     "data": {
      "text/plain": "0.62"
     },
     "execution_count": 5,
     "metadata": {},
     "output_type": "execute_result"
    }
   ],
   "source": [
    "audio_classifier.test(test_size=10, metric=\"l_max\")"
   ],
   "metadata": {
    "collapsed": false,
    "pycharm": {
     "name": "#%%\n"
    }
   }
  },
  {
   "cell_type": "code",
   "execution_count": 9,
   "outputs": [
    {
     "name": "stderr",
     "output_type": "stream",
     "text": [
      "/home/marketa/FIT/VMM/semestralka/venv/lib/python3.8/site-packages/librosa/util/decorators.py:88: UserWarning: PySoundFile failed. Trying audioread instead.\n",
      "  return f(*args, **kwargs)\n"
     ]
    },
    {
     "name": "stdout",
     "output_type": "stream",
     "text": [
      "Error during load of a song: ./data/train/ jazz/jazz.000054.wav\n"
     ]
    }
   ],
   "source": [
    "genres_names = [\"classical\", \"country\", \"jazz\", \"metal\", \"pop\"]\n",
    "audio_classifier = AudioClassifier(genres_names=genres_names, train_size=90)"
   ],
   "metadata": {
    "collapsed": false,
    "pycharm": {
     "name": "#%%\n"
    }
   }
  },
  {
   "cell_type": "code",
   "execution_count": 10,
   "outputs": [
    {
     "name": "stdout",
     "output_type": "stream",
     "text": [
      "Genre: classical completed, Accuracy for genre: 60.0%\n",
      "Genre: country completed, Accuracy for genre: 40.0%\n",
      "Genre: jazz completed, Accuracy for genre: 60.0%\n",
      "Genre: metal completed, Accuracy for genre: 100.0%\n",
      "Genre: pop completed, Accuracy for genre: 70.0%\n",
      "--------------------------------------\n",
      "Metric: l1, N_mfcc: 3, Train_size: 90, Test_size: 10, Window_size: 5\n",
      "Final Accuracy: 66.0%\n",
      "--------------------------------------\n"
     ]
    },
    {
     "data": {
      "text/plain": "0.66"
     },
     "execution_count": 10,
     "metadata": {},
     "output_type": "execute_result"
    }
   ],
   "source": [
    "audio_classifier.test(test_size=10, metric=\"l1\")"
   ],
   "metadata": {
    "collapsed": false,
    "pycharm": {
     "name": "#%%\n"
    }
   }
  },
  {
   "cell_type": "code",
   "execution_count": 11,
   "outputs": [
    {
     "name": "stdout",
     "output_type": "stream",
     "text": [
      "Genre: classical completed, Accuracy for genre: 60.0%\n",
      "Genre: country completed, Accuracy for genre: 30.0%\n",
      "Genre: jazz completed, Accuracy for genre: 70.0%\n",
      "Genre: metal completed, Accuracy for genre: 100.0%\n",
      "Genre: pop completed, Accuracy for genre: 60.0%\n",
      "--------------------------------------\n",
      "Metric: l2, N_mfcc: 3, Train_size: 90, Test_size: 10, Window_size: 5\n",
      "Final Accuracy: 64.0%\n",
      "--------------------------------------\n"
     ]
    },
    {
     "data": {
      "text/plain": "0.64"
     },
     "execution_count": 11,
     "metadata": {},
     "output_type": "execute_result"
    }
   ],
   "source": [
    "audio_classifier.test(test_size=10, metric=\"l2\")"
   ],
   "metadata": {
    "collapsed": false,
    "pycharm": {
     "name": "#%%\n"
    }
   }
  },
  {
   "cell_type": "code",
   "execution_count": 12,
   "outputs": [
    {
     "name": "stdout",
     "output_type": "stream",
     "text": [
      "Genre: classical completed, Accuracy for genre: 60.0%\n",
      "Genre: country completed, Accuracy for genre: 40.0%\n",
      "Genre: jazz completed, Accuracy for genre: 70.0%\n",
      "Genre: metal completed, Accuracy for genre: 100.0%\n",
      "Genre: pop completed, Accuracy for genre: 50.0%\n",
      "--------------------------------------\n",
      "Metric: l3, N_mfcc: 3, Train_size: 90, Test_size: 10, Window_size: 5\n",
      "Final Accuracy: 64.0%\n",
      "--------------------------------------\n"
     ]
    },
    {
     "data": {
      "text/plain": "0.64"
     },
     "execution_count": 12,
     "metadata": {},
     "output_type": "execute_result"
    }
   ],
   "source": [
    "audio_classifier.test(test_size=10, metric=\"l3\")"
   ],
   "metadata": {
    "collapsed": false,
    "pycharm": {
     "name": "#%%\n"
    }
   }
  },
  {
   "cell_type": "code",
   "execution_count": 13,
   "outputs": [
    {
     "name": "stdout",
     "output_type": "stream",
     "text": [
      "Genre: classical completed, Accuracy for genre: 50.0%\n",
      "Genre: country completed, Accuracy for genre: 40.0%\n",
      "Genre: jazz completed, Accuracy for genre: 70.0%\n",
      "Genre: metal completed, Accuracy for genre: 100.0%\n",
      "Genre: pop completed, Accuracy for genre: 50.0%\n",
      "--------------------------------------\n",
      "Metric: l_max, N_mfcc: 3, Train_size: 90, Test_size: 10, Window_size: 5\n",
      "Final Accuracy: 62.0%\n",
      "--------------------------------------\n"
     ]
    },
    {
     "data": {
      "text/plain": "0.62"
     },
     "execution_count": 13,
     "metadata": {},
     "output_type": "execute_result"
    }
   ],
   "source": [
    "audio_classifier.test(test_size=10, metric=\"l_max\")"
   ],
   "metadata": {
    "collapsed": false,
    "pycharm": {
     "name": "#%%\n"
    }
   }
  },
  {
   "cell_type": "code",
   "execution_count": 2,
   "outputs": [
    {
     "name": "stdout",
     "output_type": "stream",
     "text": [
      "Genre: classical completed, Accuracy for genre: 60.0%\n",
      "Genre: country completed, Accuracy for genre: 40.0%\n",
      "Genre: jazz completed, Accuracy for genre: 50.0%\n",
      "Genre: metal completed, Accuracy for genre: 100.0%\n",
      "Genre: rock completed, Accuracy for genre: 30.0%\n",
      "Genre: disco completed, Accuracy for genre: 50.0%\n",
      "--------------------------------------\n",
      "Metric: l3, N_mfcc: 3, Train_size: 40, Test_size: 10, Window_size: 5\n",
      "Final Accuracy: 55.00000000000001%\n",
      "--------------------------------------\n",
      "Genre: classical completed, Accuracy for genre: 60.0%\n",
      "Genre: country completed, Accuracy for genre: 40.0%\n"
     ]
    },
    {
     "ename": "MemoryError",
     "evalue": "Unable to allocate 12.8 MiB for an array with shape (1294, 1294) and data type float64",
     "output_type": "error",
     "traceback": [
      "\u001B[1;31m---------------------------------------------------------------------------\u001B[0m",
      "\u001B[1;31mMemoryError\u001B[0m                               Traceback (most recent call last)",
      "Cell \u001B[1;32mIn [2], line 5\u001B[0m\n\u001B[0;32m      3\u001B[0m audio_classifier \u001B[38;5;241m=\u001B[39m AudioClassifier(genres_names\u001B[38;5;241m=\u001B[39mgenres_names, train_size\u001B[38;5;241m=\u001B[39m\u001B[38;5;241m40\u001B[39m)\n\u001B[0;32m      4\u001B[0m audio_classifier\u001B[38;5;241m.\u001B[39mtest(test_size\u001B[38;5;241m=\u001B[39m\u001B[38;5;241m10\u001B[39m, metric\u001B[38;5;241m=\u001B[39m\u001B[38;5;124m\"\u001B[39m\u001B[38;5;124ml3\u001B[39m\u001B[38;5;124m\"\u001B[39m)\n\u001B[1;32m----> 5\u001B[0m \u001B[43maudio_classifier\u001B[49m\u001B[38;5;241;43m.\u001B[39;49m\u001B[43mtest\u001B[49m\u001B[43m(\u001B[49m\u001B[43mtest_size\u001B[49m\u001B[38;5;241;43m=\u001B[39;49m\u001B[38;5;241;43m10\u001B[39;49m\u001B[43m,\u001B[49m\u001B[43m \u001B[49m\u001B[43mmetric\u001B[49m\u001B[38;5;241;43m=\u001B[39;49m\u001B[38;5;124;43m\"\u001B[39;49m\u001B[38;5;124;43ml_max\u001B[39;49m\u001B[38;5;124;43m\"\u001B[39;49m\u001B[43m)\u001B[49m\n",
      "File \u001B[1;32mD:\\aa\\skola\\NI-VMM\\ni-vmm-audio-classification\\server\\audio_classification.py:134\u001B[0m, in \u001B[0;36mAudioClassifier.test\u001B[1;34m(self, test_size, metric)\u001B[0m\n\u001B[0;32m    132\u001B[0m \u001B[38;5;28;01mfor\u001B[39;00m song \u001B[38;5;129;01min\u001B[39;00m filenames:\n\u001B[0;32m    133\u001B[0m     song_path \u001B[38;5;241m=\u001B[39m directory_path \u001B[38;5;241m+\u001B[39m \u001B[38;5;124m\"\u001B[39m\u001B[38;5;124m/\u001B[39m\u001B[38;5;124m\"\u001B[39m \u001B[38;5;241m+\u001B[39m song\n\u001B[1;32m--> 134\u001B[0m     result \u001B[38;5;241m=\u001B[39m \u001B[38;5;28;43mself\u001B[39;49m\u001B[38;5;241;43m.\u001B[39;49m\u001B[43mclassify\u001B[49m\u001B[43m(\u001B[49m\u001B[43msong_path\u001B[49m\u001B[43m,\u001B[49m\u001B[43m \u001B[49m\u001B[43mtest\u001B[49m\u001B[38;5;241;43m=\u001B[39;49m\u001B[38;5;28;43;01mTrue\u001B[39;49;00m\u001B[43m)\u001B[49m\n\u001B[0;32m    135\u001B[0m     tmp_all \u001B[38;5;241m+\u001B[39m\u001B[38;5;241m=\u001B[39m \u001B[38;5;241m1\u001B[39m\n\u001B[0;32m    136\u001B[0m     \u001B[38;5;28;01mif\u001B[39;00m result \u001B[38;5;241m==\u001B[39m genre:\n",
      "File \u001B[1;32mD:\\aa\\skola\\NI-VMM\\ni-vmm-audio-classification\\server\\audio_classification.py:112\u001B[0m, in \u001B[0;36mAudioClassifier.classify\u001B[1;34m(self, audio, test)\u001B[0m\n\u001B[0;32m    109\u001B[0m distances \u001B[38;5;241m=\u001B[39m []\n\u001B[0;32m    111\u001B[0m \u001B[38;5;28;01mfor\u001B[39;00m x \u001B[38;5;129;01min\u001B[39;00m \u001B[38;5;28mself\u001B[39m\u001B[38;5;241m.\u001B[39mgenres:\n\u001B[1;32m--> 112\u001B[0m     w \u001B[38;5;241m=\u001B[39m \u001B[38;5;28;43mself\u001B[39;49m\u001B[38;5;241;43m.\u001B[39;49m\u001B[43mcompute_dist\u001B[49m\u001B[43m(\u001B[49m\u001B[43mx\u001B[49m\u001B[43m,\u001B[49m\u001B[43m \u001B[49m\u001B[43mau_mfcc\u001B[49m\u001B[43m)\u001B[49m\n\u001B[0;32m    113\u001B[0m     \u001B[38;5;28;01mif\u001B[39;00m \u001B[38;5;129;01mnot\u001B[39;00m test:\n\u001B[0;32m    114\u001B[0m         \u001B[38;5;28mprint\u001B[39m(w)\n",
      "File \u001B[1;32mD:\\aa\\skola\\NI-VMM\\ni-vmm-audio-classification\\server\\audio_classification.py:102\u001B[0m, in \u001B[0;36mAudioClassifier.compute_dist\u001B[1;34m(self, genre_files, audio)\u001B[0m\n\u001B[0;32m    100\u001B[0m dist \u001B[38;5;241m=\u001B[39m \u001B[38;5;241m0\u001B[39m\n\u001B[0;32m    101\u001B[0m \u001B[38;5;28;01mfor\u001B[39;00m x \u001B[38;5;129;01min\u001B[39;00m genre_files:\n\u001B[1;32m--> 102\u001B[0m     dist \u001B[38;5;241m+\u001B[39m\u001B[38;5;241m=\u001B[39m (\u001B[38;5;28;43mself\u001B[39;49m\u001B[38;5;241;43m.\u001B[39;49m\u001B[43mdtw_distance\u001B[49m\u001B[43m(\u001B[49m\u001B[43mx\u001B[49m\u001B[43m,\u001B[49m\u001B[43m \u001B[49m\u001B[43maudio\u001B[49m\u001B[43m)\u001B[49m)\n\u001B[0;32m    103\u001B[0m     \u001B[38;5;66;03m# D, wp = librosa.sequence.dtw(x, audio)\u001B[39;00m\n\u001B[0;32m    104\u001B[0m     \u001B[38;5;66;03m# dist += D[-1, -1]\u001B[39;00m\n\u001B[0;32m    105\u001B[0m \u001B[38;5;28;01mreturn\u001B[39;00m dist \u001B[38;5;241m/\u001B[39m \u001B[38;5;28mlen\u001B[39m(genre_files)\n",
      "File \u001B[1;32mD:\\aa\\skola\\NI-VMM\\ni-vmm-audio-classification\\server\\audio_classification.py:71\u001B[0m, in \u001B[0;36mAudioClassifier.dtw_distance\u001B[1;34m(self, arg1, arg2)\u001B[0m\n\u001B[0;32m     68\u001B[0m w \u001B[38;5;241m=\u001B[39m np\u001B[38;5;241m.\u001B[39mmax([\u001B[38;5;28mself\u001B[39m\u001B[38;5;241m.\u001B[39mwindow_size, \u001B[38;5;28mabs\u001B[39m(n \u001B[38;5;241m-\u001B[39m m)])\n\u001B[0;32m     70\u001B[0m \u001B[38;5;66;03m# initialize DTW array\u001B[39;00m\n\u001B[1;32m---> 71\u001B[0m DTW \u001B[38;5;241m=\u001B[39m \u001B[43mnp\u001B[49m\u001B[38;5;241;43m.\u001B[39;49m\u001B[43mzeros\u001B[49m\u001B[43m(\u001B[49m\u001B[43m(\u001B[49m\u001B[43mn\u001B[49m\u001B[43m \u001B[49m\u001B[38;5;241;43m+\u001B[39;49m\u001B[43m \u001B[49m\u001B[38;5;241;43m1\u001B[39;49m\u001B[43m,\u001B[49m\u001B[43m \u001B[49m\u001B[43mm\u001B[49m\u001B[43m \u001B[49m\u001B[38;5;241;43m+\u001B[39;49m\u001B[43m \u001B[49m\u001B[38;5;241;43m1\u001B[39;49m\u001B[43m)\u001B[49m\u001B[43m)\u001B[49m\n\u001B[0;32m     72\u001B[0m DTW[:, :] \u001B[38;5;241m=\u001B[39m np\u001B[38;5;241m.\u001B[39minf\n\u001B[0;32m     73\u001B[0m DTW[\u001B[38;5;241m0\u001B[39m, \u001B[38;5;241m0\u001B[39m] \u001B[38;5;241m=\u001B[39m \u001B[38;5;241m0\u001B[39m\n",
      "\u001B[1;31mMemoryError\u001B[0m: Unable to allocate 12.8 MiB for an array with shape (1294, 1294) and data type float64"
     ]
    }
   ],
   "source": [
    "from audio_classification import *\n",
    "genres_names = [\"classical\", \"country\", \"jazz\", \"metal\", \"rock\", \"disco\"]\n",
    "audio_classifier = AudioClassifier(genres_names=genres_names, train_size=40)\n",
    "audio_classifier.test(test_size=10, metric=\"l3\")\n",
    "audio_classifier.test(test_size=10, metric=\"l_max\")"
   ],
   "metadata": {
    "collapsed": false
   }
  },
  {
   "cell_type": "code",
   "execution_count": 14,
   "outputs": [],
   "source": [
    "from audio_classification_aggregated_mfccs import *"
   ],
   "metadata": {
    "collapsed": false
   }
  },
  {
   "cell_type": "code",
   "execution_count": 15,
   "outputs": [],
   "source": [
    "# genres_names = [\"classical\", \"country\", \"jazz\", \"metal\", \"reggae\", \"disco\"]\n",
    "# genres_names = [\"classical\", \"country\", \"jazz\", \"metal\", \"reggae\"]\n",
    "# genres_names = [\"classical\", \"country\", \"jazz\", \"metal\", \"disco\"] 58, pak 56 na všem 90 train_size\n",
    "# genres_names = [\"classical\", \"country\", \"jazz\", \"metal\", \"pop\"] tohle je hodně dobrý 70%+ všem, 90 train_size, train_size=40 dává ještě lepší výsledky pro l1\n",
    "# genres_names = [\"classical\", \"country\", \"jazz\", \"metal\", \"hiphop\"] taky poměrně dobrý okolo 65-70\n",
    "#genres_names = [\"classical\", \"country\", \"jazz\", \"metal\", \"hiphop\"]\n",
    "genres_names = [\"classical\", \"country\", \"jazz\", \"metal\", \"pop\"]\n",
    "# genres_names = [\"classical\", \"country\", \"hiphop\", \"jazz\", \"metal\", \"pop\", \"rock\"]"
   ],
   "metadata": {
    "collapsed": false,
    "pycharm": {
     "name": "#%%\n"
    }
   }
  },
  {
   "cell_type": "code",
   "execution_count": 16,
   "outputs": [
    {
     "name": "stdout",
     "output_type": "stream",
     "text": [
      "Genre: classical completed, Accuracy for genre: 80.0%\n",
      "Genre: country completed, Accuracy for genre: 60.0%\n",
      "Genre: jazz completed, Accuracy for genre: 60.0%\n",
      "Genre: metal completed, Accuracy for genre: 100.0%\n",
      "Genre: pop completed, Accuracy for genre: 70.0%\n",
      "--------------------------------------\n",
      "Metric: l1, N_mfcc: 3, Train_size: 40, Test_size: 10, Window_size: 5\n",
      "Final Accuracy: 74.0%\n",
      "--------------------------------------\n",
      "Genre: classical completed, Accuracy for genre: 70.0%\n",
      "Genre: country completed, Accuracy for genre: 70.0%\n",
      "Genre: jazz completed, Accuracy for genre: 60.0%\n",
      "Genre: metal completed, Accuracy for genre: 90.0%\n",
      "Genre: pop completed, Accuracy for genre: 60.0%\n",
      "--------------------------------------\n",
      "Metric: l2, N_mfcc: 3, Train_size: 40, Test_size: 10, Window_size: 5\n",
      "Final Accuracy: 70.0%\n",
      "--------------------------------------\n",
      "Genre: classical completed, Accuracy for genre: 70.0%\n",
      "Genre: country completed, Accuracy for genre: 70.0%\n",
      "Genre: jazz completed, Accuracy for genre: 60.0%\n",
      "Genre: metal completed, Accuracy for genre: 90.0%\n",
      "Genre: pop completed, Accuracy for genre: 50.0%\n",
      "--------------------------------------\n",
      "Metric: l3, N_mfcc: 3, Train_size: 40, Test_size: 10, Window_size: 5\n",
      "Final Accuracy: 68.0%\n",
      "--------------------------------------\n",
      "Genre: classical completed, Accuracy for genre: 70.0%\n",
      "Genre: country completed, Accuracy for genre: 80.0%\n",
      "Genre: jazz completed, Accuracy for genre: 60.0%\n",
      "Genre: metal completed, Accuracy for genre: 80.0%\n",
      "Genre: pop completed, Accuracy for genre: 40.0%\n",
      "--------------------------------------\n",
      "Metric: l_max, N_mfcc: 3, Train_size: 40, Test_size: 10, Window_size: 5\n",
      "Final Accuracy: 66.0%\n",
      "--------------------------------------\n"
     ]
    },
    {
     "data": {
      "text/plain": "0.66"
     },
     "execution_count": 16,
     "metadata": {},
     "output_type": "execute_result"
    }
   ],
   "source": [
    "audio_classifier_aggregated_mfccs = AudioClassifierAggregatedMfccs(genres_names=genres_names, train_size=40)\n",
    "audio_classifier_aggregated_mfccs.test(test_size=10, metric=\"l1\")\n",
    "audio_classifier_aggregated_mfccs.test(test_size=10)\n",
    "audio_classifier_aggregated_mfccs.test(test_size=10, metric=\"l3\")\n",
    "audio_classifier_aggregated_mfccs.test(test_size=10, metric=\"l_max\")"
   ],
   "metadata": {
    "collapsed": false
   }
  },
  {
   "cell_type": "code",
   "execution_count": 17,
   "outputs": [
    {
     "name": "stdout",
     "output_type": "stream",
     "text": [
      "Genre: classical completed, Accuracy for genre: 80.0%\n",
      "Genre: country completed, Accuracy for genre: 50.0%\n",
      "Genre: jazz completed, Accuracy for genre: 60.0%\n",
      "Genre: metal completed, Accuracy for genre: 100.0%\n",
      "Genre: pop completed, Accuracy for genre: 70.0%\n",
      "--------------------------------------\n",
      "Metric: l1, N_mfcc: 3, Train_size: 50, Test_size: 10, Window_size: 5\n",
      "Final Accuracy: 72.0%\n",
      "--------------------------------------\n",
      "Genre: classical completed, Accuracy for genre: 80.0%\n",
      "Genre: country completed, Accuracy for genre: 60.0%\n",
      "Genre: jazz completed, Accuracy for genre: 60.0%\n",
      "Genre: metal completed, Accuracy for genre: 90.0%\n",
      "Genre: pop completed, Accuracy for genre: 60.0%\n",
      "--------------------------------------\n",
      "Metric: l2, N_mfcc: 3, Train_size: 50, Test_size: 10, Window_size: 5\n",
      "Final Accuracy: 70.0%\n",
      "--------------------------------------\n",
      "Genre: classical completed, Accuracy for genre: 80.0%\n",
      "Genre: country completed, Accuracy for genre: 60.0%\n",
      "Genre: jazz completed, Accuracy for genre: 60.0%\n",
      "Genre: metal completed, Accuracy for genre: 90.0%\n",
      "Genre: pop completed, Accuracy for genre: 50.0%\n",
      "--------------------------------------\n",
      "Metric: l3, N_mfcc: 3, Train_size: 50, Test_size: 10, Window_size: 5\n",
      "Final Accuracy: 68.0%\n",
      "--------------------------------------\n",
      "Genre: classical completed, Accuracy for genre: 80.0%\n",
      "Genre: country completed, Accuracy for genre: 60.0%\n",
      "Genre: jazz completed, Accuracy for genre: 60.0%\n",
      "Genre: metal completed, Accuracy for genre: 90.0%\n",
      "Genre: pop completed, Accuracy for genre: 40.0%\n",
      "--------------------------------------\n",
      "Metric: l_max, N_mfcc: 3, Train_size: 50, Test_size: 10, Window_size: 5\n",
      "Final Accuracy: 66.0%\n",
      "--------------------------------------\n"
     ]
    },
    {
     "data": {
      "text/plain": "0.66"
     },
     "execution_count": 17,
     "metadata": {},
     "output_type": "execute_result"
    }
   ],
   "source": [
    "audio_classifier_aggregated_mfccs = AudioClassifierAggregatedMfccs(genres_names=genres_names, train_size=50)\n",
    "audio_classifier_aggregated_mfccs.test(test_size=10, metric=\"l1\")\n",
    "audio_classifier_aggregated_mfccs.test(test_size=10)\n",
    "audio_classifier_aggregated_mfccs.test(test_size=10, metric=\"l3\")\n",
    "audio_classifier_aggregated_mfccs.test(test_size=10, metric=\"l_max\")"
   ],
   "metadata": {
    "collapsed": false,
    "pycharm": {
     "name": "#%%\n"
    }
   }
  },
  {
   "cell_type": "code",
   "execution_count": 18,
   "outputs": [
    {
     "name": "stdout",
     "output_type": "stream",
     "text": [
      "Error during load of a song: ./data/train/ jazz/jazz.000054.wav\n",
      "Genre: classical completed, Accuracy for genre: 80.0%\n",
      "Genre: country completed, Accuracy for genre: 60.0%\n",
      "Genre: jazz completed, Accuracy for genre: 60.0%\n",
      "Genre: metal completed, Accuracy for genre: 100.0%\n",
      "Genre: pop completed, Accuracy for genre: 70.0%\n",
      "--------------------------------------\n",
      "Metric: l1, N_mfcc: 3, Train_size: 60, Test_size: 10, Window_size: 5\n",
      "Final Accuracy: 74.0%\n",
      "--------------------------------------\n",
      "Genre: classical completed, Accuracy for genre: 80.0%\n",
      "Genre: country completed, Accuracy for genre: 60.0%\n",
      "Genre: jazz completed, Accuracy for genre: 60.0%\n",
      "Genre: metal completed, Accuracy for genre: 100.0%\n",
      "Genre: pop completed, Accuracy for genre: 70.0%\n",
      "--------------------------------------\n",
      "Metric: l2, N_mfcc: 3, Train_size: 60, Test_size: 10, Window_size: 5\n",
      "Final Accuracy: 74.0%\n",
      "--------------------------------------\n",
      "Genre: classical completed, Accuracy for genre: 80.0%\n",
      "Genre: country completed, Accuracy for genre: 60.0%\n",
      "Genre: jazz completed, Accuracy for genre: 60.0%\n",
      "Genre: metal completed, Accuracy for genre: 80.0%\n",
      "Genre: pop completed, Accuracy for genre: 70.0%\n",
      "--------------------------------------\n",
      "Metric: l3, N_mfcc: 3, Train_size: 60, Test_size: 10, Window_size: 5\n",
      "Final Accuracy: 70.0%\n",
      "--------------------------------------\n",
      "Genre: classical completed, Accuracy for genre: 80.0%\n",
      "Genre: country completed, Accuracy for genre: 70.0%\n",
      "Genre: jazz completed, Accuracy for genre: 60.0%\n",
      "Genre: metal completed, Accuracy for genre: 60.0%\n",
      "Genre: pop completed, Accuracy for genre: 70.0%\n",
      "--------------------------------------\n",
      "Metric: l_max, N_mfcc: 3, Train_size: 60, Test_size: 10, Window_size: 5\n",
      "Final Accuracy: 68.0%\n",
      "--------------------------------------\n"
     ]
    },
    {
     "data": {
      "text/plain": "0.68"
     },
     "execution_count": 18,
     "metadata": {},
     "output_type": "execute_result"
    }
   ],
   "source": [
    "audio_classifier_aggregated_mfccs = AudioClassifierAggregatedMfccs(genres_names=genres_names, train_size=60)\n",
    "audio_classifier_aggregated_mfccs.test(test_size=10, metric=\"l1\")\n",
    "audio_classifier_aggregated_mfccs.test(test_size=10)\n",
    "audio_classifier_aggregated_mfccs.test(test_size=10, metric=\"l3\")\n",
    "audio_classifier_aggregated_mfccs.test(test_size=10, metric=\"l_max\")"
   ],
   "metadata": {
    "collapsed": false,
    "pycharm": {
     "name": "#%%\n"
    }
   }
  },
  {
   "cell_type": "code",
   "execution_count": 19,
   "outputs": [
    {
     "name": "stdout",
     "output_type": "stream",
     "text": [
      "Error during load of a song: ./data/train/ jazz/jazz.000054.wav\n",
      "Genre: classical completed, Accuracy for genre: 80.0%\n",
      "Genre: country completed, Accuracy for genre: 60.0%\n",
      "Genre: jazz completed, Accuracy for genre: 60.0%\n",
      "Genre: metal completed, Accuracy for genre: 100.0%\n",
      "Genre: pop completed, Accuracy for genre: 70.0%\n",
      "--------------------------------------\n",
      "Metric: l1, N_mfcc: 3, Train_size: 70, Test_size: 10, Window_size: 5\n",
      "Final Accuracy: 74.0%\n",
      "--------------------------------------\n",
      "Genre: classical completed, Accuracy for genre: 80.0%\n",
      "Genre: country completed, Accuracy for genre: 60.0%\n",
      "Genre: jazz completed, Accuracy for genre: 60.0%\n",
      "Genre: metal completed, Accuracy for genre: 90.0%\n",
      "Genre: pop completed, Accuracy for genre: 70.0%\n",
      "--------------------------------------\n",
      "Metric: l2, N_mfcc: 3, Train_size: 70, Test_size: 10, Window_size: 5\n",
      "Final Accuracy: 72.0%\n",
      "--------------------------------------\n",
      "Genre: classical completed, Accuracy for genre: 80.0%\n",
      "Genre: country completed, Accuracy for genre: 60.0%\n",
      "Genre: jazz completed, Accuracy for genre: 60.0%\n",
      "Genre: metal completed, Accuracy for genre: 90.0%\n",
      "Genre: pop completed, Accuracy for genre: 70.0%\n",
      "--------------------------------------\n",
      "Metric: l3, N_mfcc: 3, Train_size: 70, Test_size: 10, Window_size: 5\n",
      "Final Accuracy: 72.0%\n",
      "--------------------------------------\n",
      "Genre: classical completed, Accuracy for genre: 80.0%\n",
      "Genre: country completed, Accuracy for genre: 60.0%\n",
      "Genre: jazz completed, Accuracy for genre: 60.0%\n",
      "Genre: metal completed, Accuracy for genre: 90.0%\n",
      "Genre: pop completed, Accuracy for genre: 60.0%\n",
      "--------------------------------------\n",
      "Metric: l_max, N_mfcc: 3, Train_size: 70, Test_size: 10, Window_size: 5\n",
      "Final Accuracy: 70.0%\n",
      "--------------------------------------\n"
     ]
    },
    {
     "data": {
      "text/plain": "0.7"
     },
     "execution_count": 19,
     "metadata": {},
     "output_type": "execute_result"
    }
   ],
   "source": [
    "audio_classifier_aggregated_mfccs = AudioClassifierAggregatedMfccs(genres_names=genres_names, train_size=70)\n",
    "audio_classifier_aggregated_mfccs.test(test_size=10, metric=\"l1\")\n",
    "audio_classifier_aggregated_mfccs.test(test_size=10)\n",
    "audio_classifier_aggregated_mfccs.test(test_size=10, metric=\"l3\")\n",
    "audio_classifier_aggregated_mfccs.test(test_size=10, metric=\"l_max\")"
   ],
   "metadata": {
    "collapsed": false,
    "pycharm": {
     "name": "#%%\n"
    }
   }
  },
  {
   "cell_type": "code",
   "execution_count": 20,
   "outputs": [
    {
     "name": "stdout",
     "output_type": "stream",
     "text": [
      "Error during load of a song: ./data/train/ jazz/jazz.000054.wav\n",
      "Genre: classical completed, Accuracy for genre: 80.0%\n",
      "Genre: country completed, Accuracy for genre: 60.0%\n",
      "Genre: jazz completed, Accuracy for genre: 60.0%\n",
      "Genre: metal completed, Accuracy for genre: 90.0%\n",
      "Genre: pop completed, Accuracy for genre: 70.0%\n",
      "--------------------------------------\n",
      "Metric: l1, N_mfcc: 3, Train_size: 80, Test_size: 10, Window_size: 5\n",
      "Final Accuracy: 72.0%\n",
      "--------------------------------------\n",
      "Genre: classical completed, Accuracy for genre: 80.0%\n",
      "Genre: country completed, Accuracy for genre: 60.0%\n",
      "Genre: jazz completed, Accuracy for genre: 60.0%\n",
      "Genre: metal completed, Accuracy for genre: 90.0%\n",
      "Genre: pop completed, Accuracy for genre: 70.0%\n",
      "--------------------------------------\n",
      "Metric: l2, N_mfcc: 3, Train_size: 80, Test_size: 10, Window_size: 5\n",
      "Final Accuracy: 72.0%\n",
      "--------------------------------------\n",
      "Genre: classical completed, Accuracy for genre: 80.0%\n",
      "Genre: country completed, Accuracy for genre: 60.0%\n",
      "Genre: jazz completed, Accuracy for genre: 60.0%\n",
      "Genre: metal completed, Accuracy for genre: 90.0%\n",
      "Genre: pop completed, Accuracy for genre: 70.0%\n",
      "--------------------------------------\n",
      "Metric: l3, N_mfcc: 3, Train_size: 80, Test_size: 10, Window_size: 5\n",
      "Final Accuracy: 72.0%\n",
      "--------------------------------------\n",
      "Genre: classical completed, Accuracy for genre: 80.0%\n",
      "Genre: country completed, Accuracy for genre: 60.0%\n",
      "Genre: jazz completed, Accuracy for genre: 60.0%\n",
      "Genre: metal completed, Accuracy for genre: 90.0%\n",
      "Genre: pop completed, Accuracy for genre: 70.0%\n",
      "--------------------------------------\n",
      "Metric: l_max, N_mfcc: 3, Train_size: 80, Test_size: 10, Window_size: 5\n",
      "Final Accuracy: 72.0%\n",
      "--------------------------------------\n"
     ]
    },
    {
     "data": {
      "text/plain": "0.72"
     },
     "execution_count": 20,
     "metadata": {},
     "output_type": "execute_result"
    }
   ],
   "source": [
    "audio_classifier_aggregated_mfccs = AudioClassifierAggregatedMfccs(genres_names=genres_names, train_size=80)\n",
    "audio_classifier_aggregated_mfccs.test(test_size=10, metric=\"l1\")\n",
    "audio_classifier_aggregated_mfccs.test(test_size=10)\n",
    "audio_classifier_aggregated_mfccs.test(test_size=10, metric=\"l3\")\n",
    "audio_classifier_aggregated_mfccs.test(test_size=10, metric=\"l_max\")"
   ],
   "metadata": {
    "collapsed": false,
    "pycharm": {
     "name": "#%%\n"
    }
   }
  },
  {
   "cell_type": "code",
   "execution_count": 21,
   "outputs": [
    {
     "name": "stdout",
     "output_type": "stream",
     "text": [
      "Genre: classical completed, Accuracy for genre: 80.0%\n",
      "Genre: country completed, Accuracy for genre: 50.0%\n",
      "Genre: jazz completed, Accuracy for genre: 60.0%\n",
      "Genre: metal completed, Accuracy for genre: 100.0%\n",
      "Genre: pop completed, Accuracy for genre: 70.0%\n",
      "--------------------------------------\n",
      "Metric: l1, N_mfcc: 3, Train_size: 90, Test_size: 10, Window_size: 5\n",
      "Final Accuracy: 72.0%\n",
      "--------------------------------------\n",
      "Genre: classical completed, Accuracy for genre: 80.0%\n",
      "Genre: country completed, Accuracy for genre: 60.0%\n",
      "Genre: jazz completed, Accuracy for genre: 60.0%\n",
      "Genre: metal completed, Accuracy for genre: 90.0%\n",
      "Genre: pop completed, Accuracy for genre: 70.0%\n",
      "--------------------------------------\n",
      "Metric: l2, N_mfcc: 3, Train_size: 90, Test_size: 10, Window_size: 5\n",
      "Final Accuracy: 72.0%\n",
      "--------------------------------------\n",
      "Genre: classical completed, Accuracy for genre: 80.0%\n",
      "Genre: country completed, Accuracy for genre: 60.0%\n",
      "Genre: jazz completed, Accuracy for genre: 60.0%\n",
      "Genre: metal completed, Accuracy for genre: 90.0%\n",
      "Genre: pop completed, Accuracy for genre: 60.0%\n",
      "--------------------------------------\n",
      "Metric: l3, N_mfcc: 3, Train_size: 90, Test_size: 10, Window_size: 5\n",
      "Final Accuracy: 70.0%\n",
      "--------------------------------------\n",
      "Genre: classical completed, Accuracy for genre: 80.0%\n",
      "Genre: country completed, Accuracy for genre: 60.0%\n",
      "Genre: jazz completed, Accuracy for genre: 60.0%\n",
      "Genre: metal completed, Accuracy for genre: 90.0%\n",
      "Genre: pop completed, Accuracy for genre: 60.0%\n",
      "--------------------------------------\n",
      "Metric: l_max, N_mfcc: 3, Train_size: 90, Test_size: 10, Window_size: 5\n",
      "Final Accuracy: 70.0%\n",
      "--------------------------------------\n"
     ]
    },
    {
     "data": {
      "text/plain": "0.7"
     },
     "execution_count": 21,
     "metadata": {},
     "output_type": "execute_result"
    }
   ],
   "source": [
    "audio_classifier_aggregated_mfccs = AudioClassifierAggregatedMfccs(genres_names=genres_names, train_size=90)\n",
    "audio_classifier_aggregated_mfccs.test(test_size=10, metric=\"l1\")\n",
    "audio_classifier_aggregated_mfccs.test(test_size=10)\n",
    "audio_classifier_aggregated_mfccs.test(test_size=10, metric=\"l3\")\n",
    "audio_classifier_aggregated_mfccs.test(test_size=10, metric=\"l_max\")"
   ],
   "metadata": {
    "collapsed": false,
    "pycharm": {
     "name": "#%%\n"
    }
   }
  },
  {
   "cell_type": "code",
   "execution_count": 23,
   "outputs": [
    {
     "name": "stdout",
     "output_type": "stream",
     "text": [
      "Genre: classical completed, Accuracy for genre: 80.0%\n",
      "Genre: country completed, Accuracy for genre: 60.0%\n",
      "Genre: jazz completed, Accuracy for genre: 60.0%\n",
      "Genre: metal completed, Accuracy for genre: 90.0%\n",
      "Genre: pop completed, Accuracy for genre: 60.0%\n",
      "Genre: hiphop completed, Accuracy for genre: 40.0%\n",
      "--------------------------------------\n",
      "Metric: l1, N_mfcc: 3, Train_size: 60, Test_size: 10, Window_size: 5\n",
      "Final Accuracy: 65.0%\n",
      "--------------------------------------\n"
     ]
    },
    {
     "data": {
      "text/plain": "0.65"
     },
     "execution_count": 23,
     "metadata": {},
     "output_type": "execute_result"
    }
   ],
   "source": [
    "genres_names = [\"classical\", \"country\", \"jazz\", \"metal\", \"pop\", \"hiphop\"]\n",
    "audio_classifier_aggregated_mfccs = AudioClassifierAggregatedMfccs(genres_names=genres_names, train_size=60)\n",
    "audio_classifier_aggregated_mfccs.test(test_size=10, metric=\"l1\")"
   ],
   "metadata": {
    "collapsed": false,
    "pycharm": {
     "name": "#%%\n"
    }
   }
  },
  {
   "cell_type": "code",
   "execution_count": 24,
   "outputs": [
    {
     "name": "stdout",
     "output_type": "stream",
     "text": [
      "Genre: classical completed, Accuracy for genre: 80.0%\n",
      "Genre: country completed, Accuracy for genre: 40.0%\n",
      "Genre: jazz completed, Accuracy for genre: 60.0%\n",
      "Genre: metal completed, Accuracy for genre: 80.0%\n",
      "Genre: pop completed, Accuracy for genre: 70.0%\n",
      "Genre: rock completed, Accuracy for genre: 30.0%\n",
      "--------------------------------------\n",
      "Metric: l1, N_mfcc: 3, Train_size: 60, Test_size: 10, Window_size: 5\n",
      "Final Accuracy: 60.0%\n",
      "--------------------------------------\n"
     ]
    },
    {
     "data": {
      "text/plain": "0.6"
     },
     "execution_count": 24,
     "metadata": {},
     "output_type": "execute_result"
    }
   ],
   "source": [
    "genres_names = [\"classical\", \"country\", \"jazz\", \"metal\", \"pop\", \"rock\"]\n",
    "audio_classifier_aggregated_mfccs = AudioClassifierAggregatedMfccs(genres_names=genres_names, train_size=60)\n",
    "audio_classifier_aggregated_mfccs.test(test_size=10, metric=\"l1\")"
   ],
   "metadata": {
    "collapsed": false,
    "pycharm": {
     "name": "#%%\n"
    }
   }
  },
  {
   "cell_type": "code",
   "execution_count": 25,
   "outputs": [
    {
     "name": "stdout",
     "output_type": "stream",
     "text": [
      "Genre: classical completed, Accuracy for genre: 80.0%\n",
      "Genre: country completed, Accuracy for genre: 60.0%\n",
      "Genre: jazz completed, Accuracy for genre: 60.0%\n",
      "Genre: metal completed, Accuracy for genre: 70.0%\n",
      "Genre: pop completed, Accuracy for genre: 70.0%\n",
      "Genre: disco completed, Accuracy for genre: 30.0%\n",
      "--------------------------------------\n",
      "Metric: l1, N_mfcc: 3, Train_size: 60, Test_size: 10, Window_size: 5\n",
      "Final Accuracy: 61.66666666666667%\n",
      "--------------------------------------\n"
     ]
    },
    {
     "data": {
      "text/plain": "0.6166666666666667"
     },
     "execution_count": 25,
     "metadata": {},
     "output_type": "execute_result"
    }
   ],
   "source": [
    "genres_names = [\"classical\", \"country\", \"jazz\", \"metal\", \"pop\", \"disco\"]\n",
    "audio_classifier_aggregated_mfccs = AudioClassifierAggregatedMfccs(genres_names=genres_names, train_size=60)\n",
    "audio_classifier_aggregated_mfccs.test(test_size=10, metric=\"l1\")"
   ],
   "metadata": {
    "collapsed": false,
    "pycharm": {
     "name": "#%%\n"
    }
   }
  },
  {
   "cell_type": "code",
   "execution_count": 26,
   "outputs": [
    {
     "name": "stdout",
     "output_type": "stream",
     "text": [
      "Genre: classical completed, Accuracy for genre: 80.0%\n",
      "Genre: country completed, Accuracy for genre: 60.0%\n",
      "Genre: jazz completed, Accuracy for genre: 60.0%\n",
      "Genre: metal completed, Accuracy for genre: 100.0%\n",
      "Genre: pop completed, Accuracy for genre: 70.0%\n",
      "Genre: reggae completed, Accuracy for genre: 30.0%\n",
      "--------------------------------------\n",
      "Metric: l1, N_mfcc: 3, Train_size: 60, Test_size: 10, Window_size: 5\n",
      "Final Accuracy: 66.66666666666666%\n",
      "--------------------------------------\n"
     ]
    },
    {
     "data": {
      "text/plain": "0.6666666666666666"
     },
     "execution_count": 26,
     "metadata": {},
     "output_type": "execute_result"
    }
   ],
   "source": [
    "genres_names = [\"classical\", \"country\", \"jazz\", \"metal\", \"pop\", \"reggae\"]\n",
    "audio_classifier_aggregated_mfccs = AudioClassifierAggregatedMfccs(genres_names=genres_names, train_size=60)\n",
    "audio_classifier_aggregated_mfccs.test(test_size=10, metric=\"l1\")"
   ],
   "metadata": {
    "collapsed": false,
    "pycharm": {
     "name": "#%%\n"
    }
   }
  },
  {
   "cell_type": "code",
   "execution_count": null,
   "outputs": [],
   "source": [
    "from audio_classification import dtw_distance\n",
    "\n",
    "dtw_distance(mfcc1, mfcc2, 20)"
   ],
   "metadata": {
    "collapsed": false,
    "pycharm": {
     "name": "#%%\n"
    }
   }
  },
  {
   "cell_type": "code",
   "execution_count": null,
   "outputs": [],
   "source": [
    "from audio_classification import *\n",
    "\n",
    "classify('./data/classical/classical.00042.wav')"
   ],
   "metadata": {
    "collapsed": false
   }
  },
  {
   "cell_type": "code",
   "execution_count": null,
   "outputs": [],
   "source": [
    "D, wp = librosa.sequence.dtw(mfcc1, mfcc2)\n",
    "D[-1, -1]\n",
    "\n"
   ],
   "metadata": {
    "collapsed": false,
    "pycharm": {
     "name": "#%%\n"
    }
   }
  }
 ],
 "metadata": {
  "kernelspec": {
   "display_name": "Python 3 (ipykernel)",
   "language": "python",
   "name": "python3"
  },
  "language_info": {
   "codemirror_mode": {
    "name": "ipython",
    "version": 3
   },
   "file_extension": ".py",
   "mimetype": "text/x-python",
   "name": "python",
   "nbconvert_exporter": "python",
   "pygments_lexer": "ipython3",
   "version": "3.8.10"
  }
 },
 "nbformat": 4,
 "nbformat_minor": 5
}