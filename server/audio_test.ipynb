{
 "cells": [
  {
   "cell_type": "code",
   "execution_count": 6,
   "id": "4ee3e32e-1c41-49f0-87c7-a0bc2621029d",
   "metadata": {
    "pycharm": {
     "is_executing": true
    }
   },
   "outputs": [],
   "source": [
    "import pandas as pd\n",
    "import numpy as np\n",
    "import librosa"
   ]
  },
  {
   "cell_type": "code",
   "execution_count": 4,
   "id": "1f348b25-6d96-4d9b-a213-214acd024445",
   "metadata": {},
   "outputs": [
    {
     "name": "stdout",
     "output_type": "stream",
     "text": [
      "Requirement already satisfied: pandas in ./venv/lib/python3.8/site-packages (1.5.1)\n",
      "Requirement already satisfied: pytz>=2020.1 in ./venv/lib/python3.8/site-packages (from pandas) (2022.5)\n",
      "Requirement already satisfied: numpy>=1.20.3; python_version < \"3.10\" in ./venv/lib/python3.8/site-packages (from pandas) (1.23.4)\n",
      "Requirement already satisfied: python-dateutil>=2.8.1 in ./venv/lib/python3.8/site-packages (from pandas) (2.8.2)\n",
      "Requirement already satisfied: six>=1.5 in ./venv/lib/python3.8/site-packages (from python-dateutil>=2.8.1->pandas) (1.16.0)\n"
     ]
    }
   ],
   "source": [
    "! pip3 install pandas"
   ]
  },
  {
   "cell_type": "code",
   "execution_count": 5,
   "id": "65d63565-f87e-42f9-ac23-fcffe54c6fee",
   "metadata": {},
   "outputs": [
    {
     "name": "stdout",
     "output_type": "stream",
     "text": [
      "Collecting librosa\n",
      "  Using cached librosa-0.9.2-py3-none-any.whl (214 kB)\n",
      "Requirement already satisfied: numpy>=1.17.0 in ./venv/lib/python3.8/site-packages (from librosa) (1.23.4)\n",
      "Requirement already satisfied: packaging>=20.0 in ./venv/lib/python3.8/site-packages (from librosa) (21.3)\n",
      "Collecting audioread>=2.1.9\n",
      "  Using cached audioread-3.0.0.tar.gz (377 kB)\n",
      "Collecting scipy>=1.2.0\n",
      "  Downloading scipy-1.9.3-cp38-cp38-manylinux_2_17_x86_64.manylinux2014_x86_64.whl (33.8 MB)\n",
      "\u001b[K     |████████████████████████████████| 33.8 MB 410 kB/s eta 0:00:01    |███▏                            | 3.4 MB 3.1 MB/s eta 0:00:10\n",
      "\u001b[?25hCollecting resampy>=0.2.2\n",
      "  Using cached resampy-0.4.2-py3-none-any.whl (3.1 MB)\n",
      "Collecting soundfile>=0.10.2\n",
      "  Using cached soundfile-0.11.0-py2.py3-none-any.whl (23 kB)\n",
      "Collecting pooch>=1.0\n",
      "  Using cached pooch-1.6.0-py3-none-any.whl (56 kB)\n",
      "Collecting joblib>=0.14\n",
      "  Downloading joblib-1.2.0-py3-none-any.whl (297 kB)\n",
      "\u001b[K     |████████████████████████████████| 297 kB 4.5 MB/s eta 0:00:01\n",
      "\u001b[?25hCollecting scikit-learn>=0.19.1\n",
      "  Downloading scikit_learn-1.1.3-cp38-cp38-manylinux_2_17_x86_64.manylinux2014_x86_64.whl (31.2 MB)\n",
      "\u001b[K     |████████████████████████████████| 31.2 MB 4.0 MB/s eta 0:00:01     |█████████████████████▌          | 20.9 MB 4.7 MB/s eta 0:00:03     |███████████████████████████████▍| 30.7 MB 4.0 MB/s eta 0:00:01     |███████████████████████████████▊| 30.9 MB 4.0 MB/s eta 0:00:01\n",
      "\u001b[?25hRequirement already satisfied: decorator>=4.0.10 in ./venv/lib/python3.8/site-packages (from librosa) (5.1.1)\n",
      "Collecting numba>=0.45.1\n",
      "  Downloading numba-0.56.3-cp38-cp38-manylinux2014_x86_64.manylinux_2_17_x86_64.whl (3.5 MB)\n",
      "\u001b[K     |████████████████████████████████| 3.5 MB 6.1 MB/s eta 0:00:01     |███████████████████████████▍    | 3.0 MB 6.1 MB/s eta 0:00:01\n",
      "\u001b[?25hRequirement already satisfied: pyparsing!=3.0.5,>=2.0.2 in ./venv/lib/python3.8/site-packages (from packaging>=20.0->librosa) (3.0.9)\n",
      "Requirement already satisfied: cffi>=1.0 in ./venv/lib/python3.8/site-packages (from soundfile>=0.10.2->librosa) (1.15.1)\n",
      "Requirement already satisfied: requests>=2.19.0 in ./venv/lib/python3.8/site-packages (from pooch>=1.0->librosa) (2.28.1)\n",
      "Collecting appdirs>=1.3.0\n",
      "  Using cached appdirs-1.4.4-py2.py3-none-any.whl (9.6 kB)\n",
      "Collecting threadpoolctl>=2.0.0\n",
      "  Downloading threadpoolctl-3.1.0-py3-none-any.whl (14 kB)\n",
      "Requirement already satisfied: importlib-metadata; python_version < \"3.9\" in ./venv/lib/python3.8/site-packages (from numba>=0.45.1->librosa) (5.0.0)\n",
      "Collecting llvmlite<0.40,>=0.39.0dev0\n",
      "  Downloading llvmlite-0.39.1-cp38-cp38-manylinux_2_17_x86_64.manylinux2014_x86_64.whl (34.6 MB)\n",
      "\u001b[K     |████████████████████████████████| 34.6 MB 5.6 MB/s eta 0:00:01    |█████▍                          | 5.9 MB 3.5 MB/s eta 0:00:09     |███████                         | 7.6 MB 3.5 MB/s eta 0:00:08     |██████████▉                     | 11.7 MB 4.7 MB/s eta 0:00:05     |██████████████▋                 | 15.8 MB 9.1 MB/s eta 0:00:03     |███████████████▌                | 16.7 MB 9.1 MB/s eta 0:00:02     |████████████████▍               | 17.8 MB 9.1 MB/s eta 0:00:02     |███████████████████▊            | 21.4 MB 3.5 MB/s eta 0:00:04     |███████████████████████▏        | 25.1 MB 3.1 MB/s eta 0:00:04     |████████████████████████▌       | 26.6 MB 3.1 MB/s eta 0:00:03     |█████████████████████████       | 27.0 MB 3.1 MB/s eta 0:00:03     |█████████████████████████▋      | 27.8 MB 3.1 MB/s eta 0:00:03     |████████████████████████████▍   | 30.7 MB 3.6 MB/s eta 0:00:02\n",
      "\u001b[?25hRequirement already satisfied: setuptools in ./venv/lib/python3.8/site-packages (from numba>=0.45.1->librosa) (44.0.0)\n",
      "Requirement already satisfied: pycparser in ./venv/lib/python3.8/site-packages (from cffi>=1.0->soundfile>=0.10.2->librosa) (2.21)\n",
      "Requirement already satisfied: idna<4,>=2.5 in ./venv/lib/python3.8/site-packages (from requests>=2.19.0->pooch>=1.0->librosa) (3.4)\n",
      "Requirement already satisfied: charset-normalizer<3,>=2 in ./venv/lib/python3.8/site-packages (from requests>=2.19.0->pooch>=1.0->librosa) (2.1.1)\n",
      "Requirement already satisfied: certifi>=2017.4.17 in ./venv/lib/python3.8/site-packages (from requests>=2.19.0->pooch>=1.0->librosa) (2022.9.24)\n",
      "Requirement already satisfied: urllib3<1.27,>=1.21.1 in ./venv/lib/python3.8/site-packages (from requests>=2.19.0->pooch>=1.0->librosa) (1.26.12)\n",
      "Requirement already satisfied: zipp>=0.5 in ./venv/lib/python3.8/site-packages (from importlib-metadata; python_version < \"3.9\"->numba>=0.45.1->librosa) (3.10.0)\n",
      "Building wheels for collected packages: audioread\n",
      "  Building wheel for audioread (setup.py) ... \u001b[?25lerror\n",
      "\u001b[31m  ERROR: Command errored out with exit status 1:\n",
      "   command: /home/marketa/FIT/VMM/semestralka/server/venv/bin/python3 -u -c 'import sys, setuptools, tokenize; sys.argv[0] = '\"'\"'/tmp/pip-install-t9uezzx1/audioread/setup.py'\"'\"'; __file__='\"'\"'/tmp/pip-install-t9uezzx1/audioread/setup.py'\"'\"';f=getattr(tokenize, '\"'\"'open'\"'\"', open)(__file__);code=f.read().replace('\"'\"'\\r\\n'\"'\"', '\"'\"'\\n'\"'\"');f.close();exec(compile(code, __file__, '\"'\"'exec'\"'\"'))' bdist_wheel -d /tmp/pip-wheel-lsbyhq4_\n",
      "       cwd: /tmp/pip-install-t9uezzx1/audioread/\n",
      "  Complete output (8 lines):\n",
      "  /tmp/pip-install-t9uezzx1/audioread/setup.py:17: DeprecationWarning: the imp module is deprecated in favour of importlib; see the module's documentation for alternative uses\n",
      "    import imp\n",
      "  usage: setup.py [global_opts] cmd1 [cmd1_opts] [cmd2 [cmd2_opts] ...]\n",
      "     or: setup.py --help [cmd1 cmd2 ...]\n",
      "     or: setup.py --help-commands\n",
      "     or: setup.py cmd --help\n",
      "  \n",
      "  error: invalid command 'bdist_wheel'\n",
      "  ----------------------------------------\u001b[0m\n",
      "\u001b[31m  ERROR: Failed building wheel for audioread\u001b[0m\n",
      "\u001b[?25h  Running setup.py clean for audioread\n",
      "Failed to build audioread\n",
      "Installing collected packages: audioread, scipy, llvmlite, numba, resampy, soundfile, appdirs, pooch, joblib, threadpoolctl, scikit-learn, librosa\n",
      "    Running setup.py install for audioread ... \u001b[?25ldone\n",
      "\u001b[?25hSuccessfully installed appdirs-1.4.4 audioread-3.0.0 joblib-1.2.0 librosa-0.9.2 llvmlite-0.39.1 numba-0.56.3 pooch-1.6.0 resampy-0.4.2 scikit-learn-1.1.3 scipy-1.9.3 soundfile-0.11.0 threadpoolctl-3.1.0\n"
     ]
    }
   ],
   "source": [
    "! pip3 install librosa"
   ]
  },
  {
   "cell_type": "code",
   "execution_count": 7,
   "id": "2315ad59-8038-4cce-9491-d1d644a7fbbe",
   "metadata": {},
   "outputs": [],
   "source": [
    "# Get the file path to an included audio example (from Librosa)\n",
    "filename = librosa.example('nutcracker')"
   ]
  },
  {
   "cell_type": "code",
   "execution_count": 8,
   "id": "9ca35400-8d36-4012-9209-dddb9122b706",
   "metadata": {},
   "outputs": [],
   "source": [
    "# Load the audio as a waveform `y`\n",
    "# Store the sampling rate as `sr`\n",
    "y, sr = librosa.load(filename)"
   ]
  },
  {
   "cell_type": "code",
   "execution_count": 9,
   "id": "36280875-31e0-4359-956f-24c572ea5bd3",
   "metadata": {},
   "outputs": [],
   "source": [
    "# Run the default beat tracker\n",
    "tempo, beat_frames = librosa.beat.beat_track(y=y, sr=sr)"
   ]
  },
  {
   "cell_type": "code",
   "execution_count": 10,
   "id": "51cf7455-06ef-47a9-87b8-9b1036cda54b",
   "metadata": {},
   "outputs": [
    {
     "name": "stdout",
     "output_type": "stream",
     "text": [
      "Estimated tempo: 107.67 beats per minute\n"
     ]
    }
   ],
   "source": [
    "print('Estimated tempo: {:.2f} beats per minute'.format(tempo))"
   ]
  },
  {
   "cell_type": "code",
   "execution_count": 11,
   "id": "0305710e-5fc7-4de8-8ecf-e107ebb6cf13",
   "metadata": {},
   "outputs": [
    {
     "data": {
      "text/plain": [
       "array([  1.18421769,   1.71827664,   2.32199546,   2.87927438,\n",
       "         3.45977324,   4.01705215,   4.59755102,   5.13160998,\n",
       "         5.7353288 ,   6.29260771,   6.84988662,   7.40716553,\n",
       "         7.9876644 ,   8.54494331,   9.12544218,   9.65950113,\n",
       "        10.21678005,  10.72761905,  11.28489796,  11.79573696,\n",
       "        12.32979592,  12.86385488,  13.42113379,  13.95519274,\n",
       "        14.4892517 ,  15.02331066,  15.55736961,  16.09142857,\n",
       "        16.62548753,  17.15954649,  17.69360544,  18.25088435,\n",
       "        18.80816327,  19.31900227,  19.87628118,  20.38712018,\n",
       "        20.92117914,  21.4552381 ,  21.98929705,  22.52335601,\n",
       "        23.05741497,  23.59147392,  24.12553288,  24.65959184,\n",
       "        25.19365079,  25.72770975,  26.26176871,  26.81904762,\n",
       "        27.35310658,  27.88716553,  28.44444444,  29.00172336,\n",
       "        29.55900227,  30.11628118,  30.67356009,  31.20761905,\n",
       "        31.78811791,  32.34539683,  32.85623583,  33.36707483,\n",
       "        33.90113379,  34.43519274,  34.94603175,  35.45687075,\n",
       "        35.99092971,  36.52498866,  37.03582766,  37.56988662,\n",
       "        38.12716553,  38.66122449,  39.2185034 ,  39.75256236,\n",
       "        40.30984127,  40.84390023,  41.40117914,  41.9352381 ,\n",
       "        42.46929705,  43.02657596,  43.56063492,  44.11791383,\n",
       "        44.67519274,  45.2092517 ,  45.76653061,  46.30058957,\n",
       "        46.85786848,  47.41514739,  47.94920635,  48.48326531,\n",
       "        48.99410431,  49.50494331,  50.03900227,  50.54984127,\n",
       "        51.08390023,  51.61795918,  52.10557823,  52.61641723,\n",
       "        53.17369615,  53.7077551 ,  54.24181406,  54.77587302,\n",
       "        55.28671202,  55.82077098,  56.35482993,  56.91210884,\n",
       "        57.4461678 ,  58.00344671,  58.56072562,  59.09478458,\n",
       "        59.62884354,  60.18612245,  60.72018141,  61.27746032,\n",
       "        61.81151927,  62.32235828,  62.83319728,  63.36725624,\n",
       "        63.90131519,  64.43537415,  64.94621315,  65.45705215,\n",
       "        65.99111111,  66.50195011,  67.03600907,  67.57006803,\n",
       "        68.10412698,  68.63818594,  69.1722449 ,  69.72952381,\n",
       "        70.28680272,  70.84408163,  71.40136054,  71.98185941,\n",
       "        72.56235828,  73.14285714,  73.70013605,  74.28063492,\n",
       "        74.83791383,  75.37197279,  75.90603175,  76.50975057,\n",
       "        77.04380952,  77.62430839,  78.1815873 ,  78.73886621,\n",
       "        79.29614512,  79.85342404,  80.38748299,  80.92154195,\n",
       "        81.47882086,  82.05931973,  82.66303855,  83.26675737,\n",
       "        83.87047619,  84.45097506,  85.07791383,  85.6584127 ,\n",
       "        86.26213152,  86.84263039,  87.44634921,  88.02684807,\n",
       "        88.63056689,  89.21106576,  89.76834467,  90.34884354,\n",
       "        90.9293424 ,  91.48662132,  92.06712018,  92.64761905,\n",
       "        93.20489796,  93.76217687,  94.34267574,  94.89995465,\n",
       "        95.48045351,  96.03773243,  96.59501134,  97.15229025,\n",
       "        97.70956916,  98.26684807,  98.82412698,  99.3814059 ,\n",
       "        99.93868481, 100.47274376, 101.05324263, 101.58730159,\n",
       "       102.16780045, 102.70185941, 103.25913832, 103.81641723,\n",
       "       104.37369615, 104.93097506, 105.48825397, 106.04553288,\n",
       "       106.60281179, 107.1600907 , 107.71736961, 108.25142857,\n",
       "       108.80870748, 109.36598639, 109.92326531, 110.48054422,\n",
       "       111.03782313, 111.59510204, 112.15238095, 112.70965986,\n",
       "       113.24371882, 113.80099773, 114.3814966 , 114.93877551,\n",
       "       115.47283447, 116.03011338, 116.58739229, 117.1446712 ])"
      ]
     },
     "execution_count": 11,
     "metadata": {},
     "output_type": "execute_result"
    }
   ],
   "source": [
    "# Convert the frame indices of beat events into timestamps\n",
    "beat_times = librosa.frames_to_time(beat_frames, sr=sr)\n",
    "beat_times"
   ]
  },
  {
   "cell_type": "code",
   "execution_count": null,
   "id": "76257e2b-9d7e-4a37-a68f-906c25d04baa",
   "metadata": {},
   "outputs": [],
   "source": []
  }
 ],
 "metadata": {
  "kernelspec": {
   "display_name": "Python 3 (ipykernel)",
   "language": "python",
   "name": "python3"
  },
  "language_info": {
   "codemirror_mode": {
    "name": "ipython",
    "version": 3
   },
   "file_extension": ".py",
   "mimetype": "text/x-python",
   "name": "python",
   "nbconvert_exporter": "python",
   "pygments_lexer": "ipython3",
   "version": "3.8.10"
  }
 },
 "nbformat": 4,
 "nbformat_minor": 5
}
