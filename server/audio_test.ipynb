{
 "cells": [
  {
   "cell_type": "code",
   "execution_count": 1,
   "id": "4ee3e32e-1c41-49f0-87c7-a0bc2621029d",
   "metadata": {},
   "outputs": [],
   "source": [
    "import pandas as pd\n",
    "import numpy as np\n",
    "import librosa"
   ]
  },
  {
   "cell_type": "code",
   "execution_count": 4,
   "id": "1f348b25-6d96-4d9b-a213-214acd024445",
   "metadata": {},
   "outputs": [
    {
     "name": "stdout",
     "output_type": "stream",
     "text": [
      "Requirement already satisfied: pandas in ./venv/lib/python3.8/site-packages (1.5.1)\n",
      "Requirement already satisfied: pytz>=2020.1 in ./venv/lib/python3.8/site-packages (from pandas) (2022.5)\n",
      "Requirement already satisfied: numpy>=1.20.3; python_version < \"3.10\" in ./venv/lib/python3.8/site-packages (from pandas) (1.23.4)\n",
      "Requirement already satisfied: python-dateutil>=2.8.1 in ./venv/lib/python3.8/site-packages (from pandas) (2.8.2)\n",
      "Requirement already satisfied: six>=1.5 in ./venv/lib/python3.8/site-packages (from python-dateutil>=2.8.1->pandas) (1.16.0)\n"
     ]
    }
   ],
   "source": [
    "! pip3 install pandas"
   ]
  },
  {
   "cell_type": "code",
   "execution_count": 5,
   "id": "65d63565-f87e-42f9-ac23-fcffe54c6fee",
   "metadata": {},
   "outputs": [
    {
     "name": "stdout",
     "output_type": "stream",
     "text": [
      "Collecting librosa\n",
      "  Using cached librosa-0.9.2-py3-none-any.whl (214 kB)\n",
      "Requirement already satisfied: numpy>=1.17.0 in ./venv/lib/python3.8/site-packages (from librosa) (1.23.4)\n",
      "Requirement already satisfied: packaging>=20.0 in ./venv/lib/python3.8/site-packages (from librosa) (21.3)\n",
      "Collecting audioread>=2.1.9\n",
      "  Using cached audioread-3.0.0.tar.gz (377 kB)\n",
      "Collecting scipy>=1.2.0\n",
      "  Downloading scipy-1.9.3-cp38-cp38-manylinux_2_17_x86_64.manylinux2014_x86_64.whl (33.8 MB)\n",
      "\u001B[K     |████████████████████████████████| 33.8 MB 410 kB/s eta 0:00:01    |███▏                            | 3.4 MB 3.1 MB/s eta 0:00:10\n",
      "\u001B[?25hCollecting resampy>=0.2.2\n",
      "  Using cached resampy-0.4.2-py3-none-any.whl (3.1 MB)\n",
      "Collecting soundfile>=0.10.2\n",
      "  Using cached soundfile-0.11.0-py2.py3-none-any.whl (23 kB)\n",
      "Collecting pooch>=1.0\n",
      "  Using cached pooch-1.6.0-py3-none-any.whl (56 kB)\n",
      "Collecting joblib>=0.14\n",
      "  Downloading joblib-1.2.0-py3-none-any.whl (297 kB)\n",
      "\u001B[K     |████████████████████████████████| 297 kB 4.5 MB/s eta 0:00:01\n",
      "\u001B[?25hCollecting scikit-learn>=0.19.1\n",
      "  Downloading scikit_learn-1.1.3-cp38-cp38-manylinux_2_17_x86_64.manylinux2014_x86_64.whl (31.2 MB)\n",
      "\u001B[K     |████████████████████████████████| 31.2 MB 4.0 MB/s eta 0:00:01     |█████████████████████▌          | 20.9 MB 4.7 MB/s eta 0:00:03     |███████████████████████████████▍| 30.7 MB 4.0 MB/s eta 0:00:01     |███████████████████████████████▊| 30.9 MB 4.0 MB/s eta 0:00:01\n",
      "\u001B[?25hRequirement already satisfied: decorator>=4.0.10 in ./venv/lib/python3.8/site-packages (from librosa) (5.1.1)\n",
      "Collecting numba>=0.45.1\n",
      "  Downloading numba-0.56.3-cp38-cp38-manylinux2014_x86_64.manylinux_2_17_x86_64.whl (3.5 MB)\n",
      "\u001B[K     |████████████████████████████████| 3.5 MB 6.1 MB/s eta 0:00:01     |███████████████████████████▍    | 3.0 MB 6.1 MB/s eta 0:00:01\n",
      "\u001B[?25hRequirement already satisfied: pyparsing!=3.0.5,>=2.0.2 in ./venv/lib/python3.8/site-packages (from packaging>=20.0->librosa) (3.0.9)\n",
      "Requirement already satisfied: cffi>=1.0 in ./venv/lib/python3.8/site-packages (from soundfile>=0.10.2->librosa) (1.15.1)\n",
      "Requirement already satisfied: requests>=2.19.0 in ./venv/lib/python3.8/site-packages (from pooch>=1.0->librosa) (2.28.1)\n",
      "Collecting appdirs>=1.3.0\n",
      "  Using cached appdirs-1.4.4-py2.py3-none-any.whl (9.6 kB)\n",
      "Collecting threadpoolctl>=2.0.0\n",
      "  Downloading threadpoolctl-3.1.0-py3-none-any.whl (14 kB)\n",
      "Requirement already satisfied: importlib-metadata; python_version < \"3.9\" in ./venv/lib/python3.8/site-packages (from numba>=0.45.1->librosa) (5.0.0)\n",
      "Collecting llvmlite<0.40,>=0.39.0dev0\n",
      "  Downloading llvmlite-0.39.1-cp38-cp38-manylinux_2_17_x86_64.manylinux2014_x86_64.whl (34.6 MB)\n",
      "\u001B[K     |████████████████████████████████| 34.6 MB 5.6 MB/s eta 0:00:01    |█████▍                          | 5.9 MB 3.5 MB/s eta 0:00:09     |███████                         | 7.6 MB 3.5 MB/s eta 0:00:08     |██████████▉                     | 11.7 MB 4.7 MB/s eta 0:00:05     |██████████████▋                 | 15.8 MB 9.1 MB/s eta 0:00:03     |███████████████▌                | 16.7 MB 9.1 MB/s eta 0:00:02     |████████████████▍               | 17.8 MB 9.1 MB/s eta 0:00:02     |███████████████████▊            | 21.4 MB 3.5 MB/s eta 0:00:04     |███████████████████████▏        | 25.1 MB 3.1 MB/s eta 0:00:04     |████████████████████████▌       | 26.6 MB 3.1 MB/s eta 0:00:03     |█████████████████████████       | 27.0 MB 3.1 MB/s eta 0:00:03     |█████████████████████████▋      | 27.8 MB 3.1 MB/s eta 0:00:03     |████████████████████████████▍   | 30.7 MB 3.6 MB/s eta 0:00:02\n",
      "\u001B[?25hRequirement already satisfied: setuptools in ./venv/lib/python3.8/site-packages (from numba>=0.45.1->librosa) (44.0.0)\n",
      "Requirement already satisfied: pycparser in ./venv/lib/python3.8/site-packages (from cffi>=1.0->soundfile>=0.10.2->librosa) (2.21)\n",
      "Requirement already satisfied: idna<4,>=2.5 in ./venv/lib/python3.8/site-packages (from requests>=2.19.0->pooch>=1.0->librosa) (3.4)\n",
      "Requirement already satisfied: charset-normalizer<3,>=2 in ./venv/lib/python3.8/site-packages (from requests>=2.19.0->pooch>=1.0->librosa) (2.1.1)\n",
      "Requirement already satisfied: certifi>=2017.4.17 in ./venv/lib/python3.8/site-packages (from requests>=2.19.0->pooch>=1.0->librosa) (2022.9.24)\n",
      "Requirement already satisfied: urllib3<1.27,>=1.21.1 in ./venv/lib/python3.8/site-packages (from requests>=2.19.0->pooch>=1.0->librosa) (1.26.12)\n",
      "Requirement already satisfied: zipp>=0.5 in ./venv/lib/python3.8/site-packages (from importlib-metadata; python_version < \"3.9\"->numba>=0.45.1->librosa) (3.10.0)\n",
      "Building wheels for collected packages: audioread\n",
      "  Building wheel for audioread (setup.py) ... \u001B[?25lerror\n",
      "\u001B[31m  ERROR: Command errored out with exit status 1:\n",
      "   command: /home/marketa/FIT/VMM/semestralka/server/venv/bin/python3 -u -c 'import sys, setuptools, tokenize; sys.argv[0] = '\"'\"'/tmp/pip-install-t9uezzx1/audioread/setup.py'\"'\"'; __file__='\"'\"'/tmp/pip-install-t9uezzx1/audioread/setup.py'\"'\"';f=getattr(tokenize, '\"'\"'open'\"'\"', open)(__file__);code=f.read().replace('\"'\"'\\r\\n'\"'\"', '\"'\"'\\n'\"'\"');f.close();exec(compile(code, __file__, '\"'\"'exec'\"'\"'))' bdist_wheel -d /tmp/pip-wheel-lsbyhq4_\n",
      "       cwd: /tmp/pip-install-t9uezzx1/audioread/\n",
      "  Complete output (8 lines):\n",
      "  /tmp/pip-install-t9uezzx1/audioread/setup.py:17: DeprecationWarning: the imp module is deprecated in favour of importlib; see the module's documentation for alternative uses\n",
      "    import imp\n",
      "  usage: setup.py [global_opts] cmd1 [cmd1_opts] [cmd2 [cmd2_opts] ...]\n",
      "     or: setup.py --help [cmd1 cmd2 ...]\n",
      "     or: setup.py --help-commands\n",
      "     or: setup.py cmd --help\n",
      "  \n",
      "  error: invalid command 'bdist_wheel'\n",
      "  ----------------------------------------\u001B[0m\n",
      "\u001B[31m  ERROR: Failed building wheel for audioread\u001B[0m\n",
      "\u001B[?25h  Running setup.py clean for audioread\n",
      "Failed to build audioread\n",
      "Installing collected packages: audioread, scipy, llvmlite, numba, resampy, soundfile, appdirs, pooch, joblib, threadpoolctl, scikit-learn, librosa\n",
      "    Running setup.py install for audioread ... \u001B[?25ldone\n",
      "\u001B[?25hSuccessfully installed appdirs-1.4.4 audioread-3.0.0 joblib-1.2.0 librosa-0.9.2 llvmlite-0.39.1 numba-0.56.3 pooch-1.6.0 resampy-0.4.2 scikit-learn-1.1.3 scipy-1.9.3 soundfile-0.11.0 threadpoolctl-3.1.0\n"
     ]
    }
   ],
   "source": [
    "! pip3 install librosa"
   ]
  },
  {
   "cell_type": "code",
   "execution_count": 7,
   "id": "2315ad59-8038-4cce-9491-d1d644a7fbbe",
   "metadata": {},
   "outputs": [],
   "source": [
    "# Get the file path to an included audio example (from Librosa)\n",
    "filename = librosa.example('nutcracker')"
   ]
  },
  {
   "cell_type": "code",
   "execution_count": 3,
   "id": "9ca35400-8d36-4012-9209-dddb9122b706",
   "metadata": {},
   "outputs": [],
   "source": [
    "# Load the audio as a waveform `y`\n",
    "# Store the sampling rate as `sr`\n",
    "y, sr = librosa.load('./test.wav')"
   ]
  },
  {
   "cell_type": "code",
   "execution_count": 4,
   "id": "36280875-31e0-4359-956f-24c572ea5bd3",
   "metadata": {},
   "outputs": [],
   "source": [
    "# Run the default beat tracker\n",
    "tempo, beat_frames = librosa.beat.beat_track(y=y, sr=sr)"
   ]
  },
  {
   "cell_type": "code",
   "execution_count": 5,
   "id": "51cf7455-06ef-47a9-87b8-9b1036cda54b",
   "metadata": {},
   "outputs": [
    {
     "name": "stdout",
     "output_type": "stream",
     "text": [
      "Estimated tempo: 123.05 beats per minute\n"
     ]
    }
   ],
   "source": [
    "print('Estimated tempo: {:.2f} beats per minute'.format(tempo))"
   ]
  },
  {
   "cell_type": "code",
   "execution_count": 6,
   "id": "0305710e-5fc7-4de8-8ecf-e107ebb6cf13",
   "metadata": {},
   "outputs": [
    {
     "data": {
      "text/plain": "array([ 0.2554195 ,  0.74303855,  1.2306576 ,  1.69505669,  2.18267574,\n        2.64707483,  3.13469388,  3.62231293,  4.10993197,  4.57433107,\n        5.06195011,  5.54956916,  6.03718821,  6.5015873 ,  6.98920635,\n        7.4768254 ,  7.96444444,  8.42884354,  8.91646259,  9.40408163,\n        9.89170068, 10.35609977, 10.84371882, 11.33133787, 11.81895692,\n       12.28335601, 12.77097506, 13.23537415, 13.7229932 , 14.21061224,\n       14.69823129, 15.16263039, 15.62702948, 16.09142857, 16.55582766,\n       17.04344671, 17.53106576, 17.99546485, 18.4830839 , 18.94748299,\n       19.43510204, 19.92272109, 20.38712018, 20.85151927, 21.33913832,\n       21.82675737, 22.29115646, 22.77877551, 23.26639456, 23.73079365,\n       24.2184127 , 24.70603175, 25.19365079, 25.65804989, 26.14566893,\n       26.63328798, 27.12090703, 27.58530612, 28.07292517, 28.56054422,\n       29.04816327])"
     },
     "execution_count": 6,
     "metadata": {},
     "output_type": "execute_result"
    }
   ],
   "source": [
    "# Convert the frame indices of beat events into timestamps\n",
    "beat_times = librosa.frames_to_time(beat_frames, sr=sr)\n",
    "beat_times"
   ]
  },
  {
   "cell_type": "code",
   "execution_count": 1,
   "id": "76257e2b-9d7e-4a37-a68f-906c25d04baa",
   "metadata": {},
   "outputs": [
    {
     "ename": "TypeError",
     "evalue": "'str' object is not callable",
     "output_type": "error",
     "traceback": [
      "\u001B[1;31m---------------------------------------------------------------------------\u001B[0m",
      "\u001B[1;31mTypeError\u001B[0m                                 Traceback (most recent call last)",
      "Cell \u001B[1;32mIn [1], line 3\u001B[0m\n\u001B[0;32m      1\u001B[0m \u001B[38;5;28;01mfrom\u001B[39;00m \u001B[38;5;21;01maudio_classification\u001B[39;00m \u001B[38;5;28;01mimport\u001B[39;00m classify\n\u001B[1;32m----> 3\u001B[0m \u001B[43mclassify\u001B[49m\u001B[43m(\u001B[49m\u001B[38;5;124;43m'\u001B[39;49m\u001B[38;5;124;43m./test.wav\u001B[39;49m\u001B[38;5;124;43m'\u001B[39;49m\u001B[43m)\u001B[49m\n",
      "File \u001B[1;32mD:\\aa\\skola\\NI-VMM\\ni-vmm-audio-classification\\server\\audio_classification.py:46\u001B[0m, in \u001B[0;36mclassify\u001B[1;34m(audio)\u001B[0m\n\u001B[0;32m     43\u001B[0m genres \u001B[38;5;241m=\u001B[39m [classical, country, disco, hiphop]\n\u001B[0;32m     45\u001B[0m \u001B[38;5;28;01mfor\u001B[39;00m x \u001B[38;5;129;01min\u001B[39;00m genres:\n\u001B[1;32m---> 46\u001B[0m     distances\u001B[38;5;241m.\u001B[39mappend(\u001B[43mcompute_dist\u001B[49m\u001B[43m(\u001B[49m\u001B[43mx\u001B[49m\u001B[43m,\u001B[49m\u001B[43m \u001B[49m\u001B[43mau_mfcc\u001B[49m\u001B[43m)\u001B[49m)\n\u001B[0;32m     48\u001B[0m \u001B[38;5;28;01mreturn\u001B[39;00m distances\n",
      "File \u001B[1;32mD:\\aa\\skola\\NI-VMM\\ni-vmm-audio-classification\\server\\audio_classification.py:23\u001B[0m, in \u001B[0;36mcompute_dist\u001B[1;34m(genre_files, audio)\u001B[0m\n\u001B[0;32m     21\u001B[0m dist \u001B[38;5;241m=\u001B[39m \u001B[38;5;241m0\u001B[39m\n\u001B[0;32m     22\u001B[0m \u001B[38;5;28;01mfor\u001B[39;00m x \u001B[38;5;129;01min\u001B[39;00m genre_files:\n\u001B[1;32m---> 23\u001B[0m     dist \u001B[38;5;241m+\u001B[39m\u001B[38;5;241m=\u001B[39m \u001B[43mdtw\u001B[49m\u001B[43m(\u001B[49m\u001B[43mx\u001B[49m\u001B[43m,\u001B[49m\u001B[43m \u001B[49m\u001B[43maudio\u001B[49m\u001B[43m,\u001B[49m\u001B[43m \u001B[49m\u001B[38;5;124;43m'\u001B[39;49m\u001B[38;5;124;43meuclidean\u001B[39;49m\u001B[38;5;124;43m'\u001B[39;49m\u001B[43m)\u001B[49m\n\u001B[0;32m     24\u001B[0m     \u001B[38;5;28mprint\u001B[39m(\u001B[38;5;28mtype\u001B[39m(dist))\n\u001B[0;32m     25\u001B[0m \u001B[38;5;28;01mreturn\u001B[39;00m dist \u001B[38;5;241m/\u001B[39m \u001B[38;5;28mlen\u001B[39m(genre_files)\n",
      "File \u001B[1;32mD:\\aa\\skola\\NI-VMM\\ni-vmm-audio-classification\\server\\new_venv3\\lib\\site-packages\\dtw\\dtw.py:36\u001B[0m, in \u001B[0;36mdtw\u001B[1;34m(x, y, dist, warp, w, s)\u001B[0m\n\u001B[0;32m     34\u001B[0m     \u001B[38;5;28;01mfor\u001B[39;00m j \u001B[38;5;129;01min\u001B[39;00m \u001B[38;5;28mrange\u001B[39m(c):\n\u001B[0;32m     35\u001B[0m         \u001B[38;5;28;01mif\u001B[39;00m (isinf(w) \u001B[38;5;129;01mor\u001B[39;00m (\u001B[38;5;28mmax\u001B[39m(\u001B[38;5;241m0\u001B[39m, i \u001B[38;5;241m-\u001B[39m w) \u001B[38;5;241m<\u001B[39m\u001B[38;5;241m=\u001B[39m j \u001B[38;5;241m<\u001B[39m\u001B[38;5;241m=\u001B[39m \u001B[38;5;28mmin\u001B[39m(c, i \u001B[38;5;241m+\u001B[39m w))):\n\u001B[1;32m---> 36\u001B[0m             D1[i, j] \u001B[38;5;241m=\u001B[39m \u001B[43mdist\u001B[49m\u001B[43m(\u001B[49m\u001B[43mx\u001B[49m\u001B[43m[\u001B[49m\u001B[43mi\u001B[49m\u001B[43m]\u001B[49m\u001B[43m,\u001B[49m\u001B[43m \u001B[49m\u001B[43my\u001B[49m\u001B[43m[\u001B[49m\u001B[43mj\u001B[49m\u001B[43m]\u001B[49m\u001B[43m)\u001B[49m\n\u001B[0;32m     37\u001B[0m C \u001B[38;5;241m=\u001B[39m D1\u001B[38;5;241m.\u001B[39mcopy()\n\u001B[0;32m     38\u001B[0m jrange \u001B[38;5;241m=\u001B[39m \u001B[38;5;28mrange\u001B[39m(c)\n",
      "\u001B[1;31mTypeError\u001B[0m: 'str' object is not callable"
     ]
    }
   ],
   "source": [
    "from audio_classification import classify\n",
    "\n",
    "classify('./test.wav')"
   ]
  },
  {
   "cell_type": "code",
   "execution_count": null,
   "outputs": [],
   "source": [],
   "metadata": {
    "collapsed": false
   }
  }
 ],
 "metadata": {
  "kernelspec": {
   "display_name": "Python 3 (ipykernel)",
   "language": "python",
   "name": "python3"
  },
  "language_info": {
   "codemirror_mode": {
    "name": "ipython",
    "version": 3
   },
   "file_extension": ".py",
   "mimetype": "text/x-python",
   "name": "python",
   "nbconvert_exporter": "python",
   "pygments_lexer": "ipython3",
   "version": "3.8.10"
  }
 },
 "nbformat": 4,
 "nbformat_minor": 5
}
