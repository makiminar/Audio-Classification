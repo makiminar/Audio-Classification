{
 "cells": [
  {
   "cell_type": "code",
   "execution_count": 1,
   "id": "4ee3e32e-1c41-49f0-87c7-a0bc2621029d",
   "metadata": {},
   "outputs": [],
   "source": [
    "import pandas as pd\n",
    "import numpy as np\n",
    "import librosa"
   ]
  },
  {
   "cell_type": "code",
   "execution_count": 4,
   "id": "1f348b25-6d96-4d9b-a213-214acd024445",
   "metadata": {},
   "outputs": [
    {
     "name": "stdout",
     "output_type": "stream",
     "text": [
      "Requirement already satisfied: pandas in ./venv/lib/python3.8/site-packages (1.5.1)\n",
      "Requirement already satisfied: pytz>=2020.1 in ./venv/lib/python3.8/site-packages (from pandas) (2022.5)\n",
      "Requirement already satisfied: numpy>=1.20.3; python_version < \"3.10\" in ./venv/lib/python3.8/site-packages (from pandas) (1.23.4)\n",
      "Requirement already satisfied: python-dateutil>=2.8.1 in ./venv/lib/python3.8/site-packages (from pandas) (2.8.2)\n",
      "Requirement already satisfied: six>=1.5 in ./venv/lib/python3.8/site-packages (from python-dateutil>=2.8.1->pandas) (1.16.0)\n"
     ]
    }
   ],
   "source": [
    "! pip3 install pandas"
   ]
  },
  {
   "cell_type": "code",
   "execution_count": 5,
   "id": "65d63565-f87e-42f9-ac23-fcffe54c6fee",
   "metadata": {},
   "outputs": [
    {
     "name": "stdout",
     "output_type": "stream",
     "text": [
      "Collecting librosa\n",
      "  Using cached librosa-0.9.2-py3-none-any.whl (214 kB)\n",
      "Requirement already satisfied: numpy>=1.17.0 in ./venv/lib/python3.8/site-packages (from librosa) (1.23.4)\n",
      "Requirement already satisfied: packaging>=20.0 in ./venv/lib/python3.8/site-packages (from librosa) (21.3)\n",
      "Collecting audioread>=2.1.9\n",
      "  Using cached audioread-3.0.0.tar.gz (377 kB)\n",
      "Collecting scipy>=1.2.0\n",
      "  Downloading scipy-1.9.3-cp38-cp38-manylinux_2_17_x86_64.manylinux2014_x86_64.whl (33.8 MB)\n",
      "\u001B[K     |████████████████████████████████| 33.8 MB 410 kB/s eta 0:00:01    |███▏                            | 3.4 MB 3.1 MB/s eta 0:00:10\n",
      "\u001B[?25hCollecting resampy>=0.2.2\n",
      "  Using cached resampy-0.4.2-py3-none-any.whl (3.1 MB)\n",
      "Collecting soundfile>=0.10.2\n",
      "  Using cached soundfile-0.11.0-py2.py3-none-any.whl (23 kB)\n",
      "Collecting pooch>=1.0\n",
      "  Using cached pooch-1.6.0-py3-none-any.whl (56 kB)\n",
      "Collecting joblib>=0.14\n",
      "  Downloading joblib-1.2.0-py3-none-any.whl (297 kB)\n",
      "\u001B[K     |████████████████████████████████| 297 kB 4.5 MB/s eta 0:00:01\n",
      "\u001B[?25hCollecting scikit-learn>=0.19.1\n",
      "  Downloading scikit_learn-1.1.3-cp38-cp38-manylinux_2_17_x86_64.manylinux2014_x86_64.whl (31.2 MB)\n",
      "\u001B[K     |████████████████████████████████| 31.2 MB 4.0 MB/s eta 0:00:01     |█████████████████████▌          | 20.9 MB 4.7 MB/s eta 0:00:03     |███████████████████████████████▍| 30.7 MB 4.0 MB/s eta 0:00:01     |███████████████████████████████▊| 30.9 MB 4.0 MB/s eta 0:00:01\n",
      "\u001B[?25hRequirement already satisfied: decorator>=4.0.10 in ./venv/lib/python3.8/site-packages (from librosa) (5.1.1)\n",
      "Collecting numba>=0.45.1\n",
      "  Downloading numba-0.56.3-cp38-cp38-manylinux2014_x86_64.manylinux_2_17_x86_64.whl (3.5 MB)\n",
      "\u001B[K     |████████████████████████████████| 3.5 MB 6.1 MB/s eta 0:00:01     |███████████████████████████▍    | 3.0 MB 6.1 MB/s eta 0:00:01\n",
      "\u001B[?25hRequirement already satisfied: pyparsing!=3.0.5,>=2.0.2 in ./venv/lib/python3.8/site-packages (from packaging>=20.0->librosa) (3.0.9)\n",
      "Requirement already satisfied: cffi>=1.0 in ./venv/lib/python3.8/site-packages (from soundfile>=0.10.2->librosa) (1.15.1)\n",
      "Requirement already satisfied: requests>=2.19.0 in ./venv/lib/python3.8/site-packages (from pooch>=1.0->librosa) (2.28.1)\n",
      "Collecting appdirs>=1.3.0\n",
      "  Using cached appdirs-1.4.4-py2.py3-none-any.whl (9.6 kB)\n",
      "Collecting threadpoolctl>=2.0.0\n",
      "  Downloading threadpoolctl-3.1.0-py3-none-any.whl (14 kB)\n",
      "Requirement already satisfied: importlib-metadata; python_version < \"3.9\" in ./venv/lib/python3.8/site-packages (from numba>=0.45.1->librosa) (5.0.0)\n",
      "Collecting llvmlite<0.40,>=0.39.0dev0\n",
      "  Downloading llvmlite-0.39.1-cp38-cp38-manylinux_2_17_x86_64.manylinux2014_x86_64.whl (34.6 MB)\n",
      "\u001B[K     |████████████████████████████████| 34.6 MB 5.6 MB/s eta 0:00:01    |█████▍                          | 5.9 MB 3.5 MB/s eta 0:00:09     |███████                         | 7.6 MB 3.5 MB/s eta 0:00:08     |██████████▉                     | 11.7 MB 4.7 MB/s eta 0:00:05     |██████████████▋                 | 15.8 MB 9.1 MB/s eta 0:00:03     |███████████████▌                | 16.7 MB 9.1 MB/s eta 0:00:02     |████████████████▍               | 17.8 MB 9.1 MB/s eta 0:00:02     |███████████████████▊            | 21.4 MB 3.5 MB/s eta 0:00:04     |███████████████████████▏        | 25.1 MB 3.1 MB/s eta 0:00:04     |████████████████████████▌       | 26.6 MB 3.1 MB/s eta 0:00:03     |█████████████████████████       | 27.0 MB 3.1 MB/s eta 0:00:03     |█████████████████████████▋      | 27.8 MB 3.1 MB/s eta 0:00:03     |████████████████████████████▍   | 30.7 MB 3.6 MB/s eta 0:00:02\n",
      "\u001B[?25hRequirement already satisfied: setuptools in ./venv/lib/python3.8/site-packages (from numba>=0.45.1->librosa) (44.0.0)\n",
      "Requirement already satisfied: pycparser in ./venv/lib/python3.8/site-packages (from cffi>=1.0->soundfile>=0.10.2->librosa) (2.21)\n",
      "Requirement already satisfied: idna<4,>=2.5 in ./venv/lib/python3.8/site-packages (from requests>=2.19.0->pooch>=1.0->librosa) (3.4)\n",
      "Requirement already satisfied: charset-normalizer<3,>=2 in ./venv/lib/python3.8/site-packages (from requests>=2.19.0->pooch>=1.0->librosa) (2.1.1)\n",
      "Requirement already satisfied: certifi>=2017.4.17 in ./venv/lib/python3.8/site-packages (from requests>=2.19.0->pooch>=1.0->librosa) (2022.9.24)\n",
      "Requirement already satisfied: urllib3<1.27,>=1.21.1 in ./venv/lib/python3.8/site-packages (from requests>=2.19.0->pooch>=1.0->librosa) (1.26.12)\n",
      "Requirement already satisfied: zipp>=0.5 in ./venv/lib/python3.8/site-packages (from importlib-metadata; python_version < \"3.9\"->numba>=0.45.1->librosa) (3.10.0)\n",
      "Building wheels for collected packages: audioread\n",
      "  Building wheel for audioread (setup.py) ... \u001B[?25lerror\n",
      "\u001B[31m  ERROR: Command errored out with exit status 1:\n",
      "   command: /home/marketa/FIT/VMM/semestralka/server/venv/bin/python3 -u -c 'import sys, setuptools, tokenize; sys.argv[0] = '\"'\"'/tmp/pip-install-t9uezzx1/audioread/setup.py'\"'\"'; __file__='\"'\"'/tmp/pip-install-t9uezzx1/audioread/setup.py'\"'\"';f=getattr(tokenize, '\"'\"'open'\"'\"', open)(__file__);code=f.read().replace('\"'\"'\\r\\n'\"'\"', '\"'\"'\\n'\"'\"');f.close();exec(compile(code, __file__, '\"'\"'exec'\"'\"'))' bdist_wheel -d /tmp/pip-wheel-lsbyhq4_\n",
      "       cwd: /tmp/pip-install-t9uezzx1/audioread/\n",
      "  Complete output (8 lines):\n",
      "  /tmp/pip-install-t9uezzx1/audioread/setup.py:17: DeprecationWarning: the imp module is deprecated in favour of importlib; see the module's documentation for alternative uses\n",
      "    import imp\n",
      "  usage: setup.py [global_opts] cmd1 [cmd1_opts] [cmd2 [cmd2_opts] ...]\n",
      "     or: setup.py --help [cmd1 cmd2 ...]\n",
      "     or: setup.py --help-commands\n",
      "     or: setup.py cmd --help\n",
      "  \n",
      "  error: invalid command 'bdist_wheel'\n",
      "  ----------------------------------------\u001B[0m\n",
      "\u001B[31m  ERROR: Failed building wheel for audioread\u001B[0m\n",
      "\u001B[?25h  Running setup.py clean for audioread\n",
      "Failed to build audioread\n",
      "Installing collected packages: audioread, scipy, llvmlite, numba, resampy, soundfile, appdirs, pooch, joblib, threadpoolctl, scikit-learn, librosa\n",
      "    Running setup.py install for audioread ... \u001B[?25ldone\n",
      "\u001B[?25hSuccessfully installed appdirs-1.4.4 audioread-3.0.0 joblib-1.2.0 librosa-0.9.2 llvmlite-0.39.1 numba-0.56.3 pooch-1.6.0 resampy-0.4.2 scikit-learn-1.1.3 scipy-1.9.3 soundfile-0.11.0 threadpoolctl-3.1.0\n"
     ]
    }
   ],
   "source": [
    "! pip3 install librosa"
   ]
  },
  {
   "cell_type": "code",
   "execution_count": 2,
   "id": "2315ad59-8038-4cce-9491-d1d644a7fbbe",
   "metadata": {},
   "outputs": [],
   "source": [
    "# Get the file path to an included audio example (from Librosa)\n",
    "filename = librosa.example('nutcracker')"
   ]
  },
  {
   "cell_type": "code",
   "execution_count": 3,
   "id": "9ca35400-8d36-4012-9209-dddb9122b706",
   "metadata": {},
   "outputs": [
    {
     "name": "stderr",
     "output_type": "stream",
     "text": [
      "/home/marketa/FIT/VMM/semestralka/venv/lib/python3.8/site-packages/librosa/util/decorators.py:88: UserWarning: PySoundFile failed. Trying audioread instead.\n",
      "  return f(*args, **kwargs)\n"
     ]
    },
    {
     "ename": "FileNotFoundError",
     "evalue": "[Errno 2] No such file or directory: './test.wav'",
     "output_type": "error",
     "traceback": [
      "\u001B[0;31m---------------------------------------------------------------------------\u001B[0m",
      "\u001B[0;31mLibsndfileError\u001B[0m                           Traceback (most recent call last)",
      "File \u001B[0;32m~/FIT/VMM/semestralka/venv/lib/python3.8/site-packages/librosa/core/audio.py:164\u001B[0m, in \u001B[0;36mload\u001B[0;34m(path, sr, mono, offset, duration, dtype, res_type)\u001B[0m\n\u001B[1;32m    163\u001B[0m \u001B[38;5;28;01mtry\u001B[39;00m:\n\u001B[0;32m--> 164\u001B[0m     y, sr_native \u001B[38;5;241m=\u001B[39m \u001B[43m__soundfile_load\u001B[49m\u001B[43m(\u001B[49m\u001B[43mpath\u001B[49m\u001B[43m,\u001B[49m\u001B[43m \u001B[49m\u001B[43moffset\u001B[49m\u001B[43m,\u001B[49m\u001B[43m \u001B[49m\u001B[43mduration\u001B[49m\u001B[43m,\u001B[49m\u001B[43m \u001B[49m\u001B[43mdtype\u001B[49m\u001B[43m)\u001B[49m\n\u001B[1;32m    166\u001B[0m \u001B[38;5;28;01mexcept\u001B[39;00m \u001B[38;5;167;01mRuntimeError\u001B[39;00m \u001B[38;5;28;01mas\u001B[39;00m exc:\n\u001B[1;32m    167\u001B[0m     \u001B[38;5;66;03m# If soundfile failed, try audioread instead\u001B[39;00m\n",
      "File \u001B[0;32m~/FIT/VMM/semestralka/venv/lib/python3.8/site-packages/librosa/core/audio.py:195\u001B[0m, in \u001B[0;36m__soundfile_load\u001B[0;34m(path, offset, duration, dtype)\u001B[0m\n\u001B[1;32m    193\u001B[0m \u001B[38;5;28;01melse\u001B[39;00m:\n\u001B[1;32m    194\u001B[0m     \u001B[38;5;66;03m# Otherwise, create the soundfile object\u001B[39;00m\n\u001B[0;32m--> 195\u001B[0m     context \u001B[38;5;241m=\u001B[39m \u001B[43msf\u001B[49m\u001B[38;5;241;43m.\u001B[39;49m\u001B[43mSoundFile\u001B[49m\u001B[43m(\u001B[49m\u001B[43mpath\u001B[49m\u001B[43m)\u001B[49m\n\u001B[1;32m    197\u001B[0m \u001B[38;5;28;01mwith\u001B[39;00m context \u001B[38;5;28;01mas\u001B[39;00m sf_desc:\n",
      "File \u001B[0;32m~/FIT/VMM/semestralka/venv/lib/python3.8/site-packages/soundfile.py:655\u001B[0m, in \u001B[0;36mSoundFile.__init__\u001B[0;34m(self, file, mode, samplerate, channels, subtype, endian, format, closefd)\u001B[0m\n\u001B[1;32m    653\u001B[0m \u001B[38;5;28mself\u001B[39m\u001B[38;5;241m.\u001B[39m_info \u001B[38;5;241m=\u001B[39m _create_info_struct(file, mode, samplerate, channels,\n\u001B[1;32m    654\u001B[0m                                  \u001B[38;5;28mformat\u001B[39m, subtype, endian)\n\u001B[0;32m--> 655\u001B[0m \u001B[38;5;28mself\u001B[39m\u001B[38;5;241m.\u001B[39m_file \u001B[38;5;241m=\u001B[39m \u001B[38;5;28;43mself\u001B[39;49m\u001B[38;5;241;43m.\u001B[39;49m\u001B[43m_open\u001B[49m\u001B[43m(\u001B[49m\u001B[43mfile\u001B[49m\u001B[43m,\u001B[49m\u001B[43m \u001B[49m\u001B[43mmode_int\u001B[49m\u001B[43m,\u001B[49m\u001B[43m \u001B[49m\u001B[43mclosefd\u001B[49m\u001B[43m)\u001B[49m\n\u001B[1;32m    656\u001B[0m \u001B[38;5;28;01mif\u001B[39;00m \u001B[38;5;28mset\u001B[39m(mode)\u001B[38;5;241m.\u001B[39missuperset(\u001B[38;5;124m'\u001B[39m\u001B[38;5;124mr+\u001B[39m\u001B[38;5;124m'\u001B[39m) \u001B[38;5;129;01mand\u001B[39;00m \u001B[38;5;28mself\u001B[39m\u001B[38;5;241m.\u001B[39mseekable():\n\u001B[1;32m    657\u001B[0m     \u001B[38;5;66;03m# Move write position to 0 (like in Python file objects)\u001B[39;00m\n",
      "File \u001B[0;32m~/FIT/VMM/semestralka/venv/lib/python3.8/site-packages/soundfile.py:1213\u001B[0m, in \u001B[0;36mSoundFile._open\u001B[0;34m(self, file, mode_int, closefd)\u001B[0m\n\u001B[1;32m   1212\u001B[0m     err \u001B[38;5;241m=\u001B[39m _snd\u001B[38;5;241m.\u001B[39msf_error(file_ptr)\n\u001B[0;32m-> 1213\u001B[0m     \u001B[38;5;28;01mraise\u001B[39;00m LibsndfileError(err, prefix\u001B[38;5;241m=\u001B[39m\u001B[38;5;124m\"\u001B[39m\u001B[38;5;124mError opening \u001B[39m\u001B[38;5;132;01m{0!r}\u001B[39;00m\u001B[38;5;124m: \u001B[39m\u001B[38;5;124m\"\u001B[39m\u001B[38;5;241m.\u001B[39mformat(\u001B[38;5;28mself\u001B[39m\u001B[38;5;241m.\u001B[39mname))\n\u001B[1;32m   1214\u001B[0m \u001B[38;5;28;01mif\u001B[39;00m mode_int \u001B[38;5;241m==\u001B[39m _snd\u001B[38;5;241m.\u001B[39mSFM_WRITE:\n\u001B[1;32m   1215\u001B[0m     \u001B[38;5;66;03m# Due to a bug in libsndfile version <= 1.0.25, frames != 0\u001B[39;00m\n\u001B[1;32m   1216\u001B[0m     \u001B[38;5;66;03m# when opening a named pipe in SFM_WRITE mode.\u001B[39;00m\n\u001B[1;32m   1217\u001B[0m     \u001B[38;5;66;03m# See http://github.com/erikd/libsndfile/issues/77.\u001B[39;00m\n",
      "\u001B[0;31mLibsndfileError\u001B[0m: Error opening './test.wav': System error.",
      "\nDuring handling of the above exception, another exception occurred:\n",
      "\u001B[0;31mFileNotFoundError\u001B[0m                         Traceback (most recent call last)",
      "Cell \u001B[0;32mIn [3], line 3\u001B[0m\n\u001B[1;32m      1\u001B[0m \u001B[38;5;66;03m# Load the audio as a waveform `y`\u001B[39;00m\n\u001B[1;32m      2\u001B[0m \u001B[38;5;66;03m# Store the sampling rate as `sr`\u001B[39;00m\n\u001B[0;32m----> 3\u001B[0m y, sr \u001B[38;5;241m=\u001B[39m \u001B[43mlibrosa\u001B[49m\u001B[38;5;241;43m.\u001B[39;49m\u001B[43mload\u001B[49m\u001B[43m(\u001B[49m\u001B[38;5;124;43m'\u001B[39;49m\u001B[38;5;124;43m./test.wav\u001B[39;49m\u001B[38;5;124;43m'\u001B[39;49m\u001B[43m)\u001B[49m\n",
      "File \u001B[0;32m~/FIT/VMM/semestralka/venv/lib/python3.8/site-packages/librosa/util/decorators.py:88\u001B[0m, in \u001B[0;36mdeprecate_positional_args.<locals>._inner_deprecate_positional_args.<locals>.inner_f\u001B[0;34m(*args, **kwargs)\u001B[0m\n\u001B[1;32m     86\u001B[0m extra_args \u001B[38;5;241m=\u001B[39m \u001B[38;5;28mlen\u001B[39m(args) \u001B[38;5;241m-\u001B[39m \u001B[38;5;28mlen\u001B[39m(all_args)\n\u001B[1;32m     87\u001B[0m \u001B[38;5;28;01mif\u001B[39;00m extra_args \u001B[38;5;241m<\u001B[39m\u001B[38;5;241m=\u001B[39m \u001B[38;5;241m0\u001B[39m:\n\u001B[0;32m---> 88\u001B[0m     \u001B[38;5;28;01mreturn\u001B[39;00m \u001B[43mf\u001B[49m\u001B[43m(\u001B[49m\u001B[38;5;241;43m*\u001B[39;49m\u001B[43margs\u001B[49m\u001B[43m,\u001B[49m\u001B[43m \u001B[49m\u001B[38;5;241;43m*\u001B[39;49m\u001B[38;5;241;43m*\u001B[39;49m\u001B[43mkwargs\u001B[49m\u001B[43m)\u001B[49m\n\u001B[1;32m     90\u001B[0m \u001B[38;5;66;03m# extra_args > 0\u001B[39;00m\n\u001B[1;32m     91\u001B[0m args_msg \u001B[38;5;241m=\u001B[39m [\n\u001B[1;32m     92\u001B[0m     \u001B[38;5;124m\"\u001B[39m\u001B[38;5;132;01m{}\u001B[39;00m\u001B[38;5;124m=\u001B[39m\u001B[38;5;132;01m{}\u001B[39;00m\u001B[38;5;124m\"\u001B[39m\u001B[38;5;241m.\u001B[39mformat(name, arg)\n\u001B[1;32m     93\u001B[0m     \u001B[38;5;28;01mfor\u001B[39;00m name, arg \u001B[38;5;129;01min\u001B[39;00m \u001B[38;5;28mzip\u001B[39m(kwonly_args[:extra_args], args[\u001B[38;5;241m-\u001B[39mextra_args:])\n\u001B[1;32m     94\u001B[0m ]\n",
      "File \u001B[0;32m~/FIT/VMM/semestralka/venv/lib/python3.8/site-packages/librosa/core/audio.py:170\u001B[0m, in \u001B[0;36mload\u001B[0;34m(path, sr, mono, offset, duration, dtype, res_type)\u001B[0m\n\u001B[1;32m    168\u001B[0m \u001B[38;5;28;01mif\u001B[39;00m \u001B[38;5;28misinstance\u001B[39m(path, (\u001B[38;5;28mstr\u001B[39m, pathlib\u001B[38;5;241m.\u001B[39mPurePath)):\n\u001B[1;32m    169\u001B[0m     warnings\u001B[38;5;241m.\u001B[39mwarn(\u001B[38;5;124m\"\u001B[39m\u001B[38;5;124mPySoundFile failed. Trying audioread instead.\u001B[39m\u001B[38;5;124m\"\u001B[39m, stacklevel\u001B[38;5;241m=\u001B[39m\u001B[38;5;241m2\u001B[39m)\n\u001B[0;32m--> 170\u001B[0m     y, sr_native \u001B[38;5;241m=\u001B[39m \u001B[43m__audioread_load\u001B[49m\u001B[43m(\u001B[49m\u001B[43mpath\u001B[49m\u001B[43m,\u001B[49m\u001B[43m \u001B[49m\u001B[43moffset\u001B[49m\u001B[43m,\u001B[49m\u001B[43m \u001B[49m\u001B[43mduration\u001B[49m\u001B[43m,\u001B[49m\u001B[43m \u001B[49m\u001B[43mdtype\u001B[49m\u001B[43m)\u001B[49m\n\u001B[1;32m    171\u001B[0m \u001B[38;5;28;01melse\u001B[39;00m:\n\u001B[1;32m    172\u001B[0m     \u001B[38;5;28;01mraise\u001B[39;00m exc\n",
      "File \u001B[0;32m~/FIT/VMM/semestralka/venv/lib/python3.8/site-packages/librosa/core/audio.py:226\u001B[0m, in \u001B[0;36m__audioread_load\u001B[0;34m(path, offset, duration, dtype)\u001B[0m\n\u001B[1;32m    223\u001B[0m     reader \u001B[38;5;241m=\u001B[39m path\n\u001B[1;32m    224\u001B[0m \u001B[38;5;28;01melse\u001B[39;00m:\n\u001B[1;32m    225\u001B[0m     \u001B[38;5;66;03m# If the input was not an audioread object, try to open it\u001B[39;00m\n\u001B[0;32m--> 226\u001B[0m     reader \u001B[38;5;241m=\u001B[39m \u001B[43maudioread\u001B[49m\u001B[38;5;241;43m.\u001B[39;49m\u001B[43maudio_open\u001B[49m\u001B[43m(\u001B[49m\u001B[43mpath\u001B[49m\u001B[43m)\u001B[49m\n\u001B[1;32m    228\u001B[0m \u001B[38;5;28;01mwith\u001B[39;00m reader \u001B[38;5;28;01mas\u001B[39;00m input_file:\n\u001B[1;32m    229\u001B[0m     sr_native \u001B[38;5;241m=\u001B[39m input_file\u001B[38;5;241m.\u001B[39msamplerate\n",
      "File \u001B[0;32m~/FIT/VMM/semestralka/venv/lib/python3.8/site-packages/audioread/__init__.py:127\u001B[0m, in \u001B[0;36maudio_open\u001B[0;34m(path, backends)\u001B[0m\n\u001B[1;32m    125\u001B[0m \u001B[38;5;28;01mfor\u001B[39;00m BackendClass \u001B[38;5;129;01min\u001B[39;00m backends:\n\u001B[1;32m    126\u001B[0m     \u001B[38;5;28;01mtry\u001B[39;00m:\n\u001B[0;32m--> 127\u001B[0m         \u001B[38;5;28;01mreturn\u001B[39;00m \u001B[43mBackendClass\u001B[49m\u001B[43m(\u001B[49m\u001B[43mpath\u001B[49m\u001B[43m)\u001B[49m\n\u001B[1;32m    128\u001B[0m     \u001B[38;5;28;01mexcept\u001B[39;00m DecodeError:\n\u001B[1;32m    129\u001B[0m         \u001B[38;5;28;01mpass\u001B[39;00m\n",
      "File \u001B[0;32m~/FIT/VMM/semestralka/venv/lib/python3.8/site-packages/audioread/rawread.py:59\u001B[0m, in \u001B[0;36mRawAudioFile.__init__\u001B[0;34m(self, filename)\u001B[0m\n\u001B[1;32m     58\u001B[0m \u001B[38;5;28;01mdef\u001B[39;00m \u001B[38;5;21m__init__\u001B[39m(\u001B[38;5;28mself\u001B[39m, filename):\n\u001B[0;32m---> 59\u001B[0m     \u001B[38;5;28mself\u001B[39m\u001B[38;5;241m.\u001B[39m_fh \u001B[38;5;241m=\u001B[39m \u001B[38;5;28;43mopen\u001B[39;49m\u001B[43m(\u001B[49m\u001B[43mfilename\u001B[49m\u001B[43m,\u001B[49m\u001B[43m \u001B[49m\u001B[38;5;124;43m'\u001B[39;49m\u001B[38;5;124;43mrb\u001B[39;49m\u001B[38;5;124;43m'\u001B[39;49m\u001B[43m)\u001B[49m\n\u001B[1;32m     61\u001B[0m     \u001B[38;5;28;01mtry\u001B[39;00m:\n\u001B[1;32m     62\u001B[0m         \u001B[38;5;28mself\u001B[39m\u001B[38;5;241m.\u001B[39m_file \u001B[38;5;241m=\u001B[39m aifc\u001B[38;5;241m.\u001B[39mopen(\u001B[38;5;28mself\u001B[39m\u001B[38;5;241m.\u001B[39m_fh)\n",
      "\u001B[0;31mFileNotFoundError\u001B[0m: [Errno 2] No such file or directory: './test.wav'"
     ]
    }
   ],
   "source": [
    "# Load the audio as a waveform `y`\n",
    "# Store the sampling rate as `sr`\n",
    "y, sr = librosa.load('./test.wav')"
   ]
  },
  {
   "cell_type": "code",
   "execution_count": 4,
   "id": "36280875-31e0-4359-956f-24c572ea5bd3",
   "metadata": {},
   "outputs": [
    {
     "ename": "NameError",
     "evalue": "name 'y' is not defined",
     "output_type": "error",
     "traceback": [
      "\u001B[0;31m---------------------------------------------------------------------------\u001B[0m",
      "\u001B[0;31mNameError\u001B[0m                                 Traceback (most recent call last)",
      "Cell \u001B[0;32mIn [4], line 2\u001B[0m\n\u001B[1;32m      1\u001B[0m \u001B[38;5;66;03m# Run the default beat tracker\u001B[39;00m\n\u001B[0;32m----> 2\u001B[0m tempo, beat_frames \u001B[38;5;241m=\u001B[39m librosa\u001B[38;5;241m.\u001B[39mbeat\u001B[38;5;241m.\u001B[39mbeat_track(y\u001B[38;5;241m=\u001B[39m\u001B[43my\u001B[49m, sr\u001B[38;5;241m=\u001B[39msr)\n",
      "\u001B[0;31mNameError\u001B[0m: name 'y' is not defined"
     ]
    }
   ],
   "source": [
    "# Run the default beat tracker\n",
    "tempo, beat_frames = librosa.beat.beat_track(y=y, sr=sr)"
   ]
  },
  {
   "cell_type": "code",
   "execution_count": 5,
   "id": "51cf7455-06ef-47a9-87b8-9b1036cda54b",
   "metadata": {},
   "outputs": [
    {
     "ename": "NameError",
     "evalue": "name 'tempo' is not defined",
     "output_type": "error",
     "traceback": [
      "\u001B[0;31m---------------------------------------------------------------------------\u001B[0m",
      "\u001B[0;31mNameError\u001B[0m                                 Traceback (most recent call last)",
      "Cell \u001B[0;32mIn [5], line 1\u001B[0m\n\u001B[0;32m----> 1\u001B[0m \u001B[38;5;28mprint\u001B[39m(\u001B[38;5;124m'\u001B[39m\u001B[38;5;124mEstimated tempo: \u001B[39m\u001B[38;5;132;01m{:.2f}\u001B[39;00m\u001B[38;5;124m beats per minute\u001B[39m\u001B[38;5;124m'\u001B[39m\u001B[38;5;241m.\u001B[39mformat(\u001B[43mtempo\u001B[49m))\n",
      "\u001B[0;31mNameError\u001B[0m: name 'tempo' is not defined"
     ]
    }
   ],
   "source": [
    "print('Estimated tempo: {:.2f} beats per minute'.format(tempo))"
   ]
  },
  {
   "cell_type": "code",
   "execution_count": 6,
   "id": "0305710e-5fc7-4de8-8ecf-e107ebb6cf13",
   "metadata": {},
   "outputs": [
    {
     "ename": "NameError",
     "evalue": "name 'beat_frames' is not defined",
     "output_type": "error",
     "traceback": [
      "\u001B[0;31m---------------------------------------------------------------------------\u001B[0m",
      "\u001B[0;31mNameError\u001B[0m                                 Traceback (most recent call last)",
      "Cell \u001B[0;32mIn [6], line 2\u001B[0m\n\u001B[1;32m      1\u001B[0m \u001B[38;5;66;03m# Convert the frame indices of beat events into timestamps\u001B[39;00m\n\u001B[0;32m----> 2\u001B[0m beat_times \u001B[38;5;241m=\u001B[39m librosa\u001B[38;5;241m.\u001B[39mframes_to_time(\u001B[43mbeat_frames\u001B[49m, sr\u001B[38;5;241m=\u001B[39msr)\n\u001B[1;32m      3\u001B[0m beat_times\n",
      "\u001B[0;31mNameError\u001B[0m: name 'beat_frames' is not defined"
     ]
    }
   ],
   "source": [
    "# Convert the frame indices of beat events into timestamps\n",
    "beat_times = librosa.frames_to_time(beat_frames, sr=sr)\n",
    "beat_times"
   ]
  },
  {
   "cell_type": "code",
   "execution_count": 1,
   "id": "76257e2b-9d7e-4a37-a68f-906c25d04baa",
   "metadata": {},
   "outputs": [
    {
     "name": "stdout",
     "output_type": "stream",
     "text": [
      "16304.897914355977\n"
     ]
    }
   ],
   "source": [
    "import librosa\n",
    "\n",
    "from audio_classification import *\n",
    "\n",
    "mfcc1 = extract_features('./data/classical/classical.00011.wav')\n",
    "mfcc2 = extract_features('./data/classical/classical.00012.wav')\n",
    "\n",
    "print(dtw_distance(mfcc1, mfcc2))"
   ]
  },
  {
   "cell_type": "code",
   "execution_count": 1,
   "outputs": [
    {
     "data": {
      "text/plain": "[192257.24742555048]"
     },
     "execution_count": 1,
     "metadata": {},
     "output_type": "execute_result"
    }
   ],
   "source": [
    "import librosa\n",
    "from audio_classification import *\n",
    "classify('./data/classical/classical.00011.wav')\n"
   ],
   "metadata": {
    "collapsed": false
   }
  },
  {
   "cell_type": "code",
   "execution_count": null,
   "outputs": [],
   "source": [],
   "metadata": {
    "collapsed": false,
    "pycharm": {
     "name": "#%%\n"
    }
   }
  }
 ],
 "metadata": {
  "kernelspec": {
   "display_name": "Python 3 (ipykernel)",
   "language": "python",
   "name": "python3"
  },
  "language_info": {
   "codemirror_mode": {
    "name": "ipython",
    "version": 3
   },
   "file_extension": ".py",
   "mimetype": "text/x-python",
   "name": "python",
   "nbconvert_exporter": "python",
   "pygments_lexer": "ipython3",
   "version": "3.8.10"
  }
 },
 "nbformat": 4,
 "nbformat_minor": 5
}