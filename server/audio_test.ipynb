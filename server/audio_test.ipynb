{
 "cells": [
  {
   "cell_type": "code",
   "execution_count": 3,
   "id": "76257e2b-9d7e-4a37-a68f-906c25d04baa",
   "metadata": {},
   "outputs": [
    {
     "name": "stdout",
     "output_type": "stream",
     "text": [
      "169844.15755477053\n",
      "256645.827751568\n",
      "206564.17351624218\n",
      "346755.0347479767\n",
      "295724.8963165231\n"
     ]
    },
    {
     "data": {
      "text/plain": "{'classical': 28.183618858585792,\n 'jazz': 23.17353934323397,\n 'country': 18.651474071555405,\n 'hiphop': 16.18674336014567,\n 'metal': 13.804624366479157}"
     },
     "execution_count": 3,
     "metadata": {},
     "output_type": "execute_result"
    }
   ],
   "source": [
    "from song_wise_classifier import SongWiseClassifier\n",
    "\n",
    "genres_names = [\"classical\", \"country\", \"jazz\", \"metal\", \"hiphop\"]\n",
    "song_wise_classifier  = SongWiseClassifier(genres_names=genres_names, train_size=20)\n",
    "song_wise_classifier.classify('./data/test/classical/classical.00090.wav')"
   ]
  },
  {
   "cell_type": "code",
   "execution_count": 4,
   "outputs": [
    {
     "name": "stderr",
     "output_type": "stream",
     "text": [
      "D:\\aa\\skola\\NI-VMM\\ni-vmm-audio-classification\\server\\venv\\lib\\site-packages\\librosa\\util\\decorators.py:88: UserWarning: PySoundFile failed. Trying audioread instead.\n",
      "  return f(*args, **kwargs)\n"
     ]
    },
    {
     "name": "stdout",
     "output_type": "stream",
     "text": [
      "Error during load of a song: ./data/train/ jazz/jazz.00054.wav\n",
      "108310.20091871398\n",
      "223213.8120121924\n",
      "172734.8262525171\n",
      "319005.42228991573\n",
      "300827.08616413974\n"
     ]
    },
    {
     "data": {
      "text/plain": "{'classical': 35.56404803597745,\n 'jazz': 22.299783267957995,\n 'country': 17.256768985465428,\n 'hiphop': 12.804529131255753,\n 'metal': 12.074870579343374}"
     },
     "execution_count": 4,
     "metadata": {},
     "output_type": "execute_result"
    }
   ],
   "source": [
    "from aggregated_mfccs_classifier import AggregatedMfccsClassifier\n",
    "\n",
    "genres_names = [\"classical\", \"country\", \"jazz\", \"metal\", \"hiphop\"]\n",
    "aggregated_mfccs_classifier  = AggregatedMfccsClassifier(genres_names=genres_names, train_size=20)\n",
    "aggregated_mfccs_classifier.classify('./data/test/classical/classical.00090.wav')"
   ],
   "metadata": {
    "collapsed": false
   }
  },
  {
   "cell_type": "code",
   "execution_count": 1,
   "outputs": [
    {
     "name": "stdout",
     "output_type": "stream",
     "text": [
      "93967.92633526555\n",
      "244114.29756366895\n",
      "165085.7997531179\n",
      "339318.0358428879\n",
      "294181.9122051338\n",
      "{'classical': 39.20809671758545, 'jazz': 22.317507318096588, 'country': 15.092534853035842, 'hiphop': 12.52389556001989, 'metal': 10.857965551262224}\n"
     ]
    }
   ],
   "source": [
    "genres_names = [\"classical\", \"country\", \"jazz\", \"metal\", \"hiphop\"]\n",
    "aggregated_mfccs_classifier = AggregatedMfccsClassifier(genres_names=genres_names, train_size=90)\n",
    "print(aggregated_mfccs_classifier.classify('./data/test/classical/classical.00090.wav'))"
   ],
   "metadata": {
    "collapsed": false
   }
  },
  {
   "cell_type": "code",
   "execution_count": 1,
   "outputs": [
    {
     "name": "stdout",
     "output_type": "stream",
     "text": [
      "Genre: classical completed, Accuracy for genre: 80.0%\n",
      "Genre: country completed, Accuracy for genre: 40.0%\n",
      "Genre: jazz completed, Accuracy for genre: 60.0%\n",
      "Genre: metal completed, Accuracy for genre: 100.0%\n",
      "Genre: pop completed, Accuracy for genre: 50.0%\n",
      "--------------------------------------\n",
      "Metric: l1, N_mfcc: 3, Train_size: 40, Test_size: 10, Window_size: 5\n",
      "Final Accuracy: 66.0%\n",
      "--------------------------------------\n",
      "Genre: classical completed, Accuracy for genre: 70.0%\n",
      "Genre: country completed, Accuracy for genre: 30.0%\n",
      "Genre: jazz completed, Accuracy for genre: 70.0%\n",
      "Genre: metal completed, Accuracy for genre: 100.0%\n",
      "Genre: pop completed, Accuracy for genre: 50.0%\n",
      "--------------------------------------\n",
      "Metric: l2, N_mfcc: 3, Train_size: 40, Test_size: 10, Window_size: 5\n",
      "Final Accuracy: 64.0%\n",
      "--------------------------------------\n",
      "Genre: classical completed, Accuracy for genre: 60.0%\n",
      "Genre: country completed, Accuracy for genre: 40.0%\n",
      "Genre: jazz completed, Accuracy for genre: 70.0%\n",
      "Genre: metal completed, Accuracy for genre: 100.0%\n",
      "Genre: pop completed, Accuracy for genre: 30.0%\n",
      "--------------------------------------\n",
      "Metric: l3, N_mfcc: 3, Train_size: 40, Test_size: 10, Window_size: 5\n",
      "Final Accuracy: 60.0%\n",
      "--------------------------------------\n",
      "Genre: classical completed, Accuracy for genre: 60.0%\n",
      "Genre: country completed, Accuracy for genre: 40.0%\n",
      "Genre: jazz completed, Accuracy for genre: 70.0%\n",
      "Genre: metal completed, Accuracy for genre: 100.0%\n",
      "Genre: pop completed, Accuracy for genre: 20.0%\n",
      "--------------------------------------\n",
      "Metric: l_max, N_mfcc: 3, Train_size: 40, Test_size: 10, Window_size: 5\n",
      "Final Accuracy: 57.99999999999999%\n",
      "--------------------------------------\n"
     ]
    },
    {
     "data": {
      "text/plain": "0.58"
     },
     "execution_count": 1,
     "metadata": {},
     "output_type": "execute_result"
    }
   ],
   "source": [
    "# 1.) Bez centroidů - jen průměr\n",
    "# 5 žánrů\n",
    "# 4 metriky\n",
    "# různá test_size\n",
    "\n",
    "genres_names = [\"classical\", \"country\", \"jazz\", \"metal\", \"pop\"]\n",
    "song_wise_classifier = SongWiseClassifier(genres_names=genres_names, train_size=40)\n",
    "song_wise_classifier.test(test_size=10, metric=\"l1\")\n",
    "song_wise_classifier.test(test_size=10, metric=\"l2\")\n",
    "song_wise_classifier.test(test_size=10, metric=\"l3\")\n",
    "song_wise_classifier.test(test_size=10, metric=\"l_max\")"
   ],
   "metadata": {
    "collapsed": false
   }
  },
  {
   "cell_type": "code",
   "execution_count": 3,
   "outputs": [],
   "source": [
    "genres_names = [\"classical\", \"country\", \"jazz\", \"metal\", \"pop\"]\n",
    "song_wise_classifier = SongWiseClassifier(genres_names=genres_names, train_size=50)"
   ],
   "metadata": {
    "collapsed": false
   }
  },
  {
   "cell_type": "code",
   "execution_count": 4,
   "outputs": [
    {
     "name": "stdout",
     "output_type": "stream",
     "text": [
      "Genre: classical completed, Accuracy for genre: 80.0%\n",
      "Genre: country completed, Accuracy for genre: 50.0%\n",
      "Genre: jazz completed, Accuracy for genre: 50.0%\n",
      "Genre: metal completed, Accuracy for genre: 100.0%\n",
      "Genre: pop completed, Accuracy for genre: 70.0%\n",
      "--------------------------------------\n",
      "Metric: l1, N_mfcc: 3, Train_size: 50, Test_size: 10, Window_size: 5\n",
      "Final Accuracy: 70.0%\n",
      "--------------------------------------\n"
     ]
    },
    {
     "data": {
      "text/plain": "0.7"
     },
     "execution_count": 4,
     "metadata": {},
     "output_type": "execute_result"
    }
   ],
   "source": [
    "song_wise_classifier.test(test_size=10, metric=\"l1\")"
   ],
   "metadata": {
    "collapsed": false
   }
  },
  {
   "cell_type": "code",
   "execution_count": 5,
   "outputs": [
    {
     "name": "stdout",
     "output_type": "stream",
     "text": [
      "Genre: classical completed, Accuracy for genre: 60.0%\n",
      "Genre: country completed, Accuracy for genre: 50.0%\n",
      "Genre: jazz completed, Accuracy for genre: 50.0%\n",
      "Genre: metal completed, Accuracy for genre: 100.0%\n",
      "Genre: pop completed, Accuracy for genre: 60.0%\n",
      "--------------------------------------\n",
      "Metric: l2, N_mfcc: 3, Train_size: 50, Test_size: 10, Window_size: 5\n",
      "Final Accuracy: 64.0%\n",
      "--------------------------------------\n"
     ]
    },
    {
     "data": {
      "text/plain": "0.64"
     },
     "execution_count": 5,
     "metadata": {},
     "output_type": "execute_result"
    }
   ],
   "source": [
    "song_wise_classifier.test(test_size=10, metric=\"l2\")"
   ],
   "metadata": {
    "collapsed": false
   }
  },
  {
   "cell_type": "code",
   "execution_count": 6,
   "outputs": [
    {
     "name": "stdout",
     "output_type": "stream",
     "text": [
      "Genre: classical completed, Accuracy for genre: 60.0%\n",
      "Genre: country completed, Accuracy for genre: 50.0%\n",
      "Genre: jazz completed, Accuracy for genre: 60.0%\n",
      "Genre: metal completed, Accuracy for genre: 100.0%\n",
      "Genre: pop completed, Accuracy for genre: 50.0%\n",
      "--------------------------------------\n",
      "Metric: l3, N_mfcc: 3, Train_size: 50, Test_size: 10, Window_size: 5\n",
      "Final Accuracy: 64.0%\n",
      "--------------------------------------\n"
     ]
    },
    {
     "data": {
      "text/plain": "0.64"
     },
     "execution_count": 6,
     "metadata": {},
     "output_type": "execute_result"
    }
   ],
   "source": [
    "song_wise_classifier.test(test_size=10, metric=\"l3\")"
   ],
   "metadata": {
    "collapsed": false
   }
  },
  {
   "cell_type": "code",
   "execution_count": 7,
   "outputs": [
    {
     "name": "stdout",
     "output_type": "stream",
     "text": [
      "Genre: classical completed, Accuracy for genre: 60.0%\n",
      "Genre: country completed, Accuracy for genre: 50.0%\n",
      "Genre: jazz completed, Accuracy for genre: 60.0%\n",
      "Genre: metal completed, Accuracy for genre: 100.0%\n",
      "Genre: pop completed, Accuracy for genre: 50.0%\n",
      "--------------------------------------\n",
      "Metric: l_max, N_mfcc: 3, Train_size: 50, Test_size: 10, Window_size: 5\n",
      "Final Accuracy: 64.0%\n",
      "--------------------------------------\n"
     ]
    },
    {
     "data": {
      "text/plain": "0.64"
     },
     "execution_count": 7,
     "metadata": {},
     "output_type": "execute_result"
    }
   ],
   "source": [
    "song_wise_classifier.test(test_size=10, metric=\"l_max\")"
   ],
   "metadata": {
    "collapsed": false
   }
  },
  {
   "cell_type": "code",
   "execution_count": 2,
   "outputs": [],
   "source": [
    "genres_names = [\"classical\", \"country\", \"jazz\", \"metal\", \"pop\"]\n",
    "song_wise_classifier = SongWiseClassifier(genres_names=genres_names, train_size=60)"
   ],
   "metadata": {
    "collapsed": false
   }
  },
  {
   "cell_type": "code",
   "execution_count": 10,
   "outputs": [
    {
     "name": "stdout",
     "output_type": "stream",
     "text": [
      "Genre: classical completed, Accuracy for genre: 60.0%\n",
      "Genre: country completed, Accuracy for genre: 50.0%\n",
      "Genre: jazz completed, Accuracy for genre: 50.0%\n",
      "Genre: metal completed, Accuracy for genre: 100.0%\n",
      "Genre: pop completed, Accuracy for genre: 70.0%\n",
      "--------------------------------------\n",
      "Metric: l1, N_mfcc: 3, Train_size: 60, Test_size: 10, Window_size: 5\n",
      "Final Accuracy: 66.0%\n",
      "--------------------------------------\n"
     ]
    },
    {
     "data": {
      "text/plain": "0.66"
     },
     "execution_count": 10,
     "metadata": {},
     "output_type": "execute_result"
    }
   ],
   "source": [
    "song_wise_classifier.test(test_size=10, metric=\"l1\")"
   ],
   "metadata": {
    "collapsed": false
   }
  },
  {
   "cell_type": "code",
   "execution_count": 3,
   "outputs": [
    {
     "name": "stdout",
     "output_type": "stream",
     "text": [
      "Genre: classical completed, Accuracy for genre: 60.0%\n",
      "Genre: country completed, Accuracy for genre: 50.0%\n",
      "Genre: jazz completed, Accuracy for genre: 60.0%\n",
      "Genre: metal completed, Accuracy for genre: 100.0%\n",
      "Genre: pop completed, Accuracy for genre: 60.0%\n",
      "--------------------------------------\n",
      "Metric: l2, N_mfcc: 3, Train_size: 60, Test_size: 10, Window_size: 5\n",
      "Final Accuracy: 66.0%\n",
      "--------------------------------------\n"
     ]
    },
    {
     "data": {
      "text/plain": "0.66"
     },
     "execution_count": 3,
     "metadata": {},
     "output_type": "execute_result"
    }
   ],
   "source": [
    "song_wise_classifier.test(test_size=10, metric=\"l2\")"
   ],
   "metadata": {
    "collapsed": false
   }
  },
  {
   "cell_type": "code",
   "execution_count": 4,
   "outputs": [
    {
     "name": "stdout",
     "output_type": "stream",
     "text": [
      "Genre: classical completed, Accuracy for genre: 60.0%\n",
      "Genre: country completed, Accuracy for genre: 50.0%\n",
      "Genre: jazz completed, Accuracy for genre: 60.0%\n",
      "Genre: metal completed, Accuracy for genre: 100.0%\n",
      "Genre: pop completed, Accuracy for genre: 60.0%\n",
      "--------------------------------------\n",
      "Metric: l3, N_mfcc: 3, Train_size: 60, Test_size: 10, Window_size: 5\n",
      "Final Accuracy: 66.0%\n",
      "--------------------------------------\n"
     ]
    },
    {
     "data": {
      "text/plain": "0.66"
     },
     "execution_count": 4,
     "metadata": {},
     "output_type": "execute_result"
    }
   ],
   "source": [
    "song_wise_classifier.test(test_size=10, metric=\"l3\")"
   ],
   "metadata": {
    "collapsed": false
   }
  },
  {
   "cell_type": "code",
   "execution_count": 5,
   "outputs": [
    {
     "name": "stdout",
     "output_type": "stream",
     "text": [
      "Genre: classical completed, Accuracy for genre: 60.0%\n",
      "Genre: country completed, Accuracy for genre: 50.0%\n",
      "Genre: jazz completed, Accuracy for genre: 60.0%\n",
      "Genre: metal completed, Accuracy for genre: 100.0%\n",
      "Genre: pop completed, Accuracy for genre: 50.0%\n",
      "--------------------------------------\n",
      "Metric: l_max, N_mfcc: 3, Train_size: 60, Test_size: 10, Window_size: 5\n",
      "Final Accuracy: 64.0%\n",
      "--------------------------------------\n"
     ]
    },
    {
     "data": {
      "text/plain": "0.64"
     },
     "execution_count": 5,
     "metadata": {},
     "output_type": "execute_result"
    }
   ],
   "source": [
    "song_wise_classifier.test(test_size=10, metric=\"l_max\")"
   ],
   "metadata": {
    "collapsed": false
   }
  },
  {
   "cell_type": "code",
   "execution_count": 6,
   "outputs": [],
   "source": [
    "genres_names = [\"classical\", \"country\", \"jazz\", \"metal\", \"pop\"]\n",
    "song_wise_classifier = SongWiseClassifier(genres_names=genres_names, train_size=70)"
   ],
   "metadata": {
    "collapsed": false
   }
  },
  {
   "cell_type": "code",
   "execution_count": 7,
   "outputs": [
    {
     "name": "stdout",
     "output_type": "stream",
     "text": [
      "Genre: classical completed, Accuracy for genre: 60.0%\n",
      "Genre: country completed, Accuracy for genre: 50.0%\n",
      "Genre: jazz completed, Accuracy for genre: 50.0%\n",
      "Genre: metal completed, Accuracy for genre: 100.0%\n",
      "Genre: pop completed, Accuracy for genre: 80.0%\n",
      "--------------------------------------\n",
      "Metric: l1, N_mfcc: 3, Train_size: 70, Test_size: 10, Window_size: 5\n",
      "Final Accuracy: 68.0%\n",
      "--------------------------------------\n"
     ]
    },
    {
     "data": {
      "text/plain": "0.68"
     },
     "execution_count": 7,
     "metadata": {},
     "output_type": "execute_result"
    }
   ],
   "source": [
    "song_wise_classifier.test(test_size=10, metric=\"l1\")"
   ],
   "metadata": {
    "collapsed": false
   }
  },
  {
   "cell_type": "code",
   "execution_count": 8,
   "outputs": [
    {
     "name": "stdout",
     "output_type": "stream",
     "text": [
      "Genre: classical completed, Accuracy for genre: 60.0%\n",
      "Genre: country completed, Accuracy for genre: 50.0%\n",
      "Genre: jazz completed, Accuracy for genre: 60.0%\n",
      "Genre: metal completed, Accuracy for genre: 100.0%\n",
      "Genre: pop completed, Accuracy for genre: 60.0%\n",
      "--------------------------------------\n",
      "Metric: l2, N_mfcc: 3, Train_size: 70, Test_size: 10, Window_size: 5\n",
      "Final Accuracy: 66.0%\n",
      "--------------------------------------\n"
     ]
    },
    {
     "data": {
      "text/plain": "0.66"
     },
     "execution_count": 8,
     "metadata": {},
     "output_type": "execute_result"
    }
   ],
   "source": [
    "song_wise_classifier.test(test_size=10, metric=\"l2\")"
   ],
   "metadata": {
    "collapsed": false
   }
  },
  {
   "cell_type": "code",
   "execution_count": 9,
   "outputs": [
    {
     "name": "stdout",
     "output_type": "stream",
     "text": [
      "Genre: classical completed, Accuracy for genre: 50.0%\n",
      "Genre: country completed, Accuracy for genre: 50.0%\n",
      "Genre: jazz completed, Accuracy for genre: 60.0%\n",
      "Genre: metal completed, Accuracy for genre: 100.0%\n",
      "Genre: pop completed, Accuracy for genre: 60.0%\n",
      "--------------------------------------\n",
      "Metric: l3, N_mfcc: 3, Train_size: 70, Test_size: 10, Window_size: 5\n",
      "Final Accuracy: 64.0%\n",
      "--------------------------------------\n"
     ]
    },
    {
     "data": {
      "text/plain": "0.64"
     },
     "execution_count": 9,
     "metadata": {},
     "output_type": "execute_result"
    }
   ],
   "source": [
    "song_wise_classifier.test(test_size=10, metric=\"l3\")"
   ],
   "metadata": {
    "collapsed": false
   }
  },
  {
   "cell_type": "code",
   "execution_count": 10,
   "outputs": [
    {
     "name": "stdout",
     "output_type": "stream",
     "text": [
      "Genre: classical completed, Accuracy for genre: 50.0%\n",
      "Genre: country completed, Accuracy for genre: 50.0%\n",
      "Genre: jazz completed, Accuracy for genre: 60.0%\n",
      "Genre: metal completed, Accuracy for genre: 100.0%\n",
      "Genre: pop completed, Accuracy for genre: 50.0%\n",
      "--------------------------------------\n",
      "Metric: l_max, N_mfcc: 3, Train_size: 70, Test_size: 10, Window_size: 5\n",
      "Final Accuracy: 62.0%\n",
      "--------------------------------------\n"
     ]
    },
    {
     "data": {
      "text/plain": "0.62"
     },
     "execution_count": 10,
     "metadata": {},
     "output_type": "execute_result"
    }
   ],
   "source": [
    "song_wise_classifier.test(test_size=10, metric=\"l_max\")"
   ],
   "metadata": {
    "collapsed": false
   }
  },
  {
   "cell_type": "code",
   "execution_count": 3,
   "outputs": [],
   "source": [
    "genres_names = [\"classical\", \"country\", \"jazz\", \"metal\", \"pop\"]\n",
    "song_wise_classifier = SongWiseClassifier(genres_names=genres_names, train_size=80)"
   ],
   "metadata": {
    "collapsed": false
   }
  },
  {
   "cell_type": "code",
   "execution_count": 12,
   "outputs": [
    {
     "name": "stdout",
     "output_type": "stream",
     "text": [
      "Genre: classical completed, Accuracy for genre: 60.0%\n",
      "Genre: country completed, Accuracy for genre: 40.0%\n",
      "Genre: jazz completed, Accuracy for genre: 70.0%\n",
      "Genre: metal completed, Accuracy for genre: 100.0%\n",
      "Genre: pop completed, Accuracy for genre: 70.0%\n",
      "--------------------------------------\n",
      "Metric: l1, N_mfcc: 3, Train_size: 80, Test_size: 10, Window_size: 5\n",
      "Final Accuracy: 68.0%\n",
      "--------------------------------------\n"
     ]
    },
    {
     "data": {
      "text/plain": "0.68"
     },
     "execution_count": 12,
     "metadata": {},
     "output_type": "execute_result"
    }
   ],
   "source": [
    "song_wise_classifier.test(test_size=10, metric=\"l1\")"
   ],
   "metadata": {
    "collapsed": false
   }
  },
  {
   "cell_type": "code",
   "execution_count": 13,
   "outputs": [
    {
     "name": "stdout",
     "output_type": "stream",
     "text": [
      "Genre: classical completed, Accuracy for genre: 50.0%\n",
      "Genre: country completed, Accuracy for genre: 50.0%\n",
      "Genre: jazz completed, Accuracy for genre: 70.0%\n",
      "Genre: metal completed, Accuracy for genre: 100.0%\n",
      "Genre: pop completed, Accuracy for genre: 60.0%\n",
      "--------------------------------------\n",
      "Metric: l2, N_mfcc: 3, Train_size: 80, Test_size: 10, Window_size: 5\n",
      "Final Accuracy: 66.0%\n",
      "--------------------------------------\n"
     ]
    },
    {
     "data": {
      "text/plain": "0.66"
     },
     "execution_count": 13,
     "metadata": {},
     "output_type": "execute_result"
    }
   ],
   "source": [
    "song_wise_classifier.test(test_size=10, metric=\"l2\")"
   ],
   "metadata": {
    "collapsed": false
   }
  },
  {
   "cell_type": "code",
   "execution_count": 4,
   "outputs": [
    {
     "name": "stdout",
     "output_type": "stream",
     "text": [
      "Genre: classical completed, Accuracy for genre: 60.0%\n",
      "Genre: country completed, Accuracy for genre: 50.0%\n",
      "Genre: jazz completed, Accuracy for genre: 70.0%\n",
      "Genre: metal completed, Accuracy for genre: 100.0%\n",
      "Genre: pop completed, Accuracy for genre: 60.0%\n",
      "--------------------------------------\n",
      "Metric: l3, N_mfcc: 3, Train_size: 80, Test_size: 10, Window_size: 5\n",
      "Final Accuracy: 68.0%\n",
      "--------------------------------------\n"
     ]
    },
    {
     "data": {
      "text/plain": "0.68"
     },
     "execution_count": 4,
     "metadata": {},
     "output_type": "execute_result"
    }
   ],
   "source": [
    "song_wise_classifier.test(test_size=10, metric=\"l3\")"
   ],
   "metadata": {
    "collapsed": false
   }
  },
  {
   "cell_type": "code",
   "execution_count": 5,
   "outputs": [
    {
     "name": "stdout",
     "output_type": "stream",
     "text": [
      "Genre: classical completed, Accuracy for genre: 50.0%\n",
      "Genre: country completed, Accuracy for genre: 40.0%\n",
      "Genre: jazz completed, Accuracy for genre: 70.0%\n",
      "Genre: metal completed, Accuracy for genre: 100.0%\n",
      "Genre: pop completed, Accuracy for genre: 50.0%\n",
      "--------------------------------------\n",
      "Metric: l_max, N_mfcc: 3, Train_size: 80, Test_size: 10, Window_size: 5\n",
      "Final Accuracy: 62.0%\n",
      "--------------------------------------\n"
     ]
    },
    {
     "data": {
      "text/plain": "0.62"
     },
     "execution_count": 5,
     "metadata": {},
     "output_type": "execute_result"
    }
   ],
   "source": [
    "song_wise_classifier.test(test_size=10, metric=\"l_max\")"
   ],
   "metadata": {
    "collapsed": false
   }
  },
  {
   "cell_type": "code",
   "execution_count": 9,
   "outputs": [
    {
     "name": "stderr",
     "output_type": "stream",
     "text": [
      "/home/marketa/FIT/VMM/semestralka/venv/lib/python3.8/site-packages/librosa/util/decorators.py:88: UserWarning: PySoundFile failed. Trying audioread instead.\n",
      "  return f(*args, **kwargs)\n"
     ]
    },
    {
     "name": "stdout",
     "output_type": "stream",
     "text": [
      "Error during load of a song: ./data/train/ jazz/jazz.000054.wav\n"
     ]
    }
   ],
   "source": [
    "genres_names = [\"classical\", \"country\", \"jazz\", \"metal\", \"pop\"]\n",
    "song_wise_classifier = SongWiseClassifier(genres_names=genres_names, train_size=90)"
   ],
   "metadata": {
    "collapsed": false
   }
  },
  {
   "cell_type": "code",
   "execution_count": 10,
   "outputs": [
    {
     "name": "stdout",
     "output_type": "stream",
     "text": [
      "Genre: classical completed, Accuracy for genre: 60.0%\n",
      "Genre: country completed, Accuracy for genre: 40.0%\n",
      "Genre: jazz completed, Accuracy for genre: 60.0%\n",
      "Genre: metal completed, Accuracy for genre: 100.0%\n",
      "Genre: pop completed, Accuracy for genre: 70.0%\n",
      "--------------------------------------\n",
      "Metric: l1, N_mfcc: 3, Train_size: 90, Test_size: 10, Window_size: 5\n",
      "Final Accuracy: 66.0%\n",
      "--------------------------------------\n"
     ]
    },
    {
     "data": {
      "text/plain": "0.66"
     },
     "execution_count": 10,
     "metadata": {},
     "output_type": "execute_result"
    }
   ],
   "source": [
    "song_wise_classifier.test(test_size=10, metric=\"l1\")"
   ],
   "metadata": {
    "collapsed": false
   }
  },
  {
   "cell_type": "code",
   "execution_count": 11,
   "outputs": [
    {
     "name": "stdout",
     "output_type": "stream",
     "text": [
      "Genre: classical completed, Accuracy for genre: 60.0%\n",
      "Genre: country completed, Accuracy for genre: 30.0%\n",
      "Genre: jazz completed, Accuracy for genre: 70.0%\n",
      "Genre: metal completed, Accuracy for genre: 100.0%\n",
      "Genre: pop completed, Accuracy for genre: 60.0%\n",
      "--------------------------------------\n",
      "Metric: l2, N_mfcc: 3, Train_size: 90, Test_size: 10, Window_size: 5\n",
      "Final Accuracy: 64.0%\n",
      "--------------------------------------\n"
     ]
    },
    {
     "data": {
      "text/plain": "0.64"
     },
     "execution_count": 11,
     "metadata": {},
     "output_type": "execute_result"
    }
   ],
   "source": [
    "song_wise_classifier.test(test_size=10, metric=\"l2\")"
   ],
   "metadata": {
    "collapsed": false
   }
  },
  {
   "cell_type": "code",
   "execution_count": 12,
   "outputs": [
    {
     "name": "stdout",
     "output_type": "stream",
     "text": [
      "Genre: classical completed, Accuracy for genre: 60.0%\n",
      "Genre: country completed, Accuracy for genre: 40.0%\n",
      "Genre: jazz completed, Accuracy for genre: 70.0%\n",
      "Genre: metal completed, Accuracy for genre: 100.0%\n",
      "Genre: pop completed, Accuracy for genre: 50.0%\n",
      "--------------------------------------\n",
      "Metric: l3, N_mfcc: 3, Train_size: 90, Test_size: 10, Window_size: 5\n",
      "Final Accuracy: 64.0%\n",
      "--------------------------------------\n"
     ]
    },
    {
     "data": {
      "text/plain": "0.64"
     },
     "execution_count": 12,
     "metadata": {},
     "output_type": "execute_result"
    }
   ],
   "source": [
    "song_wise_classifier.test(test_size=10, metric=\"l3\")"
   ],
   "metadata": {
    "collapsed": false
   }
  },
  {
   "cell_type": "code",
   "execution_count": 13,
   "outputs": [
    {
     "name": "stdout",
     "output_type": "stream",
     "text": [
      "Genre: classical completed, Accuracy for genre: 50.0%\n",
      "Genre: country completed, Accuracy for genre: 40.0%\n",
      "Genre: jazz completed, Accuracy for genre: 70.0%\n",
      "Genre: metal completed, Accuracy for genre: 100.0%\n",
      "Genre: pop completed, Accuracy for genre: 50.0%\n",
      "--------------------------------------\n",
      "Metric: l_max, N_mfcc: 3, Train_size: 90, Test_size: 10, Window_size: 5\n",
      "Final Accuracy: 62.0%\n",
      "--------------------------------------\n"
     ]
    },
    {
     "data": {
      "text/plain": "0.62"
     },
     "execution_count": 13,
     "metadata": {},
     "output_type": "execute_result"
    }
   ],
   "source": [
    "song_wise_classifier.test(test_size=10, metric=\"l_max\")"
   ],
   "metadata": {
    "collapsed": false
   }
  },
  {
   "cell_type": "code",
   "execution_count": 2,
   "outputs": [
    {
     "name": "stdout",
     "output_type": "stream",
     "text": [
      "Genre: classical completed, Accuracy for genre: 60.0%\n",
      "Genre: country completed, Accuracy for genre: 40.0%\n",
      "Genre: jazz completed, Accuracy for genre: 50.0%\n",
      "Genre: metal completed, Accuracy for genre: 100.0%\n",
      "Genre: rock completed, Accuracy for genre: 30.0%\n",
      "Genre: disco completed, Accuracy for genre: 50.0%\n",
      "--------------------------------------\n",
      "Metric: l3, N_mfcc: 3, Train_size: 40, Test_size: 10, Window_size: 5\n",
      "Final Accuracy: 55.00000000000001%\n",
      "--------------------------------------\n",
      "Genre: classical completed, Accuracy for genre: 60.0%\n",
      "Genre: country completed, Accuracy for genre: 40.0%\n"
     ]
    },
    {
     "ename": "MemoryError",
     "evalue": "Unable to allocate 12.8 MiB for an array with shape (1294, 1294) and data type float64",
     "output_type": "error",
     "traceback": [
      "\u001B[1;31m---------------------------------------------------------------------------\u001B[0m",
      "\u001B[1;31mMemoryError\u001B[0m                               Traceback (most recent call last)",
      "Cell \u001B[1;32mIn [2], line 5\u001B[0m\n\u001B[0;32m      3\u001B[0m audio_classifier \u001B[38;5;241m=\u001B[39m AudioClassifier(genres_names\u001B[38;5;241m=\u001B[39mgenres_names, train_size\u001B[38;5;241m=\u001B[39m\u001B[38;5;241m40\u001B[39m)\n\u001B[0;32m      4\u001B[0m audio_classifier\u001B[38;5;241m.\u001B[39mtest(test_size\u001B[38;5;241m=\u001B[39m\u001B[38;5;241m10\u001B[39m, metric\u001B[38;5;241m=\u001B[39m\u001B[38;5;124m\"\u001B[39m\u001B[38;5;124ml3\u001B[39m\u001B[38;5;124m\"\u001B[39m)\n\u001B[1;32m----> 5\u001B[0m \u001B[43maudio_classifier\u001B[49m\u001B[38;5;241;43m.\u001B[39;49m\u001B[43mtest\u001B[49m\u001B[43m(\u001B[49m\u001B[43mtest_size\u001B[49m\u001B[38;5;241;43m=\u001B[39;49m\u001B[38;5;241;43m10\u001B[39;49m\u001B[43m,\u001B[49m\u001B[43m \u001B[49m\u001B[43mmetric\u001B[49m\u001B[38;5;241;43m=\u001B[39;49m\u001B[38;5;124;43m\"\u001B[39;49m\u001B[38;5;124;43ml_max\u001B[39;49m\u001B[38;5;124;43m\"\u001B[39;49m\u001B[43m)\u001B[49m\n",
      "File \u001B[1;32mD:\\aa\\skola\\NI-VMM\\ni-vmm-audio-classification\\server\\audio_classification.py:134\u001B[0m, in \u001B[0;36mAudioClassifier.test\u001B[1;34m(self, test_size, metric)\u001B[0m\n\u001B[0;32m    132\u001B[0m \u001B[38;5;28;01mfor\u001B[39;00m song \u001B[38;5;129;01min\u001B[39;00m filenames:\n\u001B[0;32m    133\u001B[0m     song_path \u001B[38;5;241m=\u001B[39m directory_path \u001B[38;5;241m+\u001B[39m \u001B[38;5;124m\"\u001B[39m\u001B[38;5;124m/\u001B[39m\u001B[38;5;124m\"\u001B[39m \u001B[38;5;241m+\u001B[39m song\n\u001B[1;32m--> 134\u001B[0m     result \u001B[38;5;241m=\u001B[39m \u001B[38;5;28;43mself\u001B[39;49m\u001B[38;5;241;43m.\u001B[39;49m\u001B[43mclassify\u001B[49m\u001B[43m(\u001B[49m\u001B[43msong_path\u001B[49m\u001B[43m,\u001B[49m\u001B[43m \u001B[49m\u001B[43mtest\u001B[49m\u001B[38;5;241;43m=\u001B[39;49m\u001B[38;5;28;43;01mTrue\u001B[39;49;00m\u001B[43m)\u001B[49m\n\u001B[0;32m    135\u001B[0m     tmp_all \u001B[38;5;241m+\u001B[39m\u001B[38;5;241m=\u001B[39m \u001B[38;5;241m1\u001B[39m\n\u001B[0;32m    136\u001B[0m     \u001B[38;5;28;01mif\u001B[39;00m result \u001B[38;5;241m==\u001B[39m genre:\n",
      "File \u001B[1;32mD:\\aa\\skola\\NI-VMM\\ni-vmm-audio-classification\\server\\audio_classification.py:112\u001B[0m, in \u001B[0;36mAudioClassifier.classify\u001B[1;34m(self, audio, test)\u001B[0m\n\u001B[0;32m    109\u001B[0m distances \u001B[38;5;241m=\u001B[39m []\n\u001B[0;32m    111\u001B[0m \u001B[38;5;28;01mfor\u001B[39;00m x \u001B[38;5;129;01min\u001B[39;00m \u001B[38;5;28mself\u001B[39m\u001B[38;5;241m.\u001B[39mgenres:\n\u001B[1;32m--> 112\u001B[0m     w \u001B[38;5;241m=\u001B[39m \u001B[38;5;28;43mself\u001B[39;49m\u001B[38;5;241;43m.\u001B[39;49m\u001B[43mcompute_dist\u001B[49m\u001B[43m(\u001B[49m\u001B[43mx\u001B[49m\u001B[43m,\u001B[49m\u001B[43m \u001B[49m\u001B[43mau_mfcc\u001B[49m\u001B[43m)\u001B[49m\n\u001B[0;32m    113\u001B[0m     \u001B[38;5;28;01mif\u001B[39;00m \u001B[38;5;129;01mnot\u001B[39;00m test:\n\u001B[0;32m    114\u001B[0m         \u001B[38;5;28mprint\u001B[39m(w)\n",
      "File \u001B[1;32mD:\\aa\\skola\\NI-VMM\\ni-vmm-audio-classification\\server\\audio_classification.py:102\u001B[0m, in \u001B[0;36mAudioClassifier.compute_dist\u001B[1;34m(self, genre_files, audio)\u001B[0m\n\u001B[0;32m    100\u001B[0m dist \u001B[38;5;241m=\u001B[39m \u001B[38;5;241m0\u001B[39m\n\u001B[0;32m    101\u001B[0m \u001B[38;5;28;01mfor\u001B[39;00m x \u001B[38;5;129;01min\u001B[39;00m genre_files:\n\u001B[1;32m--> 102\u001B[0m     dist \u001B[38;5;241m+\u001B[39m\u001B[38;5;241m=\u001B[39m (\u001B[38;5;28;43mself\u001B[39;49m\u001B[38;5;241;43m.\u001B[39;49m\u001B[43mdtw_distance\u001B[49m\u001B[43m(\u001B[49m\u001B[43mx\u001B[49m\u001B[43m,\u001B[49m\u001B[43m \u001B[49m\u001B[43maudio\u001B[49m\u001B[43m)\u001B[49m)\n\u001B[0;32m    103\u001B[0m     \u001B[38;5;66;03m# D, wp = librosa.sequence.dtw(x, audio)\u001B[39;00m\n\u001B[0;32m    104\u001B[0m     \u001B[38;5;66;03m# dist += D[-1, -1]\u001B[39;00m\n\u001B[0;32m    105\u001B[0m \u001B[38;5;28;01mreturn\u001B[39;00m dist \u001B[38;5;241m/\u001B[39m \u001B[38;5;28mlen\u001B[39m(genre_files)\n",
      "File \u001B[1;32mD:\\aa\\skola\\NI-VMM\\ni-vmm-audio-classification\\server\\audio_classification.py:71\u001B[0m, in \u001B[0;36mAudioClassifier.dtw_distance\u001B[1;34m(self, arg1, arg2)\u001B[0m\n\u001B[0;32m     68\u001B[0m w \u001B[38;5;241m=\u001B[39m np\u001B[38;5;241m.\u001B[39mmax([\u001B[38;5;28mself\u001B[39m\u001B[38;5;241m.\u001B[39mwindow_size, \u001B[38;5;28mabs\u001B[39m(n \u001B[38;5;241m-\u001B[39m m)])\n\u001B[0;32m     70\u001B[0m \u001B[38;5;66;03m# initialize DTW array\u001B[39;00m\n\u001B[1;32m---> 71\u001B[0m DTW \u001B[38;5;241m=\u001B[39m \u001B[43mnp\u001B[49m\u001B[38;5;241;43m.\u001B[39;49m\u001B[43mzeros\u001B[49m\u001B[43m(\u001B[49m\u001B[43m(\u001B[49m\u001B[43mn\u001B[49m\u001B[43m \u001B[49m\u001B[38;5;241;43m+\u001B[39;49m\u001B[43m \u001B[49m\u001B[38;5;241;43m1\u001B[39;49m\u001B[43m,\u001B[49m\u001B[43m \u001B[49m\u001B[43mm\u001B[49m\u001B[43m \u001B[49m\u001B[38;5;241;43m+\u001B[39;49m\u001B[43m \u001B[49m\u001B[38;5;241;43m1\u001B[39;49m\u001B[43m)\u001B[49m\u001B[43m)\u001B[49m\n\u001B[0;32m     72\u001B[0m DTW[:, :] \u001B[38;5;241m=\u001B[39m np\u001B[38;5;241m.\u001B[39minf\n\u001B[0;32m     73\u001B[0m DTW[\u001B[38;5;241m0\u001B[39m, \u001B[38;5;241m0\u001B[39m] \u001B[38;5;241m=\u001B[39m \u001B[38;5;241m0\u001B[39m\n",
      "\u001B[1;31mMemoryError\u001B[0m: Unable to allocate 12.8 MiB for an array with shape (1294, 1294) and data type float64"
     ]
    }
   ],
   "source": [
    "from audio_classification import *\n",
    "genres_names = [\"classical\", \"country\", \"jazz\", \"metal\", \"rock\", \"disco\"]\n",
    "song_wise_classifier = SongWiseClassifier(genres_names=genres_names, train_size=40)\n",
    "song_wise_classifier.test(test_size=10, metric=\"l3\")\n",
    "song_wise_classifier.test(test_size=10, metric=\"l_max\")"
   ],
   "metadata": {
    "collapsed": false
   }
  },
  {
   "cell_type": "code",
   "execution_count": 14,
   "outputs": [],
   "source": [
    "from audio_classification_aggregated_mfccs import *"
   ],
   "metadata": {
    "collapsed": false
   }
  },
  {
   "cell_type": "code",
   "execution_count": 15,
   "outputs": [],
   "source": [
    "# genres_names = [\"classical\", \"country\", \"jazz\", \"metal\", \"reggae\", \"disco\"]\n",
    "# genres_names = [\"classical\", \"country\", \"jazz\", \"metal\", \"reggae\"]\n",
    "# genres_names = [\"classical\", \"country\", \"jazz\", \"metal\", \"disco\"] 58, pak 56 na všem 90 train_size\n",
    "# genres_names = [\"classical\", \"country\", \"jazz\", \"metal\", \"pop\"] tohle je hodně dobrý 70%+ všem, 90 train_size, train_size=40 dává ještě lepší výsledky pro l1\n",
    "# genres_names = [\"classical\", \"country\", \"jazz\", \"metal\", \"hiphop\"] taky poměrně dobrý okolo 65-70\n",
    "#genres_names = [\"classical\", \"country\", \"jazz\", \"metal\", \"hiphop\"]\n",
    "genres_names = [\"classical\", \"country\", \"jazz\", \"metal\", \"pop\"]\n",
    "# genres_names = [\"classical\", \"country\", \"hiphop\", \"jazz\", \"metal\", \"pop\", \"rock\"]"
   ],
   "metadata": {
    "collapsed": false,
    "pycharm": {
     "name": "#%%\n"
    }
   }
  },
  {
   "cell_type": "code",
   "execution_count": 16,
   "outputs": [
    {
     "name": "stdout",
     "output_type": "stream",
     "text": [
      "Genre: classical completed, Accuracy for genre: 80.0%\n",
      "Genre: country completed, Accuracy for genre: 60.0%\n",
      "Genre: jazz completed, Accuracy for genre: 60.0%\n",
      "Genre: metal completed, Accuracy for genre: 100.0%\n",
      "Genre: pop completed, Accuracy for genre: 70.0%\n",
      "--------------------------------------\n",
      "Metric: l1, N_mfcc: 3, Train_size: 40, Test_size: 10, Window_size: 5\n",
      "Final Accuracy: 74.0%\n",
      "--------------------------------------\n",
      "Genre: classical completed, Accuracy for genre: 70.0%\n",
      "Genre: country completed, Accuracy for genre: 70.0%\n",
      "Genre: jazz completed, Accuracy for genre: 60.0%\n",
      "Genre: metal completed, Accuracy for genre: 90.0%\n",
      "Genre: pop completed, Accuracy for genre: 60.0%\n",
      "--------------------------------------\n",
      "Metric: l2, N_mfcc: 3, Train_size: 40, Test_size: 10, Window_size: 5\n",
      "Final Accuracy: 70.0%\n",
      "--------------------------------------\n",
      "Genre: classical completed, Accuracy for genre: 70.0%\n",
      "Genre: country completed, Accuracy for genre: 70.0%\n",
      "Genre: jazz completed, Accuracy for genre: 60.0%\n",
      "Genre: metal completed, Accuracy for genre: 90.0%\n",
      "Genre: pop completed, Accuracy for genre: 50.0%\n",
      "--------------------------------------\n",
      "Metric: l3, N_mfcc: 3, Train_size: 40, Test_size: 10, Window_size: 5\n",
      "Final Accuracy: 68.0%\n",
      "--------------------------------------\n",
      "Genre: classical completed, Accuracy for genre: 70.0%\n",
      "Genre: country completed, Accuracy for genre: 80.0%\n",
      "Genre: jazz completed, Accuracy for genre: 60.0%\n",
      "Genre: metal completed, Accuracy for genre: 80.0%\n",
      "Genre: pop completed, Accuracy for genre: 40.0%\n",
      "--------------------------------------\n",
      "Metric: l_max, N_mfcc: 3, Train_size: 40, Test_size: 10, Window_size: 5\n",
      "Final Accuracy: 66.0%\n",
      "--------------------------------------\n"
     ]
    },
    {
     "data": {
      "text/plain": "0.66"
     },
     "execution_count": 16,
     "metadata": {},
     "output_type": "execute_result"
    }
   ],
   "source": [
    "aggregated_mfccs_classifier = AggregatedMfccsClassifier(genres_names=genres_names, train_size=40)\n",
    "aggregated_mfccs_classifier.test(test_size=10, metric=\"l1\")\n",
    "aggregated_mfccs_classifier.test(test_size=10)\n",
    "aggregated_mfccs_classifier.test(test_size=10, metric=\"l3\")\n",
    "aggregated_mfccs_classifier.test(test_size=10, metric=\"l_max\")"
   ],
   "metadata": {
    "collapsed": false
   }
  },
  {
   "cell_type": "code",
   "execution_count": 17,
   "outputs": [
    {
     "name": "stdout",
     "output_type": "stream",
     "text": [
      "Genre: classical completed, Accuracy for genre: 80.0%\n",
      "Genre: country completed, Accuracy for genre: 50.0%\n",
      "Genre: jazz completed, Accuracy for genre: 60.0%\n",
      "Genre: metal completed, Accuracy for genre: 100.0%\n",
      "Genre: pop completed, Accuracy for genre: 70.0%\n",
      "--------------------------------------\n",
      "Metric: l1, N_mfcc: 3, Train_size: 50, Test_size: 10, Window_size: 5\n",
      "Final Accuracy: 72.0%\n",
      "--------------------------------------\n",
      "Genre: classical completed, Accuracy for genre: 80.0%\n",
      "Genre: country completed, Accuracy for genre: 60.0%\n",
      "Genre: jazz completed, Accuracy for genre: 60.0%\n",
      "Genre: metal completed, Accuracy for genre: 90.0%\n",
      "Genre: pop completed, Accuracy for genre: 60.0%\n",
      "--------------------------------------\n",
      "Metric: l2, N_mfcc: 3, Train_size: 50, Test_size: 10, Window_size: 5\n",
      "Final Accuracy: 70.0%\n",
      "--------------------------------------\n",
      "Genre: classical completed, Accuracy for genre: 80.0%\n",
      "Genre: country completed, Accuracy for genre: 60.0%\n",
      "Genre: jazz completed, Accuracy for genre: 60.0%\n",
      "Genre: metal completed, Accuracy for genre: 90.0%\n",
      "Genre: pop completed, Accuracy for genre: 50.0%\n",
      "--------------------------------------\n",
      "Metric: l3, N_mfcc: 3, Train_size: 50, Test_size: 10, Window_size: 5\n",
      "Final Accuracy: 68.0%\n",
      "--------------------------------------\n",
      "Genre: classical completed, Accuracy for genre: 80.0%\n",
      "Genre: country completed, Accuracy for genre: 60.0%\n",
      "Genre: jazz completed, Accuracy for genre: 60.0%\n",
      "Genre: metal completed, Accuracy for genre: 90.0%\n",
      "Genre: pop completed, Accuracy for genre: 40.0%\n",
      "--------------------------------------\n",
      "Metric: l_max, N_mfcc: 3, Train_size: 50, Test_size: 10, Window_size: 5\n",
      "Final Accuracy: 66.0%\n",
      "--------------------------------------\n"
     ]
    },
    {
     "data": {
      "text/plain": "0.66"
     },
     "execution_count": 17,
     "metadata": {},
     "output_type": "execute_result"
    }
   ],
   "source": [
    "aggregated_mfccs_classifier = AggregatedMfccsClassifier(genres_names=genres_names, train_size=50)\n",
    "aggregated_mfccs_classifier.test(test_size=10, metric=\"l1\")\n",
    "aggregated_mfccs_classifier.test(test_size=10)\n",
    "aggregated_mfccs_classifier.test(test_size=10, metric=\"l3\")\n",
    "aggregated_mfccs_classifier.test(test_size=10, metric=\"l_max\")"
   ],
   "metadata": {
    "collapsed": false
   }
  },
  {
   "cell_type": "code",
   "execution_count": 18,
   "outputs": [
    {
     "name": "stdout",
     "output_type": "stream",
     "text": [
      "Error during load of a song: ./data/train/ jazz/jazz.000054.wav\n",
      "Genre: classical completed, Accuracy for genre: 80.0%\n",
      "Genre: country completed, Accuracy for genre: 60.0%\n",
      "Genre: jazz completed, Accuracy for genre: 60.0%\n",
      "Genre: metal completed, Accuracy for genre: 100.0%\n",
      "Genre: pop completed, Accuracy for genre: 70.0%\n",
      "--------------------------------------\n",
      "Metric: l1, N_mfcc: 3, Train_size: 60, Test_size: 10, Window_size: 5\n",
      "Final Accuracy: 74.0%\n",
      "--------------------------------------\n",
      "Genre: classical completed, Accuracy for genre: 80.0%\n",
      "Genre: country completed, Accuracy for genre: 60.0%\n",
      "Genre: jazz completed, Accuracy for genre: 60.0%\n",
      "Genre: metal completed, Accuracy for genre: 100.0%\n",
      "Genre: pop completed, Accuracy for genre: 70.0%\n",
      "--------------------------------------\n",
      "Metric: l2, N_mfcc: 3, Train_size: 60, Test_size: 10, Window_size: 5\n",
      "Final Accuracy: 74.0%\n",
      "--------------------------------------\n",
      "Genre: classical completed, Accuracy for genre: 80.0%\n",
      "Genre: country completed, Accuracy for genre: 60.0%\n",
      "Genre: jazz completed, Accuracy for genre: 60.0%\n",
      "Genre: metal completed, Accuracy for genre: 80.0%\n",
      "Genre: pop completed, Accuracy for genre: 70.0%\n",
      "--------------------------------------\n",
      "Metric: l3, N_mfcc: 3, Train_size: 60, Test_size: 10, Window_size: 5\n",
      "Final Accuracy: 70.0%\n",
      "--------------------------------------\n",
      "Genre: classical completed, Accuracy for genre: 80.0%\n",
      "Genre: country completed, Accuracy for genre: 70.0%\n",
      "Genre: jazz completed, Accuracy for genre: 60.0%\n",
      "Genre: metal completed, Accuracy for genre: 60.0%\n",
      "Genre: pop completed, Accuracy for genre: 70.0%\n",
      "--------------------------------------\n",
      "Metric: l_max, N_mfcc: 3, Train_size: 60, Test_size: 10, Window_size: 5\n",
      "Final Accuracy: 68.0%\n",
      "--------------------------------------\n"
     ]
    },
    {
     "data": {
      "text/plain": "0.68"
     },
     "execution_count": 18,
     "metadata": {},
     "output_type": "execute_result"
    }
   ],
   "source": [
    "aggregated_mfccs_classifier = AggregatedMfccsClassifier(genres_names=genres_names, train_size=60)\n",
    "aggregated_mfccs_classifier.test(test_size=10, metric=\"l1\")\n",
    "aggregated_mfccs_classifier.test(test_size=10)\n",
    "aggregated_mfccs_classifier.test(test_size=10, metric=\"l3\")\n",
    "aggregated_mfccs_classifier.test(test_size=10, metric=\"l_max\")"
   ],
   "metadata": {
    "collapsed": false
   }
  },
  {
   "cell_type": "code",
   "execution_count": 19,
   "outputs": [
    {
     "name": "stdout",
     "output_type": "stream",
     "text": [
      "Error during load of a song: ./data/train/ jazz/jazz.000054.wav\n",
      "Genre: classical completed, Accuracy for genre: 80.0%\n",
      "Genre: country completed, Accuracy for genre: 60.0%\n",
      "Genre: jazz completed, Accuracy for genre: 60.0%\n",
      "Genre: metal completed, Accuracy for genre: 100.0%\n",
      "Genre: pop completed, Accuracy for genre: 70.0%\n",
      "--------------------------------------\n",
      "Metric: l1, N_mfcc: 3, Train_size: 70, Test_size: 10, Window_size: 5\n",
      "Final Accuracy: 74.0%\n",
      "--------------------------------------\n",
      "Genre: classical completed, Accuracy for genre: 80.0%\n",
      "Genre: country completed, Accuracy for genre: 60.0%\n",
      "Genre: jazz completed, Accuracy for genre: 60.0%\n",
      "Genre: metal completed, Accuracy for genre: 90.0%\n",
      "Genre: pop completed, Accuracy for genre: 70.0%\n",
      "--------------------------------------\n",
      "Metric: l2, N_mfcc: 3, Train_size: 70, Test_size: 10, Window_size: 5\n",
      "Final Accuracy: 72.0%\n",
      "--------------------------------------\n",
      "Genre: classical completed, Accuracy for genre: 80.0%\n",
      "Genre: country completed, Accuracy for genre: 60.0%\n",
      "Genre: jazz completed, Accuracy for genre: 60.0%\n",
      "Genre: metal completed, Accuracy for genre: 90.0%\n",
      "Genre: pop completed, Accuracy for genre: 70.0%\n",
      "--------------------------------------\n",
      "Metric: l3, N_mfcc: 3, Train_size: 70, Test_size: 10, Window_size: 5\n",
      "Final Accuracy: 72.0%\n",
      "--------------------------------------\n",
      "Genre: classical completed, Accuracy for genre: 80.0%\n",
      "Genre: country completed, Accuracy for genre: 60.0%\n",
      "Genre: jazz completed, Accuracy for genre: 60.0%\n",
      "Genre: metal completed, Accuracy for genre: 90.0%\n",
      "Genre: pop completed, Accuracy for genre: 60.0%\n",
      "--------------------------------------\n",
      "Metric: l_max, N_mfcc: 3, Train_size: 70, Test_size: 10, Window_size: 5\n",
      "Final Accuracy: 70.0%\n",
      "--------------------------------------\n"
     ]
    },
    {
     "data": {
      "text/plain": "0.7"
     },
     "execution_count": 19,
     "metadata": {},
     "output_type": "execute_result"
    }
   ],
   "source": [
    "aggregated_mfccs_classifier = AggregatedMfccsClassifier(genres_names=genres_names, train_size=70)\n",
    "aggregated_mfccs_classifier.test(test_size=10, metric=\"l1\")\n",
    "aggregated_mfccs_classifier.test(test_size=10)\n",
    "aggregated_mfccs_classifier.test(test_size=10, metric=\"l3\")\n",
    "aggregated_mfccs_classifier.test(test_size=10, metric=\"l_max\")"
   ],
   "metadata": {
    "collapsed": false
   }
  },
  {
   "cell_type": "code",
   "execution_count": 20,
   "outputs": [
    {
     "name": "stdout",
     "output_type": "stream",
     "text": [
      "Error during load of a song: ./data/train/ jazz/jazz.000054.wav\n",
      "Genre: classical completed, Accuracy for genre: 80.0%\n",
      "Genre: country completed, Accuracy for genre: 60.0%\n",
      "Genre: jazz completed, Accuracy for genre: 60.0%\n",
      "Genre: metal completed, Accuracy for genre: 90.0%\n",
      "Genre: pop completed, Accuracy for genre: 70.0%\n",
      "--------------------------------------\n",
      "Metric: l1, N_mfcc: 3, Train_size: 80, Test_size: 10, Window_size: 5\n",
      "Final Accuracy: 72.0%\n",
      "--------------------------------------\n",
      "Genre: classical completed, Accuracy for genre: 80.0%\n",
      "Genre: country completed, Accuracy for genre: 60.0%\n",
      "Genre: jazz completed, Accuracy for genre: 60.0%\n",
      "Genre: metal completed, Accuracy for genre: 90.0%\n",
      "Genre: pop completed, Accuracy for genre: 70.0%\n",
      "--------------------------------------\n",
      "Metric: l2, N_mfcc: 3, Train_size: 80, Test_size: 10, Window_size: 5\n",
      "Final Accuracy: 72.0%\n",
      "--------------------------------------\n",
      "Genre: classical completed, Accuracy for genre: 80.0%\n",
      "Genre: country completed, Accuracy for genre: 60.0%\n",
      "Genre: jazz completed, Accuracy for genre: 60.0%\n",
      "Genre: metal completed, Accuracy for genre: 90.0%\n",
      "Genre: pop completed, Accuracy for genre: 70.0%\n",
      "--------------------------------------\n",
      "Metric: l3, N_mfcc: 3, Train_size: 80, Test_size: 10, Window_size: 5\n",
      "Final Accuracy: 72.0%\n",
      "--------------------------------------\n",
      "Genre: classical completed, Accuracy for genre: 80.0%\n",
      "Genre: country completed, Accuracy for genre: 60.0%\n",
      "Genre: jazz completed, Accuracy for genre: 60.0%\n",
      "Genre: metal completed, Accuracy for genre: 90.0%\n",
      "Genre: pop completed, Accuracy for genre: 70.0%\n",
      "--------------------------------------\n",
      "Metric: l_max, N_mfcc: 3, Train_size: 80, Test_size: 10, Window_size: 5\n",
      "Final Accuracy: 72.0%\n",
      "--------------------------------------\n"
     ]
    },
    {
     "data": {
      "text/plain": "0.72"
     },
     "execution_count": 20,
     "metadata": {},
     "output_type": "execute_result"
    }
   ],
   "source": [
    "aggregated_mfccs_classifier = AggregatedMfccsClassifier(genres_names=genres_names, train_size=80)\n",
    "aggregated_mfccs_classifier.test(test_size=10, metric=\"l1\")\n",
    "aggregated_mfccs_classifier.test(test_size=10)\n",
    "aggregated_mfccs_classifier.test(test_size=10, metric=\"l3\")\n",
    "aggregated_mfccs_classifier.test(test_size=10, metric=\"l_max\")"
   ],
   "metadata": {
    "collapsed": false
   }
  },
  {
   "cell_type": "code",
   "execution_count": 21,
   "outputs": [
    {
     "name": "stdout",
     "output_type": "stream",
     "text": [
      "Genre: classical completed, Accuracy for genre: 80.0%\n",
      "Genre: country completed, Accuracy for genre: 50.0%\n",
      "Genre: jazz completed, Accuracy for genre: 60.0%\n",
      "Genre: metal completed, Accuracy for genre: 100.0%\n",
      "Genre: pop completed, Accuracy for genre: 70.0%\n",
      "--------------------------------------\n",
      "Metric: l1, N_mfcc: 3, Train_size: 90, Test_size: 10, Window_size: 5\n",
      "Final Accuracy: 72.0%\n",
      "--------------------------------------\n",
      "Genre: classical completed, Accuracy for genre: 80.0%\n",
      "Genre: country completed, Accuracy for genre: 60.0%\n",
      "Genre: jazz completed, Accuracy for genre: 60.0%\n",
      "Genre: metal completed, Accuracy for genre: 90.0%\n",
      "Genre: pop completed, Accuracy for genre: 70.0%\n",
      "--------------------------------------\n",
      "Metric: l2, N_mfcc: 3, Train_size: 90, Test_size: 10, Window_size: 5\n",
      "Final Accuracy: 72.0%\n",
      "--------------------------------------\n",
      "Genre: classical completed, Accuracy for genre: 80.0%\n",
      "Genre: country completed, Accuracy for genre: 60.0%\n",
      "Genre: jazz completed, Accuracy for genre: 60.0%\n",
      "Genre: metal completed, Accuracy for genre: 90.0%\n",
      "Genre: pop completed, Accuracy for genre: 60.0%\n",
      "--------------------------------------\n",
      "Metric: l3, N_mfcc: 3, Train_size: 90, Test_size: 10, Window_size: 5\n",
      "Final Accuracy: 70.0%\n",
      "--------------------------------------\n",
      "Genre: classical completed, Accuracy for genre: 80.0%\n",
      "Genre: country completed, Accuracy for genre: 60.0%\n",
      "Genre: jazz completed, Accuracy for genre: 60.0%\n",
      "Genre: metal completed, Accuracy for genre: 90.0%\n",
      "Genre: pop completed, Accuracy for genre: 60.0%\n",
      "--------------------------------------\n",
      "Metric: l_max, N_mfcc: 3, Train_size: 90, Test_size: 10, Window_size: 5\n",
      "Final Accuracy: 70.0%\n",
      "--------------------------------------\n"
     ]
    },
    {
     "data": {
      "text/plain": "0.7"
     },
     "execution_count": 21,
     "metadata": {},
     "output_type": "execute_result"
    }
   ],
   "source": [
    "aggregated_mfccs_classifier = AggregatedMfccsClassifier(genres_names=genres_names, train_size=90)\n",
    "aggregated_mfccs_classifier.test(test_size=10, metric=\"l1\")\n",
    "aggregated_mfccs_classifier.test(test_size=10)\n",
    "aggregated_mfccs_classifier.test(test_size=10, metric=\"l3\")\n",
    "aggregated_mfccs_classifier.test(test_size=10, metric=\"l_max\")"
   ],
   "metadata": {
    "collapsed": false
   }
  },
  {
   "cell_type": "code",
   "execution_count": 23,
   "outputs": [
    {
     "name": "stdout",
     "output_type": "stream",
     "text": [
      "Genre: classical completed, Accuracy for genre: 80.0%\n",
      "Genre: country completed, Accuracy for genre: 60.0%\n",
      "Genre: jazz completed, Accuracy for genre: 60.0%\n",
      "Genre: metal completed, Accuracy for genre: 90.0%\n",
      "Genre: pop completed, Accuracy for genre: 60.0%\n",
      "Genre: hiphop completed, Accuracy for genre: 40.0%\n",
      "--------------------------------------\n",
      "Metric: l1, N_mfcc: 3, Train_size: 60, Test_size: 10, Window_size: 5\n",
      "Final Accuracy: 65.0%\n",
      "--------------------------------------\n"
     ]
    },
    {
     "data": {
      "text/plain": "0.65"
     },
     "execution_count": 23,
     "metadata": {},
     "output_type": "execute_result"
    }
   ],
   "source": [
    "genres_names = [\"classical\", \"country\", \"jazz\", \"metal\", \"pop\", \"hiphop\"]\n",
    "aggregated_mfccs_classifier = AggregatedMfccsClassifier(genres_names=genres_names, train_size=60)\n",
    "aggregated_mfccs_classifier.test(test_size=10, metric=\"l1\")"
   ],
   "metadata": {
    "collapsed": false
   }
  },
  {
   "cell_type": "code",
   "execution_count": 24,
   "outputs": [
    {
     "name": "stdout",
     "output_type": "stream",
     "text": [
      "Genre: classical completed, Accuracy for genre: 80.0%\n",
      "Genre: country completed, Accuracy for genre: 40.0%\n",
      "Genre: jazz completed, Accuracy for genre: 60.0%\n",
      "Genre: metal completed, Accuracy for genre: 80.0%\n",
      "Genre: pop completed, Accuracy for genre: 70.0%\n",
      "Genre: rock completed, Accuracy for genre: 30.0%\n",
      "--------------------------------------\n",
      "Metric: l1, N_mfcc: 3, Train_size: 60, Test_size: 10, Window_size: 5\n",
      "Final Accuracy: 60.0%\n",
      "--------------------------------------\n"
     ]
    },
    {
     "data": {
      "text/plain": "0.6"
     },
     "execution_count": 24,
     "metadata": {},
     "output_type": "execute_result"
    }
   ],
   "source": [
    "genres_names = [\"classical\", \"country\", \"jazz\", \"metal\", \"pop\", \"rock\"]\n",
    "aggregated_mfccs_classifier = AggregatedMfccsClassifier(genres_names=genres_names, train_size=60)\n",
    "aggregated_mfccs_classifier.test(test_size=10, metric=\"l1\")"
   ],
   "metadata": {
    "collapsed": false
   }
  },
  {
   "cell_type": "code",
   "execution_count": 25,
   "outputs": [
    {
     "name": "stdout",
     "output_type": "stream",
     "text": [
      "Genre: classical completed, Accuracy for genre: 80.0%\n",
      "Genre: country completed, Accuracy for genre: 60.0%\n",
      "Genre: jazz completed, Accuracy for genre: 60.0%\n",
      "Genre: metal completed, Accuracy for genre: 70.0%\n",
      "Genre: pop completed, Accuracy for genre: 70.0%\n",
      "Genre: disco completed, Accuracy for genre: 30.0%\n",
      "--------------------------------------\n",
      "Metric: l1, N_mfcc: 3, Train_size: 60, Test_size: 10, Window_size: 5\n",
      "Final Accuracy: 61.66666666666667%\n",
      "--------------------------------------\n"
     ]
    },
    {
     "data": {
      "text/plain": "0.6166666666666667"
     },
     "execution_count": 25,
     "metadata": {},
     "output_type": "execute_result"
    }
   ],
   "source": [
    "genres_names = [\"classical\", \"country\", \"jazz\", \"metal\", \"pop\", \"disco\"]\n",
    "aggregated_mfccs_classifier = AggregatedMfccsClassifier(genres_names=genres_names, train_size=60)\n",
    "aggregated_mfccs_classifier.test(test_size=10, metric=\"l1\")"
   ],
   "metadata": {
    "collapsed": false
   }
  },
  {
   "cell_type": "code",
   "execution_count": 26,
   "outputs": [
    {
     "name": "stdout",
     "output_type": "stream",
     "text": [
      "Genre: classical completed, Accuracy for genre: 80.0%\n",
      "Genre: country completed, Accuracy for genre: 60.0%\n",
      "Genre: jazz completed, Accuracy for genre: 60.0%\n",
      "Genre: metal completed, Accuracy for genre: 100.0%\n",
      "Genre: pop completed, Accuracy for genre: 70.0%\n",
      "Genre: reggae completed, Accuracy for genre: 30.0%\n",
      "--------------------------------------\n",
      "Metric: l1, N_mfcc: 3, Train_size: 60, Test_size: 10, Window_size: 5\n",
      "Final Accuracy: 66.66666666666666%\n",
      "--------------------------------------\n"
     ]
    },
    {
     "data": {
      "text/plain": "0.6666666666666666"
     },
     "execution_count": 26,
     "metadata": {},
     "output_type": "execute_result"
    }
   ],
   "source": [
    "genres_names = [\"classical\", \"country\", \"jazz\", \"metal\", \"pop\", \"reggae\"]\n",
    "aggregated_mfccs_classifier = AggregatedMfccsClassifier(genres_names=genres_names, train_size=60)\n",
    "aggregated_mfccs_classifier.test(test_size=10, metric=\"l1\")"
   ],
   "metadata": {
    "collapsed": false
   }
  },
  {
   "cell_type": "code",
   "execution_count": 1,
   "outputs": [],
   "source": [
    "# 6 GENRES\n",
    "\n",
    "from audio_classification import *\n",
    "\n",
    "genres_names = [\"classical\", \"country\", \"jazz\", \"metal\", \"pop\", \"reggae\"]\n",
    "song_wise_classifier = SongWiseClassifier(genres_names=genres_names, train_size=40)"
   ],
   "metadata": {
    "collapsed": false
   }
  },
  {
   "cell_type": "code",
   "execution_count": 2,
   "outputs": [
    {
     "name": "stdout",
     "output_type": "stream",
     "text": [
      "Genre: classical completed, Accuracy for genre: 50.0%\n",
      "Genre: country completed, Accuracy for genre: 30.0%\n",
      "Genre: jazz completed, Accuracy for genre: 70.0%\n",
      "Genre: metal completed, Accuracy for genre: 100.0%\n",
      "Genre: pop completed, Accuracy for genre: 70.0%\n",
      "Genre: reggae completed, Accuracy for genre: 50.0%\n",
      "--------------------------------------\n",
      "Metric: l1, N_mfcc: 3, Train_size: 40, Test_size: 10, Window_size: 5\n",
      "Final Accuracy: 61.66666666666667%\n",
      "--------------------------------------\n"
     ]
    },
    {
     "data": {
      "text/plain": "0.6166666666666667"
     },
     "execution_count": 2,
     "metadata": {},
     "output_type": "execute_result"
    }
   ],
   "source": [
    "song_wise_classifier.test(test_size=10, metric=\"l1\")"
   ],
   "metadata": {
    "collapsed": false
   }
  },
  {
   "cell_type": "code",
   "execution_count": 3,
   "outputs": [
    {
     "name": "stdout",
     "output_type": "stream",
     "text": [
      "Genre: classical completed, Accuracy for genre: 50.0%\n",
      "Genre: country completed, Accuracy for genre: 30.0%\n",
      "Genre: jazz completed, Accuracy for genre: 80.0%\n",
      "Genre: metal completed, Accuracy for genre: 100.0%\n",
      "Genre: pop completed, Accuracy for genre: 60.0%\n",
      "Genre: reggae completed, Accuracy for genre: 60.0%\n",
      "--------------------------------------\n",
      "Metric: l2, N_mfcc: 3, Train_size: 40, Test_size: 10, Window_size: 5\n",
      "Final Accuracy: 63.33333333333333%\n",
      "--------------------------------------\n"
     ]
    },
    {
     "data": {
      "text/plain": "0.6333333333333333"
     },
     "execution_count": 3,
     "metadata": {},
     "output_type": "execute_result"
    }
   ],
   "source": [
    "song_wise_classifier.test(test_size=10, metric=\"l2\")"
   ],
   "metadata": {
    "collapsed": false
   }
  },
  {
   "cell_type": "code",
   "execution_count": 4,
   "outputs": [
    {
     "name": "stdout",
     "output_type": "stream",
     "text": [
      "Genre: classical completed, Accuracy for genre: 50.0%\n",
      "Genre: country completed, Accuracy for genre: 30.0%\n",
      "Genre: jazz completed, Accuracy for genre: 80.0%\n",
      "Genre: metal completed, Accuracy for genre: 100.0%\n",
      "Genre: pop completed, Accuracy for genre: 50.0%\n",
      "Genre: reggae completed, Accuracy for genre: 60.0%\n",
      "--------------------------------------\n",
      "Metric: l3, N_mfcc: 3, Train_size: 40, Test_size: 10, Window_size: 5\n",
      "Final Accuracy: 61.66666666666667%\n",
      "--------------------------------------\n"
     ]
    },
    {
     "data": {
      "text/plain": "0.6166666666666667"
     },
     "execution_count": 4,
     "metadata": {},
     "output_type": "execute_result"
    }
   ],
   "source": [
    "song_wise_classifier.test(test_size=10, metric=\"l3\")"
   ],
   "metadata": {
    "collapsed": false
   }
  },
  {
   "cell_type": "code",
   "execution_count": 5,
   "outputs": [
    {
     "name": "stdout",
     "output_type": "stream",
     "text": [
      "Genre: classical completed, Accuracy for genre: 50.0%\n",
      "Genre: country completed, Accuracy for genre: 30.0%\n",
      "Genre: jazz completed, Accuracy for genre: 80.0%\n",
      "Genre: metal completed, Accuracy for genre: 100.0%\n",
      "Genre: pop completed, Accuracy for genre: 50.0%\n",
      "Genre: reggae completed, Accuracy for genre: 60.0%\n",
      "--------------------------------------\n",
      "Metric: l_max, N_mfcc: 3, Train_size: 40, Test_size: 10, Window_size: 5\n",
      "Final Accuracy: 61.66666666666667%\n",
      "--------------------------------------\n"
     ]
    },
    {
     "data": {
      "text/plain": "0.6166666666666667"
     },
     "execution_count": 5,
     "metadata": {},
     "output_type": "execute_result"
    }
   ],
   "source": [
    "song_wise_classifier.test(test_size=10, metric=\"l_max\")"
   ],
   "metadata": {
    "collapsed": false
   }
  },
  {
   "cell_type": "code",
   "execution_count": 6,
   "outputs": [
    {
     "name": "stdout",
     "output_type": "stream",
     "text": [
      "Genre: classical completed, Accuracy for genre: 60.0%\n",
      "Genre: country completed, Accuracy for genre: 20.0%\n",
      "Genre: jazz completed, Accuracy for genre: 60.0%\n",
      "Genre: metal completed, Accuracy for genre: 100.0%\n",
      "Genre: pop completed, Accuracy for genre: 60.0%\n",
      "Genre: reggae completed, Accuracy for genre: 40.0%\n",
      "--------------------------------------\n",
      "Metric: l1, N_mfcc: 3, Train_size: 50, Test_size: 10, Window_size: 5\n",
      "Final Accuracy: 56.666666666666664%\n",
      "--------------------------------------\n",
      "Genre: classical completed, Accuracy for genre: 60.0%\n",
      "Genre: country completed, Accuracy for genre: 20.0%\n",
      "Genre: jazz completed, Accuracy for genre: 70.0%\n",
      "Genre: metal completed, Accuracy for genre: 100.0%\n",
      "Genre: pop completed, Accuracy for genre: 40.0%\n",
      "Genre: reggae completed, Accuracy for genre: 40.0%\n",
      "--------------------------------------\n",
      "Metric: l2, N_mfcc: 3, Train_size: 50, Test_size: 10, Window_size: 5\n",
      "Final Accuracy: 55.00000000000001%\n",
      "--------------------------------------\n",
      "Genre: classical completed, Accuracy for genre: 60.0%\n",
      "Genre: country completed, Accuracy for genre: 20.0%\n",
      "Genre: jazz completed, Accuracy for genre: 70.0%\n",
      "Genre: metal completed, Accuracy for genre: 100.0%\n",
      "Genre: pop completed, Accuracy for genre: 40.0%\n",
      "Genre: reggae completed, Accuracy for genre: 50.0%\n",
      "--------------------------------------\n",
      "Metric: l3, N_mfcc: 3, Train_size: 50, Test_size: 10, Window_size: 5\n",
      "Final Accuracy: 56.666666666666664%\n",
      "--------------------------------------\n",
      "Genre: classical completed, Accuracy for genre: 60.0%\n",
      "Genre: country completed, Accuracy for genre: 10.0%\n",
      "Genre: jazz completed, Accuracy for genre: 70.0%\n",
      "Genre: metal completed, Accuracy for genre: 100.0%\n",
      "Genre: pop completed, Accuracy for genre: 40.0%\n",
      "Genre: reggae completed, Accuracy for genre: 50.0%\n",
      "--------------------------------------\n",
      "Metric: l_max, N_mfcc: 3, Train_size: 50, Test_size: 10, Window_size: 5\n",
      "Final Accuracy: 55.00000000000001%\n",
      "--------------------------------------\n"
     ]
    },
    {
     "data": {
      "text/plain": "0.55"
     },
     "execution_count": 6,
     "metadata": {},
     "output_type": "execute_result"
    }
   ],
   "source": [
    "from song_wise_classifier import SongWiseClassifier\n",
    "\n",
    "genres_names = [\"classical\", \"country\", \"jazz\", \"metal\", \"pop\", \"reggae\"]\n",
    "song_wise_classifier = SongWiseClassifier(genres_names=genres_names, train_size=50)\n",
    "song_wise_classifier.test(test_size=10, metric=\"l1\")\n",
    "song_wise_classifier.test(test_size=10, metric=\"l2\")\n",
    "song_wise_classifier.test(test_size=10, metric=\"l3\")\n",
    "song_wise_classifier.test(test_size=10, metric=\"l_max\")"
   ],
   "metadata": {
    "collapsed": false
   }
  },
  {
   "cell_type": "code",
   "execution_count": 7,
   "outputs": [
    {
     "name": "stderr",
     "output_type": "stream",
     "text": [
      "D:\\aa\\skola\\NI-VMM\\ni-vmm-audio-classification\\server\\venv\\lib\\site-packages\\librosa\\util\\decorators.py:88: UserWarning: PySoundFile failed. Trying audioread instead.\n",
      "  return f(*args, **kwargs)\n"
     ]
    },
    {
     "name": "stdout",
     "output_type": "stream",
     "text": [
      "Error during load of a song: ./data/train/ jazz/jazz.00054.wav\n",
      "Genre: classical completed, Accuracy for genre: 60.0%\n",
      "Genre: country completed, Accuracy for genre: 50.0%\n",
      "Genre: jazz completed, Accuracy for genre: 50.0%\n",
      "Genre: metal completed, Accuracy for genre: 100.0%\n",
      "Genre: pop completed, Accuracy for genre: 60.0%\n",
      "Genre: reggae completed, Accuracy for genre: 40.0%\n",
      "--------------------------------------\n",
      "Metric: l1, N_mfcc: 3, Train_size: 70, Test_size: 10, Window_size: 5\n",
      "Final Accuracy: 60.0%\n",
      "--------------------------------------\n",
      "Genre: classical completed, Accuracy for genre: 60.0%\n",
      "Genre: country completed, Accuracy for genre: 40.0%\n",
      "Genre: jazz completed, Accuracy for genre: 70.0%\n",
      "Genre: metal completed, Accuracy for genre: 100.0%\n",
      "Genre: pop completed, Accuracy for genre: 60.0%\n",
      "Genre: reggae completed, Accuracy for genre: 70.0%\n",
      "--------------------------------------\n",
      "Metric: l2, N_mfcc: 3, Train_size: 70, Test_size: 10, Window_size: 5\n",
      "Final Accuracy: 66.66666666666666%\n",
      "--------------------------------------\n",
      "Genre: classical completed, Accuracy for genre: 50.0%\n",
      "Genre: country completed, Accuracy for genre: 40.0%\n",
      "Genre: jazz completed, Accuracy for genre: 70.0%\n",
      "Genre: metal completed, Accuracy for genre: 100.0%\n",
      "Genre: pop completed, Accuracy for genre: 40.0%\n",
      "Genre: reggae completed, Accuracy for genre: 70.0%\n",
      "--------------------------------------\n",
      "Metric: l3, N_mfcc: 3, Train_size: 70, Test_size: 10, Window_size: 5\n",
      "Final Accuracy: 61.66666666666667%\n",
      "--------------------------------------\n",
      "Genre: classical completed, Accuracy for genre: 50.0%\n",
      "Genre: country completed, Accuracy for genre: 40.0%\n",
      "Genre: jazz completed, Accuracy for genre: 60.0%\n",
      "Genre: metal completed, Accuracy for genre: 100.0%\n",
      "Genre: pop completed, Accuracy for genre: 40.0%\n",
      "Genre: reggae completed, Accuracy for genre: 70.0%\n",
      "--------------------------------------\n",
      "Metric: l_max, N_mfcc: 3, Train_size: 70, Test_size: 10, Window_size: 5\n",
      "Final Accuracy: 60.0%\n",
      "--------------------------------------\n"
     ]
    },
    {
     "data": {
      "text/plain": "0.6"
     },
     "execution_count": 7,
     "metadata": {},
     "output_type": "execute_result"
    }
   ],
   "source": [
    "from song_wise_classifier import SongWiseClassifier\n",
    "\n",
    "genres_names = [\"classical\", \"country\", \"jazz\", \"metal\", \"pop\", \"reggae\"]\n",
    "song_wise_classifier = SongWiseClassifier(genres_names=genres_names, train_size=70)\n",
    "song_wise_classifier.test(test_size=10, metric=\"l1\")\n",
    "song_wise_classifier.test(test_size=10, metric=\"l2\")\n",
    "song_wise_classifier.test(test_size=10, metric=\"l3\")\n",
    "song_wise_classifier.test(test_size=10, metric=\"l_max\")"
   ],
   "metadata": {
    "collapsed": false
   }
  },
  {
   "cell_type": "code",
   "execution_count": null,
   "outputs": [],
   "source": [
    "song_wise_classifier = SongWiseClassifier(genres_names=genres_names, train_size=60)"
   ],
   "metadata": {
    "collapsed": false
   }
  },
  {
   "cell_type": "code",
   "execution_count": null,
   "outputs": [],
   "source": [
    "song_wise_classifier.test(test_size=10, metric=\"l1\")"
   ],
   "metadata": {
    "collapsed": false
   }
  },
  {
   "cell_type": "code",
   "execution_count": null,
   "outputs": [],
   "source": [
    "song_wise_classifier.test(test_size=10, metric=\"l2\")"
   ],
   "metadata": {
    "collapsed": false
   }
  },
  {
   "cell_type": "code",
   "execution_count": null,
   "outputs": [],
   "source": [
    "song_wise_classifier.test(test_size=10, metric=\"l3\")"
   ],
   "metadata": {
    "collapsed": false
   }
  },
  {
   "cell_type": "code",
   "execution_count": null,
   "outputs": [],
   "source": [
    "song_wise_classifier.test(test_size=10, metric=\"l_max\")"
   ],
   "metadata": {
    "collapsed": false
   }
  },
  {
   "cell_type": "code",
   "execution_count": null,
   "outputs": [],
   "source": [
    "song_wise_classifier = SongWiseClassifier(genres_names=genres_names, train_size=90)"
   ],
   "metadata": {
    "collapsed": false
   }
  },
  {
   "cell_type": "code",
   "execution_count": null,
   "outputs": [],
   "source": [
    "song_wise_classifier.test(test_size=10, metric=\"l1\")"
   ],
   "metadata": {
    "collapsed": false
   }
  },
  {
   "cell_type": "code",
   "execution_count": null,
   "outputs": [],
   "source": [
    "song_wise_classifier.test(test_size=10, metric=\"l2\")"
   ],
   "metadata": {
    "collapsed": false
   }
  },
  {
   "cell_type": "code",
   "execution_count": null,
   "outputs": [],
   "source": [
    "song_wise_classifier.test(test_size=10, metric=\"l3\")"
   ],
   "metadata": {
    "collapsed": false
   }
  },
  {
   "cell_type": "code",
   "execution_count": null,
   "outputs": [],
   "source": [
    "song_wise_classifier.test(test_size=10, metric=\"l_max\")"
   ],
   "metadata": {
    "collapsed": false
   }
  },
  {
   "cell_type": "code",
   "execution_count": null,
   "outputs": [
    {
     "name": "stdout",
     "output_type": "stream",
     "text": [
      "[[0.00000000e+00            inf            inf ...            inf\n",
      "             inf            inf]\n",
      " [           inf 1.92810197e+02 4.04576102e+02 ...            inf\n",
      "             inf            inf]\n",
      " [           inf 3.71938294e+02 3.90446506e+02 ...            inf\n",
      "             inf            inf]\n",
      " ...\n",
      " [           inf            inf            inf ... 3.13776632e+05\n",
      "  3.13964407e+05 3.14122731e+05]\n",
      " [           inf            inf            inf ... 3.13978175e+05\n",
      "  3.14058284e+05 3.14217654e+05]\n",
      " [           inf            inf            inf ... 3.14160374e+05\n",
      "  3.14241065e+05 3.14292452e+05]]\n",
      "314292.451950511\n",
      "[[0.00000000e+00            inf            inf ...            inf\n",
      "             inf            inf]\n",
      " [           inf 9.26446140e+01 2.00381080e+02 ...            inf\n",
      "             inf            inf]\n",
      " [           inf 1.76948141e+02 1.91684642e+02 ...            inf\n",
      "             inf            inf]\n",
      " ...\n",
      " [           inf            inf            inf ... 1.42606048e+05\n",
      "  1.42671826e+05 1.42718399e+05]\n",
      " [           inf            inf            inf ... 1.42653866e+05\n",
      "  1.42717877e+05 1.42761126e+05]\n",
      " [           inf            inf            inf ... 1.42680001e+05\n",
      "  1.42742289e+05 1.42787900e+05]]\n",
      "142787.8996130685\n",
      "[[0.00000000e+00            inf            inf ...            inf\n",
      "             inf            inf]\n",
      " [           inf 9.64042030e+01 2.09405042e+02 ...            inf\n",
      "             inf            inf]\n",
      " [           inf 1.85835784e+02 2.01106242e+02 ...            inf\n",
      "             inf            inf]\n",
      " ...\n",
      " [           inf            inf            inf ... 1.91590199e+05\n",
      "  1.91705467e+05 1.91795837e+05]\n",
      " [           inf            inf            inf ... 1.91660906e+05\n",
      "  1.91753856e+05 1.91842498e+05]\n",
      " [           inf            inf            inf ... 1.91730268e+05\n",
      "  1.91824874e+05 1.91890781e+05]]\n",
      "191890.78070171014\n",
      "[[0.00000000e+00            inf            inf ...            inf\n",
      "             inf            inf]\n",
      " [           inf 3.14703971e+01 5.43314989e+01 ...            inf\n",
      "             inf            inf]\n",
      " [           inf 8.77247085e+01 6.58678377e+01 ...            inf\n",
      "             inf            inf]\n",
      " ...\n",
      " [           inf            inf            inf ... 5.67177157e+04\n",
      "  5.67281939e+04 5.67651416e+04]\n",
      " [           inf            inf            inf ... 5.67352101e+04\n",
      "  5.67430449e+04 5.67677728e+04]\n",
      " [           inf            inf            inf ... 5.67656989e+04\n",
      "  5.67711566e+04 5.67693322e+04]]\n",
      "56769.332218310396\n",
      "[[0.00000000e+00            inf            inf ...            inf\n",
      "             inf            inf]\n",
      " [           inf 4.21951660e+01 9.89596228e+01 ...            inf\n",
      "             inf            inf]\n",
      " [           inf 8.73845841e+01 8.94807553e+01 ...            inf\n",
      "             inf            inf]\n",
      " ...\n",
      " [           inf            inf            inf ... 8.42245810e+04\n",
      "  8.42466298e+04 8.42836623e+04]\n",
      " [           inf            inf            inf ... 8.42712380e+04\n",
      "  8.42919720e+04 8.43313806e+04]\n",
      " [           inf            inf            inf ... 8.43122176e+04\n",
      "  8.43239601e+04 8.43507786e+04]]\n",
      "84350.77864295512\n",
      "[[0.00000000e+00            inf            inf ...            inf\n",
      "             inf            inf]\n",
      " [           inf 7.66062645e+01 1.71113912e+02 ...            inf\n",
      "             inf            inf]\n",
      " [           inf 1.29802154e+02 1.45076042e+02 ...            inf\n",
      "             inf            inf]\n",
      " ...\n",
      " [           inf            inf            inf ... 1.12684726e+05\n",
      "  1.12722026e+05 1.12732080e+05]\n",
      " [           inf            inf            inf ... 1.12730100e+05\n",
      "  1.12769365e+05 1.12783319e+05]\n",
      " [           inf            inf            inf ... 1.12797631e+05\n",
      "  1.12831349e+05 1.12844693e+05]]\n",
      "112844.69346033048\n",
      "Agg Took 1.2076976299285889 seconds\n",
      "[[0.00000000e+00            inf            inf ...            inf\n",
      "             inf            inf]\n",
      " [           inf 1.92810197e+02 4.04576102e+02 ...            inf\n",
      "             inf            inf]\n",
      " [           inf 3.71938294e+02 3.90446506e+02 ...            inf\n",
      "             inf            inf]\n",
      " ...\n",
      " [           inf            inf            inf ... 3.13776632e+05\n",
      "  3.13964407e+05 3.14122731e+05]\n",
      " [           inf            inf            inf ... 3.13978175e+05\n",
      "  3.14058284e+05 3.14217654e+05]\n",
      " [           inf            inf            inf ... 3.14160374e+05\n",
      "  3.14241065e+05 3.14292452e+05]]\n",
      "314292.451950511\n",
      "[[0.00000000e+00            inf            inf ...            inf\n",
      "             inf            inf]\n",
      " [           inf 9.26446140e+01 2.00381080e+02 ...            inf\n",
      "             inf            inf]\n",
      " [           inf 1.76948141e+02 1.91684642e+02 ...            inf\n",
      "             inf            inf]\n",
      " ...\n",
      " [           inf            inf            inf ... 1.42606048e+05\n",
      "  1.42671826e+05 1.42718399e+05]\n",
      " [           inf            inf            inf ... 1.42653866e+05\n",
      "  1.42717877e+05 1.42761126e+05]\n",
      " [           inf            inf            inf ... 1.42680001e+05\n",
      "  1.42742289e+05 1.42787900e+05]]\n",
      "142787.8996130685\n",
      "[[0.00000000e+00            inf            inf ...            inf\n",
      "             inf            inf]\n",
      " [           inf 9.64042030e+01 2.09405042e+02 ...            inf\n",
      "             inf            inf]\n",
      " [           inf 1.85835784e+02 2.01106242e+02 ...            inf\n",
      "             inf            inf]\n",
      " ...\n",
      " [           inf            inf            inf ... 1.91590199e+05\n",
      "  1.91705467e+05 1.91795837e+05]\n",
      " [           inf            inf            inf ... 1.91660906e+05\n",
      "  1.91753856e+05 1.91842498e+05]\n",
      " [           inf            inf            inf ... 1.91730268e+05\n",
      "  1.91824874e+05 1.91890781e+05]]\n",
      "191890.78070171014\n",
      "[[0.00000000e+00            inf            inf ...            inf\n",
      "             inf            inf]\n",
      " [           inf 3.14703971e+01 5.43314989e+01 ...            inf\n",
      "             inf            inf]\n",
      " [           inf 8.77247085e+01 6.58678377e+01 ...            inf\n",
      "             inf            inf]\n",
      " ...\n",
      " [           inf            inf            inf ... 5.67177157e+04\n",
      "  5.67281939e+04 5.67651416e+04]\n",
      " [           inf            inf            inf ... 5.67352101e+04\n",
      "  5.67430449e+04 5.67677728e+04]\n",
      " [           inf            inf            inf ... 5.67656989e+04\n",
      "  5.67711566e+04 5.67693322e+04]]\n",
      "56769.332218310396\n",
      "[[0.00000000e+00            inf            inf ...            inf\n",
      "             inf            inf]\n",
      " [           inf 4.21951660e+01 9.89596228e+01 ...            inf\n",
      "             inf            inf]\n",
      " [           inf 8.73845841e+01 8.94807553e+01 ...            inf\n",
      "             inf            inf]\n",
      " ...\n",
      " [           inf            inf            inf ... 8.42245810e+04\n",
      "  8.42466298e+04 8.42836623e+04]\n",
      " [           inf            inf            inf ... 8.42712380e+04\n",
      "  8.42919720e+04 8.43313806e+04]\n",
      " [           inf            inf            inf ... 8.43122176e+04\n",
      "  8.43239601e+04 8.43507786e+04]]\n",
      "84350.77864295512\n",
      "[[0.00000000e+00            inf            inf ...            inf\n",
      "             inf            inf]\n",
      " [           inf 7.66062645e+01 1.71113912e+02 ...            inf\n",
      "             inf            inf]\n",
      " [           inf 1.29802154e+02 1.45076042e+02 ...            inf\n",
      "             inf            inf]\n",
      " ...\n",
      " [           inf            inf            inf ... 1.12684726e+05\n",
      "  1.12722026e+05 1.12732080e+05]\n",
      " [           inf            inf            inf ... 1.12730100e+05\n",
      "  1.12769365e+05 1.12783319e+05]\n",
      " [           inf            inf            inf ... 1.12797631e+05\n",
      "  1.12831349e+05 1.12844693e+05]]\n",
      "112844.69346033048\n",
      "Agg Took 1.2851109504699707 seconds\n",
      "[[0.00000000e+00            inf            inf ...            inf\n",
      "             inf            inf]\n",
      " [           inf 1.92810197e+02 4.04576102e+02 ...            inf\n",
      "             inf            inf]\n",
      " [           inf 3.71938294e+02 3.90446506e+02 ...            inf\n",
      "             inf            inf]\n",
      " ...\n",
      " [           inf            inf            inf ... 3.13776632e+05\n",
      "  3.13964407e+05 3.14122731e+05]\n",
      " [           inf            inf            inf ... 3.13978175e+05\n",
      "  3.14058284e+05 3.14217654e+05]\n",
      " [           inf            inf            inf ... 3.14160374e+05\n",
      "  3.14241065e+05 3.14292452e+05]]\n",
      "314292.451950511\n",
      "[[0.00000000e+00            inf            inf ...            inf\n",
      "             inf            inf]\n",
      " [           inf 9.26446140e+01 2.00381080e+02 ...            inf\n",
      "             inf            inf]\n",
      " [           inf 1.76948141e+02 1.91684642e+02 ...            inf\n",
      "             inf            inf]\n",
      " ...\n",
      " [           inf            inf            inf ... 1.42606048e+05\n",
      "  1.42671826e+05 1.42718399e+05]\n",
      " [           inf            inf            inf ... 1.42653866e+05\n",
      "  1.42717877e+05 1.42761126e+05]\n",
      " [           inf            inf            inf ... 1.42680001e+05\n",
      "  1.42742289e+05 1.42787900e+05]]\n",
      "142787.8996130685\n"
     ]
    },
    {
     "ename": "KeyboardInterrupt",
     "evalue": "",
     "output_type": "error",
     "traceback": [
      "\u001B[1;31m---------------------------------------------------------------------------\u001B[0m",
      "\u001B[1;31mKeyboardInterrupt\u001B[0m                         Traceback (most recent call last)",
      "Cell \u001B[1;32mIn [1], line 10\u001B[0m\n\u001B[0;32m      8\u001B[0m start_time \u001B[38;5;241m=\u001B[39m time\u001B[38;5;241m.\u001B[39mtime()\n\u001B[0;32m      9\u001B[0m audio_classifier_agg \u001B[38;5;241m=\u001B[39m AudioClassifierAggregatedMfccs(genres_names\u001B[38;5;241m=\u001B[39mgenres_names, train_size\u001B[38;5;241m=\u001B[39m\u001B[38;5;241m10\u001B[39m)\n\u001B[1;32m---> 10\u001B[0m \u001B[43maudio_classifier_agg\u001B[49m\u001B[38;5;241;43m.\u001B[39;49m\u001B[43mclassify\u001B[49m\u001B[43m(\u001B[49m\u001B[38;5;124;43m\"\u001B[39;49m\u001B[38;5;124;43mmetal.00021.wav\u001B[39;49m\u001B[38;5;124;43m\"\u001B[39;49m\u001B[43m)\u001B[49m\n\u001B[0;32m     11\u001B[0m \u001B[38;5;28mprint\u001B[39m(\u001B[38;5;124mf\u001B[39m\u001B[38;5;124m'\u001B[39m\u001B[38;5;124mAgg Took \u001B[39m\u001B[38;5;132;01m{\u001B[39;00m(time\u001B[38;5;241m.\u001B[39mtime() \u001B[38;5;241m-\u001B[39m start_time)\u001B[38;5;132;01m}\u001B[39;00m\u001B[38;5;124m seconds\u001B[39m\u001B[38;5;124m'\u001B[39m)\n\u001B[0;32m     12\u001B[0m avg_time \u001B[38;5;241m+\u001B[39m\u001B[38;5;241m=\u001B[39m time\u001B[38;5;241m.\u001B[39mtime() \u001B[38;5;241m-\u001B[39m start_time\n",
      "File \u001B[1;32mD:\\aa\\skola\\NI-VMM\\ni-vmm-audio-classification\\server\\audio_classifier.py:101\u001B[0m, in \u001B[0;36mAudioClassifierAbstract.classify\u001B[1;34m(self, audio, test)\u001B[0m\n\u001B[0;32m     98\u001B[0m distances \u001B[38;5;241m=\u001B[39m []\n\u001B[0;32m    100\u001B[0m \u001B[38;5;28;01mfor\u001B[39;00m x \u001B[38;5;129;01min\u001B[39;00m \u001B[38;5;28mself\u001B[39m\u001B[38;5;241m.\u001B[39mgenres:\n\u001B[1;32m--> 101\u001B[0m     w \u001B[38;5;241m=\u001B[39m \u001B[38;5;28;43mself\u001B[39;49m\u001B[38;5;241;43m.\u001B[39;49m\u001B[43mcompute_dist\u001B[49m\u001B[43m(\u001B[49m\u001B[43mx\u001B[49m\u001B[43m,\u001B[49m\u001B[43m \u001B[49m\u001B[43mau_mfcc\u001B[49m\u001B[43m)\u001B[49m\n\u001B[0;32m    103\u001B[0m     \u001B[38;5;28;01mif\u001B[39;00m \u001B[38;5;129;01mnot\u001B[39;00m test:\n\u001B[0;32m    104\u001B[0m         \u001B[38;5;28mprint\u001B[39m(w)\n",
      "File \u001B[1;32mD:\\aa\\skola\\NI-VMM\\ni-vmm-audio-classification\\server\\audio_classifier.py:91\u001B[0m, in \u001B[0;36mAudioClassifierAbstract.compute_dist\u001B[1;34m(self, genre_files, audio)\u001B[0m\n\u001B[0;32m     89\u001B[0m dist \u001B[38;5;241m=\u001B[39m \u001B[38;5;241m0\u001B[39m\n\u001B[0;32m     90\u001B[0m \u001B[38;5;28;01mfor\u001B[39;00m x \u001B[38;5;129;01min\u001B[39;00m genre_files:\n\u001B[1;32m---> 91\u001B[0m     dist \u001B[38;5;241m+\u001B[39m\u001B[38;5;241m=\u001B[39m (\u001B[38;5;28;43mself\u001B[39;49m\u001B[38;5;241;43m.\u001B[39;49m\u001B[43mdtw_distance\u001B[49m\u001B[43m(\u001B[49m\u001B[43mx\u001B[49m\u001B[43m,\u001B[49m\u001B[43m \u001B[49m\u001B[43maudio\u001B[49m\u001B[43m)\u001B[49m)\n\u001B[0;32m     92\u001B[0m     \u001B[38;5;66;03m# D, wp = librosa.sequence.dtw(x, audio)\u001B[39;00m\n\u001B[0;32m     93\u001B[0m     \u001B[38;5;66;03m# dist += D[-1, -1]\u001B[39;00m\n\u001B[0;32m     94\u001B[0m \u001B[38;5;28;01mreturn\u001B[39;00m dist \u001B[38;5;241m/\u001B[39m \u001B[38;5;28mlen\u001B[39m(genre_files)\n",
      "File \u001B[1;32mD:\\aa\\skola\\NI-VMM\\ni-vmm-audio-classification\\server\\audio_classifier.py:80\u001B[0m, in \u001B[0;36mAudioClassifierAbstract.dtw_distance\u001B[1;34m(self, arg1, arg2)\u001B[0m\n\u001B[0;32m     78\u001B[0m         \u001B[38;5;28;01melse\u001B[39;00m:\n\u001B[0;32m     79\u001B[0m             cost \u001B[38;5;241m=\u001B[39m \u001B[38;5;28mself\u001B[39m\u001B[38;5;241m.\u001B[39ml_metrics(arg1[:, i \u001B[38;5;241m-\u001B[39m \u001B[38;5;241m1\u001B[39m], arg2[:, j \u001B[38;5;241m-\u001B[39m \u001B[38;5;241m1\u001B[39m], exp\u001B[38;5;241m=\u001B[39m\u001B[38;5;241m2\u001B[39m)\n\u001B[1;32m---> 80\u001B[0m         DTW[i, j] \u001B[38;5;241m=\u001B[39m cost \u001B[38;5;241m+\u001B[39m \u001B[43mnp\u001B[49m\u001B[38;5;241;43m.\u001B[39;49m\u001B[43mmin\u001B[49m\u001B[43m(\u001B[49m\u001B[43m[\u001B[49m\u001B[43mDTW\u001B[49m\u001B[43m[\u001B[49m\u001B[43mi\u001B[49m\u001B[43m \u001B[49m\u001B[38;5;241;43m-\u001B[39;49m\u001B[43m \u001B[49m\u001B[38;5;241;43m1\u001B[39;49m\u001B[43m,\u001B[49m\u001B[43m \u001B[49m\u001B[43mj\u001B[49m\u001B[43m]\u001B[49m\u001B[43m,\u001B[49m\u001B[43m \u001B[49m\u001B[43mDTW\u001B[49m\u001B[43m[\u001B[49m\u001B[43mi\u001B[49m\u001B[43m,\u001B[49m\u001B[43m \u001B[49m\u001B[43mj\u001B[49m\u001B[43m \u001B[49m\u001B[38;5;241;43m-\u001B[39;49m\u001B[43m \u001B[49m\u001B[38;5;241;43m1\u001B[39;49m\u001B[43m]\u001B[49m\u001B[43m,\u001B[49m\u001B[43m \u001B[49m\u001B[43mDTW\u001B[49m\u001B[43m[\u001B[49m\u001B[43mi\u001B[49m\u001B[43m \u001B[49m\u001B[38;5;241;43m-\u001B[39;49m\u001B[43m \u001B[49m\u001B[38;5;241;43m1\u001B[39;49m\u001B[43m,\u001B[49m\u001B[43m \u001B[49m\u001B[43mj\u001B[49m\u001B[43m \u001B[49m\u001B[38;5;241;43m-\u001B[39;49m\u001B[43m \u001B[49m\u001B[38;5;241;43m1\u001B[39;49m\u001B[43m]\u001B[49m\u001B[43m]\u001B[49m\u001B[43m)\u001B[49m\n\u001B[0;32m     81\u001B[0m \u001B[38;5;28mprint\u001B[39m(DTW)\n\u001B[0;32m     82\u001B[0m \u001B[38;5;28;01mreturn\u001B[39;00m DTW[n, m]\n",
      "File \u001B[1;32m<__array_function__ internals>:180\u001B[0m, in \u001B[0;36mamin\u001B[1;34m(*args, **kwargs)\u001B[0m\n",
      "File \u001B[1;32mD:\\aa\\skola\\NI-VMM\\ni-vmm-audio-classification\\server\\venv\\lib\\site-packages\\numpy\\core\\fromnumeric.py:2918\u001B[0m, in \u001B[0;36mamin\u001B[1;34m(a, axis, out, keepdims, initial, where)\u001B[0m\n\u001B[0;32m   2802\u001B[0m \u001B[38;5;129m@array_function_dispatch\u001B[39m(_amin_dispatcher)\n\u001B[0;32m   2803\u001B[0m \u001B[38;5;28;01mdef\u001B[39;00m \u001B[38;5;21mamin\u001B[39m(a, axis\u001B[38;5;241m=\u001B[39m\u001B[38;5;28;01mNone\u001B[39;00m, out\u001B[38;5;241m=\u001B[39m\u001B[38;5;28;01mNone\u001B[39;00m, keepdims\u001B[38;5;241m=\u001B[39mnp\u001B[38;5;241m.\u001B[39m_NoValue, initial\u001B[38;5;241m=\u001B[39mnp\u001B[38;5;241m.\u001B[39m_NoValue,\n\u001B[0;32m   2804\u001B[0m          where\u001B[38;5;241m=\u001B[39mnp\u001B[38;5;241m.\u001B[39m_NoValue):\n\u001B[0;32m   2805\u001B[0m     \u001B[38;5;124;03m\"\"\"\u001B[39;00m\n\u001B[0;32m   2806\u001B[0m \u001B[38;5;124;03m    Return the minimum of an array or minimum along an axis.\u001B[39;00m\n\u001B[0;32m   2807\u001B[0m \n\u001B[1;32m   (...)\u001B[0m\n\u001B[0;32m   2916\u001B[0m \u001B[38;5;124;03m    6\u001B[39;00m\n\u001B[0;32m   2917\u001B[0m \u001B[38;5;124;03m    \"\"\"\u001B[39;00m\n\u001B[1;32m-> 2918\u001B[0m     \u001B[38;5;28;01mreturn\u001B[39;00m \u001B[43m_wrapreduction\u001B[49m(a, np\u001B[38;5;241m.\u001B[39mminimum, \u001B[38;5;124m'\u001B[39m\u001B[38;5;124mmin\u001B[39m\u001B[38;5;124m'\u001B[39m, axis, \u001B[38;5;28;01mNone\u001B[39;00m, out,\n\u001B[0;32m   2919\u001B[0m                           keepdims\u001B[38;5;241m=\u001B[39mkeepdims, initial\u001B[38;5;241m=\u001B[39minitial, where\u001B[38;5;241m=\u001B[39mwhere)\n",
      "\u001B[1;31mKeyboardInterrupt\u001B[0m: "
     ]
    }
   ],
   "source": [
    "from song_wise_classifier import SongWiseClassifier\n",
    "from aggregated_mfccs_classifier import AggregatedMfccsClassifier\n",
    "import time\n",
    "\n",
    "genres_names = [\"classical\", \"country\", \"jazz\", \"metal\", \"pop\", \"reggae\"]\n",
    "avg_time = 0\n",
    "for _ in range(10):\n",
    "    start_time = time.time()\n",
    "    song_wise_classifier_agg = AggregatedMfccsClassifier(genres_names=genres_names, train_size=10)\n",
    "    song_wise_classifier_agg.classify(\"metal.00021.wav\")\n",
    "    print(f'Agg Took {(time.time() - start_time)} seconds')\n",
    "    avg_time += time.time() - start_time\n",
    "print(f'Avg time: {avg_time/10}')"
   ],
   "metadata": {
    "collapsed": false
   }
  },
  {
   "cell_type": "code",
   "execution_count": 19,
   "outputs": [
    {
     "name": "stdout",
     "output_type": "stream",
     "text": [
      "348576.74165271345\n",
      "168440.19150232273\n",
      "224807.88135283376\n",
      "90467.98189623604\n",
      "128205.83792446989\n",
      "172232.06841762242\n",
      "Normal Took 83.78020787239075 seconds\n",
      "327788.45259968005\n",
      "151925.04472690602\n",
      "219029.24459821288\n",
      "91763.29589989549\n",
      "126420.24891323337\n",
      "171729.1869579582\n",
      "Normal Took 78.73710632324219 seconds\n",
      "353443.15961868654\n",
      "154757.63316565985\n",
      "221841.2478085379\n",
      "89121.56641785645\n",
      "132911.7050910454\n",
      "176581.3000981969\n",
      "Normal Took 79.38536524772644 seconds\n",
      "329673.7497864367\n",
      "153963.37407486187\n",
      "208735.588602189\n",
      "88277.41835000383\n",
      "125718.2018771101\n",
      "168599.9136303729\n",
      "Normal Took 79.79659152030945 seconds\n",
      "Error during load of a song: ./data/train/ jazz/jazz.00054.wav\n",
      "369106.92412491346\n",
      "157395.56469238544\n",
      "215438.39432726227\n",
      "90754.75236219706\n",
      "121383.53290822143\n",
      "158387.62378891095\n",
      "Normal Took 84.3786895275116 seconds\n",
      "355853.6753447002\n",
      "162358.70376232424\n",
      "225410.27768345628\n",
      "90378.20067990721\n",
      "127490.98067891815\n",
      "162636.27434953285\n",
      "Normal Took 79.96482801437378 seconds\n",
      "Error during load of a song: ./data/train/ jazz/jazz.00054.wav\n",
      "348531.0792853171\n",
      "165646.73817424133\n",
      "234856.50412141232\n",
      "83989.61918627615\n",
      "122817.48801628713\n",
      "170331.2564549797\n",
      "Normal Took 86.45453143119812 seconds\n",
      "356106.54394719296\n",
      "158484.0490528488\n",
      "196717.85725104288\n",
      "87032.94210363133\n",
      "124343.29287558267\n",
      "160605.99149508114\n",
      "Normal Took 83.22733688354492 seconds\n",
      "350944.91360993957\n",
      "164265.94091367198\n",
      "220947.7477246114\n",
      "89500.45049733859\n",
      "124443.74832289158\n",
      "167194.32818567875\n",
      "Normal Took 95.46176958084106 seconds\n",
      "355605.6351561506\n",
      "150806.98126775137\n",
      "205225.19632443044\n",
      "86433.21424840881\n",
      "127561.16016437823\n",
      "167923.7744487024\n",
      "Normal Took 82.78098607063293 seconds\n",
      "Avg time: 83.39674124717712\n"
     ]
    }
   ],
   "source": [
    "from song_wise_classifier import SongWiseClassifier\n",
    "import time\n",
    "\n",
    "genres_names = [\"classical\", \"country\", \"jazz\", \"metal\", \"pop\", \"reggae\"]\n",
    "avg_time = 0\n",
    "for _ in range(10):\n",
    "    start_time = time.time()\n",
    "    song_wise_classifier = SongWiseClassifier(genres_names=genres_names, train_size=40)\n",
    "    song_wise_classifier.classify(\"metal.00021.wav\")\n",
    "    print(f'Normal Took {(time.time() - start_time)} seconds')\n",
    "    avg_time += time.time() - start_time\n",
    "print(f'Avg time: {avg_time/10}')"
   ],
   "metadata": {
    "collapsed": false
   }
  },
  {
   "cell_type": "code",
   "execution_count": null,
   "outputs": [],
   "source": [],
   "metadata": {
    "collapsed": false
   }
  }
 ],
 "metadata": {
  "kernelspec": {
   "display_name": "Python 3 (ipykernel)",
   "language": "python",
   "name": "python3"
  },
  "language_info": {
   "codemirror_mode": {
    "name": "ipython",
    "version": 3
   },
   "file_extension": ".py",
   "mimetype": "text/x-python",
   "name": "python",
   "nbconvert_exporter": "python",
   "pygments_lexer": "ipython3",
   "version": "3.8.10"
  }
 },
 "nbformat": 4,
 "nbformat_minor": 5
}
